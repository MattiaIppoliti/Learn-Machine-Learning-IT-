{
 "cells": [
  {
   "attachments": {},
   "cell_type": "markdown",
   "metadata": {},
   "source": [
    "## KNN con python e scikit-learn"
   ]
  },
  {
   "cell_type": "markdown",
   "metadata": {},
   "source": [
    "[cosa sono gli scikits](https://svn.scipy.org/scikits.html)<br>\n",
    "[scikit-learn FAQ](https://scikit-learn.org/stable/faq.html)<br>\n",
    "[introduzione a scikit-learn: guiding principles and basics](https://jakevdp.github.io/PythonDataScienceHandbook/05.02-introducing-scikit-learn.html)<br>\n",
    "[sviluppare stimatori con l'API di scikit-learn](https://scikit-learn.org/stable/developers/develop.html)<br>\n",
    "[tutorial su statistical learning con scikit-learn](https://scikit-learn.org/stable/tutorial/statistical_inference/index.html)<br>\n",
    "[supervised learning con scikit-learn](https://scikit-learn.org/stable/tutorial/statistical_inference/supervised_learning.html)"
   ]
  },
  {
   "cell_type": "code",
   "execution_count": 1,
   "metadata": {},
   "outputs": [
    {
     "name": "stdout",
     "output_type": "stream",
     "text": [
      "[[5.1 3.5 1.4 0.2]\n",
      " [4.9 3.  1.4 0.2]\n",
      " [4.7 3.2 1.3 0.2]\n",
      " [4.6 3.1 1.5 0.2]\n",
      " [5.  3.6 1.4 0.2]\n",
      " [5.4 3.9 1.7 0.4]\n",
      " [4.6 3.4 1.4 0.3]\n",
      " [5.  3.4 1.5 0.2]\n",
      " [4.4 2.9 1.4 0.2]\n",
      " [4.9 3.1 1.5 0.1]\n",
      " [5.4 3.7 1.5 0.2]\n",
      " [4.8 3.4 1.6 0.2]\n",
      " [4.8 3.  1.4 0.1]\n",
      " [4.3 3.  1.1 0.1]\n",
      " [5.8 4.  1.2 0.2]\n",
      " [5.7 4.4 1.5 0.4]\n",
      " [5.4 3.9 1.3 0.4]\n",
      " [5.1 3.5 1.4 0.3]\n",
      " [5.7 3.8 1.7 0.3]\n",
      " [5.1 3.8 1.5 0.3]\n",
      " [5.4 3.4 1.7 0.2]\n",
      " [5.1 3.7 1.5 0.4]\n",
      " [4.6 3.6 1.  0.2]\n",
      " [5.1 3.3 1.7 0.5]\n",
      " [4.8 3.4 1.9 0.2]\n",
      " [5.  3.  1.6 0.2]\n",
      " [5.  3.4 1.6 0.4]\n",
      " [5.2 3.5 1.5 0.2]\n",
      " [5.2 3.4 1.4 0.2]\n",
      " [4.7 3.2 1.6 0.2]\n",
      " [4.8 3.1 1.6 0.2]\n",
      " [5.4 3.4 1.5 0.4]\n",
      " [5.2 4.1 1.5 0.1]\n",
      " [5.5 4.2 1.4 0.2]\n",
      " [4.9 3.1 1.5 0.2]\n",
      " [5.  3.2 1.2 0.2]\n",
      " [5.5 3.5 1.3 0.2]\n",
      " [4.9 3.6 1.4 0.1]\n",
      " [4.4 3.  1.3 0.2]\n",
      " [5.1 3.4 1.5 0.2]\n",
      " [5.  3.5 1.3 0.3]\n",
      " [4.5 2.3 1.3 0.3]\n",
      " [4.4 3.2 1.3 0.2]\n",
      " [5.  3.5 1.6 0.6]\n",
      " [5.1 3.8 1.9 0.4]\n",
      " [4.8 3.  1.4 0.3]\n",
      " [5.1 3.8 1.6 0.2]\n",
      " [4.6 3.2 1.4 0.2]\n",
      " [5.3 3.7 1.5 0.2]\n",
      " [5.  3.3 1.4 0.2]\n",
      " [7.  3.2 4.7 1.4]\n",
      " [6.4 3.2 4.5 1.5]\n",
      " [6.9 3.1 4.9 1.5]\n",
      " [5.5 2.3 4.  1.3]\n",
      " [6.5 2.8 4.6 1.5]\n",
      " [5.7 2.8 4.5 1.3]\n",
      " [6.3 3.3 4.7 1.6]\n",
      " [4.9 2.4 3.3 1. ]\n",
      " [6.6 2.9 4.6 1.3]\n",
      " [5.2 2.7 3.9 1.4]\n",
      " [5.  2.  3.5 1. ]\n",
      " [5.9 3.  4.2 1.5]\n",
      " [6.  2.2 4.  1. ]\n",
      " [6.1 2.9 4.7 1.4]\n",
      " [5.6 2.9 3.6 1.3]\n",
      " [6.7 3.1 4.4 1.4]\n",
      " [5.6 3.  4.5 1.5]\n",
      " [5.8 2.7 4.1 1. ]\n",
      " [6.2 2.2 4.5 1.5]\n",
      " [5.6 2.5 3.9 1.1]\n",
      " [5.9 3.2 4.8 1.8]\n",
      " [6.1 2.8 4.  1.3]\n",
      " [6.3 2.5 4.9 1.5]\n",
      " [6.1 2.8 4.7 1.2]\n",
      " [6.4 2.9 4.3 1.3]\n",
      " [6.6 3.  4.4 1.4]\n",
      " [6.8 2.8 4.8 1.4]\n",
      " [6.7 3.  5.  1.7]\n",
      " [6.  2.9 4.5 1.5]\n",
      " [5.7 2.6 3.5 1. ]\n",
      " [5.5 2.4 3.8 1.1]\n",
      " [5.5 2.4 3.7 1. ]\n",
      " [5.8 2.7 3.9 1.2]\n",
      " [6.  2.7 5.1 1.6]\n",
      " [5.4 3.  4.5 1.5]\n",
      " [6.  3.4 4.5 1.6]\n",
      " [6.7 3.1 4.7 1.5]\n",
      " [6.3 2.3 4.4 1.3]\n",
      " [5.6 3.  4.1 1.3]\n",
      " [5.5 2.5 4.  1.3]\n",
      " [5.5 2.6 4.4 1.2]\n",
      " [6.1 3.  4.6 1.4]\n",
      " [5.8 2.6 4.  1.2]\n",
      " [5.  2.3 3.3 1. ]\n",
      " [5.6 2.7 4.2 1.3]\n",
      " [5.7 3.  4.2 1.2]\n",
      " [5.7 2.9 4.2 1.3]\n",
      " [6.2 2.9 4.3 1.3]\n",
      " [5.1 2.5 3.  1.1]\n",
      " [5.7 2.8 4.1 1.3]\n",
      " [6.3 3.3 6.  2.5]\n",
      " [5.8 2.7 5.1 1.9]\n",
      " [7.1 3.  5.9 2.1]\n",
      " [6.3 2.9 5.6 1.8]\n",
      " [6.5 3.  5.8 2.2]\n",
      " [7.6 3.  6.6 2.1]\n",
      " [4.9 2.5 4.5 1.7]\n",
      " [7.3 2.9 6.3 1.8]\n",
      " [6.7 2.5 5.8 1.8]\n",
      " [7.2 3.6 6.1 2.5]\n",
      " [6.5 3.2 5.1 2. ]\n",
      " [6.4 2.7 5.3 1.9]\n",
      " [6.8 3.  5.5 2.1]\n",
      " [5.7 2.5 5.  2. ]\n",
      " [5.8 2.8 5.1 2.4]\n",
      " [6.4 3.2 5.3 2.3]\n",
      " [6.5 3.  5.5 1.8]\n",
      " [7.7 3.8 6.7 2.2]\n",
      " [7.7 2.6 6.9 2.3]\n",
      " [6.  2.2 5.  1.5]\n",
      " [6.9 3.2 5.7 2.3]\n",
      " [5.6 2.8 4.9 2. ]\n",
      " [7.7 2.8 6.7 2. ]\n",
      " [6.3 2.7 4.9 1.8]\n",
      " [6.7 3.3 5.7 2.1]\n",
      " [7.2 3.2 6.  1.8]\n",
      " [6.2 2.8 4.8 1.8]\n",
      " [6.1 3.  4.9 1.8]\n",
      " [6.4 2.8 5.6 2.1]\n",
      " [7.2 3.  5.8 1.6]\n",
      " [7.4 2.8 6.1 1.9]\n",
      " [7.9 3.8 6.4 2. ]\n",
      " [6.4 2.8 5.6 2.2]\n",
      " [6.3 2.8 5.1 1.5]\n",
      " [6.1 2.6 5.6 1.4]\n",
      " [7.7 3.  6.1 2.3]\n",
      " [6.3 3.4 5.6 2.4]\n",
      " [6.4 3.1 5.5 1.8]\n",
      " [6.  3.  4.8 1.8]\n",
      " [6.9 3.1 5.4 2.1]\n",
      " [6.7 3.1 5.6 2.4]\n",
      " [6.9 3.1 5.1 2.3]\n",
      " [5.8 2.7 5.1 1.9]\n",
      " [6.8 3.2 5.9 2.3]\n",
      " [6.7 3.3 5.7 2.5]\n",
      " [6.7 3.  5.2 2.3]\n",
      " [6.3 2.5 5.  1.9]\n",
      " [6.5 3.  5.2 2. ]\n",
      " [6.2 3.4 5.4 2.3]\n",
      " [5.9 3.  5.1 1.8]]\n",
      "<class 'numpy.ndarray'>\n"
     ]
    }
   ],
   "source": [
    "import numpy as np\n",
    "from sklearn import datasets              # sklearn is part of scikit-learn (so 46113732)\n",
    "from sklearn.datasets import load_iris\n",
    "iris = load_iris()                        # è un oggetto scikit-learn, inclusivo di documentazione. Non è ancora un df pandas.\n",
    "print(iris.data)                          # le variabili di previsione,\n",
    "                                          # aka, feature, predittori, variabili indipendenti, dimensioni, assi di analisi, colonne, \n",
    "                                            #attributi\n",
    "print(type(iris.data))"
   ]
  },
  {
   "cell_type": "markdown",
   "metadata": {},
   "source": [
    "Vediamo ora la validazione del modello: il modo sbagliato ed il modo giusto \n",
    "[(fonte)](https://jakevdp.github.io/PythonDataScienceHandbook/05.03-hyperparameters-and-model-validation.html)."
   ]
  },
  {
   "cell_type": "markdown",
   "metadata": {},
   "source": [
    "### il modo sbagliato"
   ]
  },
  {
   "cell_type": "code",
   "execution_count": 2,
   "metadata": {},
   "outputs": [
    {
     "data": {
      "text/plain": [
       "KNeighborsClassifier(n_neighbors=1)"
      ]
     },
     "execution_count": 2,
     "metadata": {},
     "output_type": "execute_result"
    }
   ],
   "source": [
    "from sklearn.neighbors import KNeighborsClassifier # il classificatore knn\n",
    "model = KNeighborsClassifier(n_neighbors=1)        # costruzione con k=1 dell'oggetto (in knn NON c'è un modello \n",
    "                                                   # in senso stretto)\n",
    "model"
   ]
  },
  {
   "cell_type": "code",
   "execution_count": 3,
   "metadata": {},
   "outputs": [],
   "source": [
    "X = iris.data\n",
    "y = iris.target"
   ]
  },
  {
   "cell_type": "code",
   "execution_count": 4,
   "metadata": {},
   "outputs": [
    {
     "name": "stdout",
     "output_type": "stream",
     "text": [
      "(150, 4)\n",
      "(150,)\n"
     ]
    }
   ],
   "source": [
    "print(X.shape)\n",
    "print(y.shape)"
   ]
  },
  {
   "cell_type": "code",
   "execution_count": 5,
   "metadata": {},
   "outputs": [],
   "source": [
    "from sklearn import metrics                        # le metriche per valutare la capacità predittiva degli algoritmi"
   ]
  },
  {
   "cell_type": "code",
   "execution_count": 6,
   "metadata": {},
   "outputs": [],
   "source": [
    "model.fit(X,y)\n",
    "y_pred = model.predict(X)                          # la pseudo-previsione dei nuovi valori"
   ]
  },
  {
   "cell_type": "code",
   "execution_count": 7,
   "metadata": {},
   "outputs": [
    {
     "data": {
      "text/plain": [
       "1.0"
      ]
     },
     "execution_count": 7,
     "metadata": {},
     "output_type": "execute_result"
    }
   ],
   "source": [
    "metrics.accuracy_score(y,y_pred)                   # come è possibile? un modello che prevede sempre correttamente?\n",
    "                                                   # errore di fondo (concettuale): training e valutazione sullo stesso dataset.\n",
    "                                                   # [inoltre knn è instance-based, il fit semplicemente memorizza i dati di\n",
    "                                                   # training, e la predict confronta i nuovi dati con questi: salvo casi \n",
    "                                                   # particolari l'accuratezza risulta così del 100%]"
   ]
  },
  {
   "cell_type": "markdown",
   "metadata": {},
   "source": [
    "[metrics and scoring](https://scikit-learn.org/stable/modules/model_evaluation.html)"
   ]
  },
  {
   "cell_type": "markdown",
   "metadata": {},
   "source": [
    "### il modo giusto\n",
    "Serve un dataset dedicato alla valutazione dell'algoritmo, chiamato in vari modi:\n",
    "* **test** dataset\n",
    "* **validation** dataset\n",
    "* hold-out dataset\n",
    "* out-of-sample dataset\n",
    "* new, unseen dataset\n",
    "* \"designated in advance dataset (ISLR)\""
   ]
  },
  {
   "cell_type": "code",
   "execution_count": 8,
   "metadata": {},
   "outputs": [],
   "source": [
    "from sklearn.model_selection import train_test_split\n",
    "X_train, X_test, y_train, y_test = train_test_split(X,y, test_size=0.3,random_state=1)"
   ]
  },
  {
   "cell_type": "code",
   "execution_count": 9,
   "metadata": {},
   "outputs": [
    {
     "data": {
      "text/plain": [
       "numpy.ndarray"
      ]
     },
     "execution_count": 9,
     "metadata": {},
     "output_type": "execute_result"
    }
   ],
   "source": [
    "type(X_train) # scikit-learn lavora (come input) con array NUMERICHE numpy o matrici NUMERICHE SPARSE di scipy"
   ]
  },
  {
   "cell_type": "code",
   "execution_count": 10,
   "metadata": {},
   "outputs": [
    {
     "data": {
      "text/plain": [
       "(105, 4)"
      ]
     },
     "execution_count": 10,
     "metadata": {},
     "output_type": "execute_result"
    }
   ],
   "source": [
    "X_train.shape"
   ]
  },
  {
   "cell_type": "code",
   "execution_count": 11,
   "metadata": {},
   "outputs": [
    {
     "data": {
      "text/plain": [
       "(45, 4)"
      ]
     },
     "execution_count": 11,
     "metadata": {},
     "output_type": "execute_result"
    }
   ],
   "source": [
    "X_test.shape"
   ]
  },
  {
   "cell_type": "code",
   "execution_count": 12,
   "metadata": {},
   "outputs": [
    {
     "data": {
      "text/plain": [
       "(105,)"
      ]
     },
     "execution_count": 12,
     "metadata": {},
     "output_type": "execute_result"
    }
   ],
   "source": [
    "y_train.shape"
   ]
  },
  {
   "cell_type": "code",
   "execution_count": 13,
   "metadata": {},
   "outputs": [
    {
     "data": {
      "text/plain": [
       "(45,)"
      ]
     },
     "execution_count": 13,
     "metadata": {},
     "output_type": "execute_result"
    }
   ],
   "source": [
    "y_test.shape"
   ]
  },
  {
   "cell_type": "code",
   "execution_count": 14,
   "metadata": {},
   "outputs": [],
   "source": [
    "knn_classifier = KNeighborsClassifier(n_neighbors=3) # costruzione di un classificatore 1-NN (vuoto, senza ancora i dati).\n",
    "                                                     # è il famoso metodo COSTRUTTORE che, per ogni classe OO, crea la \n",
    "                                                     # nuova istanza (oggetto).\n",
    "                                                     # k è l'iper-parametro (cioè il parametro di tuning);\n",
    "                                                     # più esattamente, l'iper-parametro è N/k (ESL, p. 15)\n",
    "                \n",
    "# \"Objects in python are created by calling a special type of method in the class known as a constructor.\"<br>"
   ]
  },
  {
   "cell_type": "code",
   "execution_count": 15,
   "metadata": {},
   "outputs": [
    {
     "data": {
      "text/plain": [
       "KNeighborsClassifier(n_neighbors=3)"
      ]
     },
     "execution_count": 15,
     "metadata": {},
     "output_type": "execute_result"
    }
   ],
   "source": [
    "knn_classifier"
   ]
  },
  {
   "cell_type": "code",
   "execution_count": 16,
   "metadata": {},
   "outputs": [
    {
     "data": {
      "text/plain": [
       "KNeighborsClassifier(n_neighbors=3)"
      ]
     },
     "execution_count": 16,
     "metadata": {},
     "output_type": "execute_result"
    }
   ],
   "source": [
    "knn_classifier.fit(X_train,y_train) # store dei dati di training (knn è un metodo non-parametrico instance-based)\n",
    "                                    # è una pseudo-fit, per rispettare la struttura fit-predict-transform di scikit-learn.\n",
    "    \n",
    "                                    #######################################################################################\n",
    "                                    # The training phase of the algorithm consists only of storing the feature vectors    #\n",
    "                                    # and class labels of the training samples.                                           #\n",
    "                                    #######################################################################################                                       "
   ]
  },
  {
   "cell_type": "code",
   "execution_count": 17,
   "metadata": {},
   "outputs": [],
   "source": [
    "y_pred = knn_classifier.predict(X_test) # la previsione dei nuovi valori"
   ]
  },
  {
   "cell_type": "code",
   "execution_count": 18,
   "metadata": {},
   "outputs": [
    {
     "data": {
      "text/plain": [
       "array([0, 1, 1, 0, 2, 1, 2, 0, 0, 2, 1, 0, 2, 1, 1, 0, 1, 1, 0, 0, 1, 1,\n",
       "       1, 0, 2, 1, 0, 0, 1, 2, 1, 2, 1, 2, 2, 0, 1, 0, 1, 2, 2, 0, 1, 2,\n",
       "       1])"
      ]
     },
     "execution_count": 18,
     "metadata": {},
     "output_type": "execute_result"
    }
   ],
   "source": [
    "y_pred"
   ]
  },
  {
   "cell_type": "code",
   "execution_count": 19,
   "metadata": {},
   "outputs": [
    {
     "name": "stdout",
     "output_type": "stream",
     "text": [
      "Accuratezza:  0.98\n"
     ]
    }
   ],
   "source": [
    "print(\"Accuratezza: \", np.round_(metrics.accuracy_score(y_test,y_pred),2)) # confronto le risposte effettive (actual) vs quelle previste"
   ]
  },
  {
   "cell_type": "code",
   "execution_count": 20,
   "metadata": {},
   "outputs": [
    {
     "name": "stdout",
     "output_type": "stream",
     "text": [
      "<class 'list'>\n",
      "[[5, 5, 3, 2], [2, 4, 3, 5], [3, 4, 4, 4]]\n"
     ]
    }
   ],
   "source": [
    "# VERE previsioni con i dati di 3 NUOVI fiori iris:\n",
    "sample_data = [[5,5,3,2],[2,4,3,5],[3,4,4,4]] # una lista\n",
    "print(type(sample_data))\n",
    "print(sample_data)"
   ]
  },
  {
   "cell_type": "code",
   "execution_count": 21,
   "metadata": {},
   "outputs": [
    {
     "name": "stdout",
     "output_type": "stream",
     "text": [
      "[1 2 2]\n"
     ]
    }
   ],
   "source": [
    "new_preds = knn_classifier.predict(sample_data) # questo ogetto knn è stato costruito sul dataset di training;\n",
    "                                                # in realtà, l'uso più comune è quello, una volta accertata l'accuratezza\n",
    "                                                # del metodo sul test set, di RICOMPORRE il training e test set e RIESEGUIRE\n",
    "                                                # il fit sul dataset COMPLETO, allo scopo di utilizzare il maggior numero\n",
    "                                                # possibile di righe. \n",
    "print(new_preds) # le tre classi previste"
   ]
  },
  {
   "cell_type": "code",
   "execution_count": 22,
   "metadata": {},
   "outputs": [
    {
     "data": {
      "text/plain": [
       "['versicolor', 'virginica', 'virginica']"
      ]
     },
     "execution_count": 22,
     "metadata": {},
     "output_type": "execute_result"
    }
   ],
   "source": [
    "# rendiamole più leggibili:\n",
    "pred_species = [iris.target_names[p] for p in new_preds] # \"list comprehension\" (alternativo ad una for)\n",
    "pred_species"
   ]
  },
  {
   "cell_type": "code",
   "execution_count": 23,
   "metadata": {},
   "outputs": [
    {
     "name": "stdout",
     "output_type": "stream",
     "text": [
      "versicolor\n",
      "virginica\n",
      "virginica\n"
     ]
    }
   ],
   "source": [
    "for p in new_preds:                     # ciclo classico (alternativo alla list comprehension)\n",
    "    print(iris.target_names[p])"
   ]
  },
  {
   "cell_type": "code",
   "execution_count": 24,
   "metadata": {},
   "outputs": [],
   "source": [
    "# per problemi di classificazione multi-classe (k>2, dove qui k è il numero di classi della risposta e NON la dimensione\n",
    "# del vicinato):\n",
    "# - alcuni algoritmi di ML (knn, SVM, ecc) usano lo schema One vs All (OVA), aka One vs Rest (OvR), che permette di costruire \n",
    "#   solo k classificatori OvA (uno per classe, detta \"classe di interesse\", che è la classe positiva, mentre tutte le altre sono\n",
    "#   considerate negative) anzichè costruire (k over 2) classificatori binari;\n",
    "# - altri metodi di ML, invece, forniscono di loro (nativamente) le probabilità delle varie singole classi (ad es. LDA o \n",
    "#   Naive Bayes)"
   ]
  },
  {
   "cell_type": "markdown",
   "metadata": {},
   "source": [
    "![One vs All](images_knn/OvA.png) "
   ]
  },
  {
   "cell_type": "code",
   "execution_count": 25,
   "metadata": {},
   "outputs": [
    {
     "name": "stdout",
     "output_type": "stream",
     "text": [
      "[1. 0. 0. 1. 0. 0. 0. 1. 1. 0.]\n",
      "[0.         1.         1.         0.         0.         0.66666667\n",
      " 0.         0.         0.         0.        ]\n",
      "[0.         0.         0.         0.         1.         0.33333333\n",
      " 1.         0.         0.         1.        ]\n"
     ]
    }
   ],
   "source": [
    "# e le probabilità? tutti i metodi di classificazione di scikit-learn hanno il metodo 'predict_proba' per la \n",
    "# 'probabilistic classification'\n",
    "print(knn_classifier.predict_proba(X_test)[0:10,0])\n",
    "print(knn_classifier.predict_proba(X_test)[0:10,1])\n",
    "print(knn_classifier.predict_proba(X_test)[0:10,2])"
   ]
  },
  {
   "cell_type": "code",
   "execution_count": 26,
   "metadata": {},
   "outputs": [
    {
     "name": "stdout",
     "output_type": "stream",
     "text": [
      "0.0\n",
      "0.6666666666666666\n",
      "0.3333333333333333\n"
     ]
    }
   ],
   "source": [
    "print(knn_classifier.predict_proba(X_test)[5,0])\n",
    "print(knn_classifier.predict_proba(X_test)[5,1])\n",
    "print(knn_classifier.predict_proba(X_test)[5,2])"
   ]
  },
  {
   "cell_type": "code",
   "execution_count": 27,
   "metadata": {},
   "outputs": [
    {
     "name": "stdout",
     "output_type": "stream",
     "text": [
      "1\n"
     ]
    }
   ],
   "source": [
    "print(knn_classifier.predict(X_test)[5])"
   ]
  },
  {
   "cell_type": "markdown",
   "metadata": {},
   "source": [
    "[esempio istruttivo](https://stackoverflow.com/questions/37089177/probability-prediction-method-of-kneighborsclassifier-returns-only-0-and-1)"
   ]
  },
  {
   "cell_type": "code",
   "execution_count": 28,
   "metadata": {},
   "outputs": [
    {
     "name": "stdout",
     "output_type": "stream",
     "text": [
      "[[1.   0.   0.  ]\n",
      " [0.2  0.76 0.04]\n",
      " [0.   0.76 0.24]\n",
      " [1.   0.   0.  ]\n",
      " [0.   0.04 0.96]\n",
      " [0.   0.56 0.44]\n",
      " [0.   0.16 0.84]\n",
      " [1.   0.   0.  ]\n",
      " [1.   0.   0.  ]\n",
      " [0.   0.04 0.96]\n",
      " [0.   0.88 0.12]\n",
      " [1.   0.   0.  ]\n",
      " [0.   0.04 0.96]\n",
      " [0.   0.68 0.32]\n",
      " [0.   0.76 0.24]\n",
      " [1.   0.   0.  ]\n",
      " [0.   0.92 0.08]\n",
      " [0.   0.64 0.36]\n",
      " [1.   0.   0.  ]\n",
      " [1.   0.   0.  ]\n",
      " [0.   0.88 0.12]\n",
      " [0.   0.64 0.36]\n",
      " [0.   0.36 0.64]\n",
      " [1.   0.   0.  ]\n",
      " [0.   0.04 0.96]\n",
      " [0.   0.88 0.12]\n",
      " [1.   0.   0.  ]\n",
      " [1.   0.   0.  ]\n",
      " [0.   0.76 0.24]\n",
      " [0.   0.24 0.76]\n",
      " [0.   0.76 0.24]\n",
      " [0.   0.04 0.96]\n",
      " [0.   0.96 0.04]\n",
      " [0.   0.04 0.96]\n",
      " [0.   0.12 0.88]\n",
      " [1.   0.   0.  ]\n",
      " [0.   0.96 0.04]\n",
      " [1.   0.   0.  ]\n",
      " [0.   0.68 0.32]\n",
      " [0.   0.16 0.84]\n",
      " [0.   0.04 0.96]\n",
      " [1.   0.   0.  ]\n",
      " [0.   0.44 0.56]\n",
      " [0.   0.08 0.92]\n",
      " [0.   0.68 0.32]]\n"
     ]
    }
   ],
   "source": [
    "from sklearn.neighbors import KNeighborsClassifier\n",
    "knn = KNeighborsClassifier(n_neighbors=25, algorithm='ball_tree', metric='euclidean') # k=25 (cioè aumento la dimensione\n",
    "                                                                                      # del vicinato)\n",
    "knn.fit(X_train, y_train)\n",
    "\n",
    "print(knn.predict_proba(X_test)[:,:])"
   ]
  },
  {
   "cell_type": "code",
   "execution_count": 29,
   "metadata": {},
   "outputs": [
    {
     "ename": "AttributeError",
     "evalue": "'KNeighborsClassifier' object has no attribute 'params_'",
     "output_type": "error",
     "traceback": [
      "\u001b[1;31m---------------------------------------------------------------------------\u001b[0m",
      "\u001b[1;31mAttributeError\u001b[0m                            Traceback (most recent call last)",
      "\u001b[1;32m~\\AppData\\Local\\Temp/ipykernel_15664/878623099.py\u001b[0m in \u001b[0;36m<module>\u001b[1;34m\u001b[0m\n\u001b[1;32m----> 1\u001b[1;33m \u001b[0mknn\u001b[0m\u001b[1;33m.\u001b[0m\u001b[0mparams_\u001b[0m                                  \u001b[1;31m# un metodo NON-parametrico, come appunto il knn, per definizione\u001b[0m\u001b[1;33m\u001b[0m\u001b[1;33m\u001b[0m\u001b[0m\n\u001b[0m\u001b[0;32m      2\u001b[0m                                              \u001b[1;31m# NON ha parametri\u001b[0m\u001b[1;33m\u001b[0m\u001b[1;33m\u001b[0m\u001b[0m\n",
      "\u001b[1;31mAttributeError\u001b[0m: 'KNeighborsClassifier' object has no attribute 'params_'"
     ]
    }
   ],
   "source": [
    "knn.params_                                  # un metodo NON-parametrico, come appunto il knn, per definizione \n",
    "                                             # NON ha parametri"
   ]
  },
  {
   "cell_type": "markdown",
   "metadata": {},
   "source": [
    "## Dati di input agli stimatori di scikit-learn"
   ]
  },
  {
   "cell_type": "code",
   "execution_count": 30,
   "metadata": {},
   "outputs": [
    {
     "data": {
      "text/plain": [
       "pandas.core.frame.DataFrame"
      ]
     },
     "execution_count": 30,
     "metadata": {},
     "output_type": "execute_result"
    }
   ],
   "source": [
    "import pandas as pd\n",
    "df = pd.DataFrame(data= np.c_[iris['data'], iris['target']],\n",
    "                     columns= list(iris['feature_names']) + ['target'])\n",
    "type(df)\n",
    "                     # come già visto prima:\n",
    "                     # \"To convert a scikit-learn dataset to a pandas dataset you can use the pd.DataFrame constructor, giving\n",
    "                     # a numpy array (data) and a list of the names of the columns (columns). To have everything in one \n",
    "                     # DataFrame, you can concatenate the features and the target into one numpy array with np.c_[...] \n",
    "                     # (note the [])."
   ]
  },
  {
   "cell_type": "code",
   "execution_count": 31,
   "metadata": {},
   "outputs": [],
   "source": [
    "# cambiamo i nomi delle variabili (senza i cm) - con 'inplace=True'\n",
    "df.rename(columns={'sepal length (cm)': 'sepal length', 'sepal width (cm)': 'sepal width','petal length (cm)': 'petal length','petal width (cm)': 'petal width'},inplace=True)"
   ]
  },
  {
   "cell_type": "code",
   "execution_count": 32,
   "metadata": {},
   "outputs": [
    {
     "data": {
      "text/html": [
       "<div>\n",
       "<style scoped>\n",
       "    .dataframe tbody tr th:only-of-type {\n",
       "        vertical-align: middle;\n",
       "    }\n",
       "\n",
       "    .dataframe tbody tr th {\n",
       "        vertical-align: top;\n",
       "    }\n",
       "\n",
       "    .dataframe thead th {\n",
       "        text-align: right;\n",
       "    }\n",
       "</style>\n",
       "<table border=\"1\" class=\"dataframe\">\n",
       "  <thead>\n",
       "    <tr style=\"text-align: right;\">\n",
       "      <th></th>\n",
       "      <th>sepal length</th>\n",
       "      <th>sepal width</th>\n",
       "      <th>petal length</th>\n",
       "      <th>petal width</th>\n",
       "      <th>target</th>\n",
       "    </tr>\n",
       "  </thead>\n",
       "  <tbody>\n",
       "    <tr>\n",
       "      <th>0</th>\n",
       "      <td>5.1</td>\n",
       "      <td>3.5</td>\n",
       "      <td>1.4</td>\n",
       "      <td>0.2</td>\n",
       "      <td>0.0</td>\n",
       "    </tr>\n",
       "    <tr>\n",
       "      <th>1</th>\n",
       "      <td>4.9</td>\n",
       "      <td>3.0</td>\n",
       "      <td>1.4</td>\n",
       "      <td>0.2</td>\n",
       "      <td>0.0</td>\n",
       "    </tr>\n",
       "    <tr>\n",
       "      <th>2</th>\n",
       "      <td>4.7</td>\n",
       "      <td>3.2</td>\n",
       "      <td>1.3</td>\n",
       "      <td>0.2</td>\n",
       "      <td>0.0</td>\n",
       "    </tr>\n",
       "    <tr>\n",
       "      <th>3</th>\n",
       "      <td>4.6</td>\n",
       "      <td>3.1</td>\n",
       "      <td>1.5</td>\n",
       "      <td>0.2</td>\n",
       "      <td>0.0</td>\n",
       "    </tr>\n",
       "    <tr>\n",
       "      <th>4</th>\n",
       "      <td>5.0</td>\n",
       "      <td>3.6</td>\n",
       "      <td>1.4</td>\n",
       "      <td>0.2</td>\n",
       "      <td>0.0</td>\n",
       "    </tr>\n",
       "    <tr>\n",
       "      <th>...</th>\n",
       "      <td>...</td>\n",
       "      <td>...</td>\n",
       "      <td>...</td>\n",
       "      <td>...</td>\n",
       "      <td>...</td>\n",
       "    </tr>\n",
       "    <tr>\n",
       "      <th>145</th>\n",
       "      <td>6.7</td>\n",
       "      <td>3.0</td>\n",
       "      <td>5.2</td>\n",
       "      <td>2.3</td>\n",
       "      <td>2.0</td>\n",
       "    </tr>\n",
       "    <tr>\n",
       "      <th>146</th>\n",
       "      <td>6.3</td>\n",
       "      <td>2.5</td>\n",
       "      <td>5.0</td>\n",
       "      <td>1.9</td>\n",
       "      <td>2.0</td>\n",
       "    </tr>\n",
       "    <tr>\n",
       "      <th>147</th>\n",
       "      <td>6.5</td>\n",
       "      <td>3.0</td>\n",
       "      <td>5.2</td>\n",
       "      <td>2.0</td>\n",
       "      <td>2.0</td>\n",
       "    </tr>\n",
       "    <tr>\n",
       "      <th>148</th>\n",
       "      <td>6.2</td>\n",
       "      <td>3.4</td>\n",
       "      <td>5.4</td>\n",
       "      <td>2.3</td>\n",
       "      <td>2.0</td>\n",
       "    </tr>\n",
       "    <tr>\n",
       "      <th>149</th>\n",
       "      <td>5.9</td>\n",
       "      <td>3.0</td>\n",
       "      <td>5.1</td>\n",
       "      <td>1.8</td>\n",
       "      <td>2.0</td>\n",
       "    </tr>\n",
       "  </tbody>\n",
       "</table>\n",
       "<p>150 rows × 5 columns</p>\n",
       "</div>"
      ],
      "text/plain": [
       "     sepal length  sepal width  petal length  petal width  target\n",
       "0             5.1          3.5           1.4          0.2     0.0\n",
       "1             4.9          3.0           1.4          0.2     0.0\n",
       "2             4.7          3.2           1.3          0.2     0.0\n",
       "3             4.6          3.1           1.5          0.2     0.0\n",
       "4             5.0          3.6           1.4          0.2     0.0\n",
       "..            ...          ...           ...          ...     ...\n",
       "145           6.7          3.0           5.2          2.3     2.0\n",
       "146           6.3          2.5           5.0          1.9     2.0\n",
       "147           6.5          3.0           5.2          2.0     2.0\n",
       "148           6.2          3.4           5.4          2.3     2.0\n",
       "149           5.9          3.0           5.1          1.8     2.0\n",
       "\n",
       "[150 rows x 5 columns]"
      ]
     },
     "execution_count": 32,
     "metadata": {},
     "output_type": "execute_result"
    }
   ],
   "source": [
    "df"
   ]
  },
  {
   "cell_type": "code",
   "execution_count": 33,
   "metadata": {},
   "outputs": [
    {
     "name": "stdout",
     "output_type": "stream",
     "text": [
      "[1 0 0]\n"
     ]
    }
   ],
   "source": [
    "# dalla cella di sopra (codice completo, con anche le import necessarie - questa volta senza lo split train/test):\n",
    "from sklearn.model_selection import train_test_split\n",
    "X = df[['sepal length', 'sepal width','petal length','petal width']]     # anzichè iris.data dell'oggetto 'bunch'\n",
    "y = iris.target  \n",
    "from sklearn.neighbors import KNeighborsClassifier\n",
    "knn_classifier = KNeighborsClassifier(n_neighbors=3) \n",
    "knn_classifier.fit(X,y)\n",
    "new_sample_data = [[1,2,3,4],[2,4,1,6],[4,2,1,3]] # una nuova lista\n",
    "new_preds = knn_classifier.predict(new_sample_data)\n",
    "print(new_preds)"
   ]
  },
  {
   "cell_type": "code",
   "execution_count": 34,
   "metadata": {},
   "outputs": [
    {
     "data": {
      "text/plain": [
       "KNeighborsClassifier(n_neighbors=3)"
      ]
     },
     "execution_count": 34,
     "metadata": {},
     "output_type": "execute_result"
    }
   ],
   "source": [
    "y = df['target']  # anzichè iris.target dell'oggetto 'bunch'\n",
    "knn_classifier = KNeighborsClassifier(n_neighbors=3) \n",
    "knn_classifier.fit(X,y) "
   ]
  },
  {
   "cell_type": "code",
   "execution_count": 37,
   "metadata": {},
   "outputs": [
    {
     "name": "stdout",
     "output_type": "stream",
     "text": [
      "<class 'pandas.core.frame.DataFrame'>\n"
     ]
    },
    {
     "data": {
      "text/plain": [
       "KNeighborsClassifier(n_neighbors=3)"
      ]
     },
     "execution_count": 37,
     "metadata": {},
     "output_type": "execute_result"
    }
   ],
   "source": [
    "# nb. se INVECE (erroneamente): \n",
    "y = np.ravel(df[['target']])                 # un dataframe convertito in un vettore 1D (senza 'ravel' c'è un warning)\n",
    "print(type(df[['target']]))\n",
    "knn_classifier = KNeighborsClassifier(n_neighbors=3) \n",
    "knn_classifier.fit(X,y)            # errore! (\"A column-vector y was passed when a 1d array was expected\")"
   ]
  },
  {
   "cell_type": "markdown",
   "metadata": {},
   "source": [
    "## Persistenza del modello"
   ]
  },
  {
   "cell_type": "code",
   "execution_count": 38,
   "metadata": {},
   "outputs": [
    {
     "ename": "ImportError",
     "evalue": "cannot import name 'joblib' from 'sklearn.externals' (C:\\Users\\Utente\\anaconda3\\lib\\site-packages\\sklearn\\externals\\__init__.py)",
     "output_type": "error",
     "traceback": [
      "\u001b[1;31m---------------------------------------------------------------------------\u001b[0m",
      "\u001b[1;31mImportError\u001b[0m                               Traceback (most recent call last)",
      "\u001b[1;32m~\\AppData\\Local\\Temp/ipykernel_15664/2280949273.py\u001b[0m in \u001b[0;36m<module>\u001b[1;34m\u001b[0m\n\u001b[1;32m----> 1\u001b[1;33m \u001b[1;32mfrom\u001b[0m \u001b[0msklearn\u001b[0m\u001b[1;33m.\u001b[0m\u001b[0mexternals\u001b[0m \u001b[1;32mimport\u001b[0m \u001b[0mjoblib\u001b[0m  \u001b[1;31m# funzione deprecata\u001b[0m\u001b[1;33m\u001b[0m\u001b[1;33m\u001b[0m\u001b[0m\n\u001b[0m",
      "\u001b[1;31mImportError\u001b[0m: cannot import name 'joblib' from 'sklearn.externals' (C:\\Users\\Utente\\anaconda3\\lib\\site-packages\\sklearn\\externals\\__init__.py)"
     ]
    }
   ],
   "source": [
    "from sklearn.externals import joblib  # funzione deprecata"
   ]
  },
  {
   "cell_type": "code",
   "execution_count": 39,
   "metadata": {},
   "outputs": [],
   "source": [
    "import joblib  # so: 61893719 \n",
    "\n",
    "               # In the specific case of scikit-learn, it may be better to use joblib’s replacement of pickle (dump & load), \n",
    "               # which is more efficient on objects that carry large numpy arrays internally as is often the case for fitted \n",
    "               # scikit-learn estimators."
   ]
  },
  {
   "cell_type": "code",
   "execution_count": 40,
   "metadata": {},
   "outputs": [
    {
     "data": {
      "text/plain": [
       "['classificatore_knn.joblib']"
      ]
     },
     "execution_count": 40,
     "metadata": {},
     "output_type": "execute_result"
    }
   ],
   "source": [
    "joblib.dump(knn_classifier,'classificatore_knn.joblib')"
   ]
  },
  {
   "cell_type": "code",
   "execution_count": 41,
   "metadata": {},
   "outputs": [
    {
     "data": {
      "text/plain": [
       "16"
      ]
     },
     "execution_count": 41,
     "metadata": {},
     "output_type": "execute_result"
    }
   ],
   "source": [
    "del knn_classifier # cancellazione del classificatore\n",
    "import gc\n",
    "gc.collect() # quando è lecito fare la garbage collection? (so: 478167)\n",
    "             # con i big data, altrimenti non è necessario (DMforBA, p. 45)."
   ]
  },
  {
   "cell_type": "code",
   "execution_count": 42,
   "metadata": {},
   "outputs": [
    {
     "ename": "NameError",
     "evalue": "name 'knn_classifier' is not defined",
     "output_type": "error",
     "traceback": [
      "\u001b[1;31m---------------------------------------------------------------------------\u001b[0m",
      "\u001b[1;31mNameError\u001b[0m                                 Traceback (most recent call last)",
      "\u001b[1;32m~\\AppData\\Local\\Temp/ipykernel_15664/1586447012.py\u001b[0m in \u001b[0;36m<module>\u001b[1;34m\u001b[0m\n\u001b[1;32m----> 1\u001b[1;33m \u001b[0mknn_classifier\u001b[0m\u001b[1;33m.\u001b[0m\u001b[0mpredict\u001b[0m\u001b[1;33m(\u001b[0m\u001b[0msample_data\u001b[0m\u001b[1;33m)\u001b[0m  \u001b[1;31m# --> oggetto inesistente, ora\u001b[0m\u001b[1;33m\u001b[0m\u001b[1;33m\u001b[0m\u001b[0m\n\u001b[0m",
      "\u001b[1;31mNameError\u001b[0m: name 'knn_classifier' is not defined"
     ]
    }
   ],
   "source": [
    "knn_classifier.predict(sample_data)  # --> oggetto inesistente, ora"
   ]
  },
  {
   "cell_type": "code",
   "execution_count": 43,
   "metadata": {},
   "outputs": [],
   "source": [
    "knn_classifier = joblib.load('classificatore_knn.joblib') # load dell'oggetto"
   ]
  },
  {
   "cell_type": "code",
   "execution_count": 44,
   "metadata": {},
   "outputs": [
    {
     "data": {
      "text/plain": [
       "array([0., 2., 2.])"
      ]
     },
     "execution_count": 44,
     "metadata": {},
     "output_type": "execute_result"
    }
   ],
   "source": [
    "knn_classifier.predict(sample_data)"
   ]
  },
  {
   "cell_type": "markdown",
   "metadata": {},
   "source": [
    "## KNN: esempio più complesso "
   ]
  },
  {
   "cell_type": "markdown",
   "metadata": {},
   "source": [
    "Knn è un metodo non-parametrico;<br>\n",
    "\n",
    "non ci sono assunzioni sulla forma della relazione Y = f(X-vec);<br>\n",
    "\n",
    "non si stimano i parametri;<br>\n",
    "\n",
    "punto chiave: che tipo di 'distanza' tra punti si usa? euclidea, manhattan, ecc;<br>\n",
    "\n",
    "aka, instance-based learning.<br>\n",
    "\n",
    "funziona bene quando il Decision Boundary è frastagliato, perchè kNN è sensibile alla struttura locale.<br>\n",
    "\n",
    "come tutti i metodi non-parametrici soffre della curse of multi-dimensionality (ISLR, p. 168)."
   ]
  },
  {
   "cell_type": "code",
   "execution_count": 45,
   "metadata": {},
   "outputs": [],
   "source": [
    "%matplotlib inline\n",
    "\n",
    "from pathlib import Path\n",
    "\n",
    "import pandas as pd\n",
    "from sklearn import preprocessing\n",
    "from sklearn.model_selection import train_test_split\n",
    "from sklearn.metrics import accuracy_score       # solo questa metrica, adesso\n",
    "from sklearn.neighbors import NearestNeighbors, KNeighborsClassifier\n",
    "import matplotlib.pylab as plt\n"
   ]
  },
  {
   "cell_type": "markdown",
   "metadata": {},
   "source": [
    "### Esame dei dati"
   ]
  },
  {
   "cell_type": "code",
   "execution_count": 46,
   "metadata": {},
   "outputs": [
    {
     "data": {
      "text/plain": [
       "pandas.core.frame.DataFrame"
      ]
     },
     "execution_count": 46,
     "metadata": {},
     "output_type": "execute_result"
    }
   ],
   "source": [
    "# caricamento dei dati\n",
    "mower_df = pd.read_csv('data_knn/RidingMowers.csv')\n",
    "type(mower_df)"
   ]
  },
  {
   "cell_type": "code",
   "execution_count": 47,
   "metadata": {},
   "outputs": [
    {
     "data": {
      "text/html": [
       "<div>\n",
       "<style scoped>\n",
       "    .dataframe tbody tr th:only-of-type {\n",
       "        vertical-align: middle;\n",
       "    }\n",
       "\n",
       "    .dataframe tbody tr th {\n",
       "        vertical-align: top;\n",
       "    }\n",
       "\n",
       "    .dataframe thead th {\n",
       "        text-align: right;\n",
       "    }\n",
       "</style>\n",
       "<table border=\"1\" class=\"dataframe\">\n",
       "  <thead>\n",
       "    <tr style=\"text-align: right;\">\n",
       "      <th></th>\n",
       "      <th>Income</th>\n",
       "      <th>Lot_Size</th>\n",
       "      <th>Ownership</th>\n",
       "    </tr>\n",
       "  </thead>\n",
       "  <tbody>\n",
       "    <tr>\n",
       "      <th>0</th>\n",
       "      <td>60.0</td>\n",
       "      <td>18.4</td>\n",
       "      <td>Owner</td>\n",
       "    </tr>\n",
       "    <tr>\n",
       "      <th>1</th>\n",
       "      <td>85.5</td>\n",
       "      <td>16.8</td>\n",
       "      <td>Owner</td>\n",
       "    </tr>\n",
       "    <tr>\n",
       "      <th>2</th>\n",
       "      <td>64.8</td>\n",
       "      <td>21.6</td>\n",
       "      <td>Owner</td>\n",
       "    </tr>\n",
       "    <tr>\n",
       "      <th>3</th>\n",
       "      <td>61.5</td>\n",
       "      <td>20.8</td>\n",
       "      <td>Owner</td>\n",
       "    </tr>\n",
       "    <tr>\n",
       "      <th>4</th>\n",
       "      <td>87.0</td>\n",
       "      <td>23.6</td>\n",
       "      <td>Owner</td>\n",
       "    </tr>\n",
       "    <tr>\n",
       "      <th>5</th>\n",
       "      <td>110.1</td>\n",
       "      <td>19.2</td>\n",
       "      <td>Owner</td>\n",
       "    </tr>\n",
       "    <tr>\n",
       "      <th>6</th>\n",
       "      <td>108.0</td>\n",
       "      <td>17.6</td>\n",
       "      <td>Owner</td>\n",
       "    </tr>\n",
       "    <tr>\n",
       "      <th>7</th>\n",
       "      <td>82.8</td>\n",
       "      <td>22.4</td>\n",
       "      <td>Owner</td>\n",
       "    </tr>\n",
       "    <tr>\n",
       "      <th>8</th>\n",
       "      <td>69.0</td>\n",
       "      <td>20.0</td>\n",
       "      <td>Owner</td>\n",
       "    </tr>\n",
       "    <tr>\n",
       "      <th>9</th>\n",
       "      <td>93.0</td>\n",
       "      <td>20.8</td>\n",
       "      <td>Owner</td>\n",
       "    </tr>\n",
       "    <tr>\n",
       "      <th>10</th>\n",
       "      <td>51.0</td>\n",
       "      <td>22.0</td>\n",
       "      <td>Owner</td>\n",
       "    </tr>\n",
       "    <tr>\n",
       "      <th>11</th>\n",
       "      <td>81.0</td>\n",
       "      <td>20.0</td>\n",
       "      <td>Owner</td>\n",
       "    </tr>\n",
       "    <tr>\n",
       "      <th>12</th>\n",
       "      <td>75.0</td>\n",
       "      <td>19.6</td>\n",
       "      <td>Nonowner</td>\n",
       "    </tr>\n",
       "    <tr>\n",
       "      <th>13</th>\n",
       "      <td>52.8</td>\n",
       "      <td>20.8</td>\n",
       "      <td>Nonowner</td>\n",
       "    </tr>\n",
       "    <tr>\n",
       "      <th>14</th>\n",
       "      <td>64.8</td>\n",
       "      <td>17.2</td>\n",
       "      <td>Nonowner</td>\n",
       "    </tr>\n",
       "    <tr>\n",
       "      <th>15</th>\n",
       "      <td>43.2</td>\n",
       "      <td>20.4</td>\n",
       "      <td>Nonowner</td>\n",
       "    </tr>\n",
       "    <tr>\n",
       "      <th>16</th>\n",
       "      <td>84.0</td>\n",
       "      <td>17.6</td>\n",
       "      <td>Nonowner</td>\n",
       "    </tr>\n",
       "    <tr>\n",
       "      <th>17</th>\n",
       "      <td>49.2</td>\n",
       "      <td>17.6</td>\n",
       "      <td>Nonowner</td>\n",
       "    </tr>\n",
       "    <tr>\n",
       "      <th>18</th>\n",
       "      <td>59.4</td>\n",
       "      <td>16.0</td>\n",
       "      <td>Nonowner</td>\n",
       "    </tr>\n",
       "    <tr>\n",
       "      <th>19</th>\n",
       "      <td>66.0</td>\n",
       "      <td>18.4</td>\n",
       "      <td>Nonowner</td>\n",
       "    </tr>\n",
       "    <tr>\n",
       "      <th>20</th>\n",
       "      <td>47.4</td>\n",
       "      <td>16.4</td>\n",
       "      <td>Nonowner</td>\n",
       "    </tr>\n",
       "    <tr>\n",
       "      <th>21</th>\n",
       "      <td>33.0</td>\n",
       "      <td>18.8</td>\n",
       "      <td>Nonowner</td>\n",
       "    </tr>\n",
       "    <tr>\n",
       "      <th>22</th>\n",
       "      <td>51.0</td>\n",
       "      <td>14.0</td>\n",
       "      <td>Nonowner</td>\n",
       "    </tr>\n",
       "    <tr>\n",
       "      <th>23</th>\n",
       "      <td>63.0</td>\n",
       "      <td>14.8</td>\n",
       "      <td>Nonowner</td>\n",
       "    </tr>\n",
       "  </tbody>\n",
       "</table>\n",
       "</div>"
      ],
      "text/plain": [
       "    Income  Lot_Size Ownership\n",
       "0     60.0      18.4     Owner\n",
       "1     85.5      16.8     Owner\n",
       "2     64.8      21.6     Owner\n",
       "3     61.5      20.8     Owner\n",
       "4     87.0      23.6     Owner\n",
       "5    110.1      19.2     Owner\n",
       "6    108.0      17.6     Owner\n",
       "7     82.8      22.4     Owner\n",
       "8     69.0      20.0     Owner\n",
       "9     93.0      20.8     Owner\n",
       "10    51.0      22.0     Owner\n",
       "11    81.0      20.0     Owner\n",
       "12    75.0      19.6  Nonowner\n",
       "13    52.8      20.8  Nonowner\n",
       "14    64.8      17.2  Nonowner\n",
       "15    43.2      20.4  Nonowner\n",
       "16    84.0      17.6  Nonowner\n",
       "17    49.2      17.6  Nonowner\n",
       "18    59.4      16.0  Nonowner\n",
       "19    66.0      18.4  Nonowner\n",
       "20    47.4      16.4  Nonowner\n",
       "21    33.0      18.8  Nonowner\n",
       "22    51.0      14.0  Nonowner\n",
       "23    63.0      14.8  Nonowner"
      ]
     },
     "execution_count": 47,
     "metadata": {},
     "output_type": "execute_result"
    }
   ],
   "source": [
    "mower_df"
   ]
  },
  {
   "cell_type": "code",
   "execution_count": 48,
   "metadata": {},
   "outputs": [],
   "source": [
    "# note su .csv in excel in generale:\n",
    "# - l'apertura di un file .csv da excel toglie gli zeri davanti, il che corrompe i CAP;\n",
    "# - il salvataggio di un file .csv da excel salva solo le cifre che sono in quel momento visualizzate; se è necessaria una \n",
    "#   certa precisione decimale, occorre verificare che essa sia effettiva prima di salvare il file. "
   ]
  },
  {
   "cell_type": "code",
   "execution_count": 49,
   "metadata": {},
   "outputs": [
    {
     "data": {
      "text/html": [
       "<div>\n",
       "<style scoped>\n",
       "    .dataframe tbody tr th:only-of-type {\n",
       "        vertical-align: middle;\n",
       "    }\n",
       "\n",
       "    .dataframe tbody tr th {\n",
       "        vertical-align: top;\n",
       "    }\n",
       "\n",
       "    .dataframe thead th {\n",
       "        text-align: right;\n",
       "    }\n",
       "</style>\n",
       "<table border=\"1\" class=\"dataframe\">\n",
       "  <thead>\n",
       "    <tr style=\"text-align: right;\">\n",
       "      <th></th>\n",
       "      <th>Income</th>\n",
       "      <th>Lot_Size</th>\n",
       "      <th>Ownership</th>\n",
       "    </tr>\n",
       "  </thead>\n",
       "  <tbody>\n",
       "    <tr>\n",
       "      <th>0</th>\n",
       "      <td>60.0</td>\n",
       "      <td>18.4</td>\n",
       "      <td>Owner</td>\n",
       "    </tr>\n",
       "    <tr>\n",
       "      <th>1</th>\n",
       "      <td>85.5</td>\n",
       "      <td>16.8</td>\n",
       "      <td>Owner</td>\n",
       "    </tr>\n",
       "    <tr>\n",
       "      <th>2</th>\n",
       "      <td>64.8</td>\n",
       "      <td>21.6</td>\n",
       "      <td>Owner</td>\n",
       "    </tr>\n",
       "    <tr>\n",
       "      <th>3</th>\n",
       "      <td>61.5</td>\n",
       "      <td>20.8</td>\n",
       "      <td>Owner</td>\n",
       "    </tr>\n",
       "    <tr>\n",
       "      <th>4</th>\n",
       "      <td>87.0</td>\n",
       "      <td>23.6</td>\n",
       "      <td>Owner</td>\n",
       "    </tr>\n",
       "    <tr>\n",
       "      <th>5</th>\n",
       "      <td>110.1</td>\n",
       "      <td>19.2</td>\n",
       "      <td>Owner</td>\n",
       "    </tr>\n",
       "    <tr>\n",
       "      <th>6</th>\n",
       "      <td>108.0</td>\n",
       "      <td>17.6</td>\n",
       "      <td>Owner</td>\n",
       "    </tr>\n",
       "    <tr>\n",
       "      <th>7</th>\n",
       "      <td>82.8</td>\n",
       "      <td>22.4</td>\n",
       "      <td>Owner</td>\n",
       "    </tr>\n",
       "    <tr>\n",
       "      <th>8</th>\n",
       "      <td>69.0</td>\n",
       "      <td>20.0</td>\n",
       "      <td>Owner</td>\n",
       "    </tr>\n",
       "  </tbody>\n",
       "</table>\n",
       "</div>"
      ],
      "text/plain": [
       "   Income  Lot_Size Ownership\n",
       "0    60.0      18.4     Owner\n",
       "1    85.5      16.8     Owner\n",
       "2    64.8      21.6     Owner\n",
       "3    61.5      20.8     Owner\n",
       "4    87.0      23.6     Owner\n",
       "5   110.1      19.2     Owner\n",
       "6   108.0      17.6     Owner\n",
       "7    82.8      22.4     Owner\n",
       "8    69.0      20.0     Owner"
      ]
     },
     "execution_count": 49,
     "metadata": {},
     "output_type": "execute_result"
    }
   ],
   "source": [
    "mower_df.head(9)"
   ]
  },
  {
   "cell_type": "code",
   "execution_count": 50,
   "metadata": {},
   "outputs": [
    {
     "data": {
      "text/plain": [
       "RangeIndex(start=0, stop=24, step=1)"
      ]
     },
     "execution_count": 50,
     "metadata": {},
     "output_type": "execute_result"
    }
   ],
   "source": [
    "mower_df.index"
   ]
  },
  {
   "cell_type": "code",
   "execution_count": 51,
   "metadata": {
    "scrolled": false
   },
   "outputs": [
    {
     "data": {
      "text/html": [
       "<div>\n",
       "<style scoped>\n",
       "    .dataframe tbody tr th:only-of-type {\n",
       "        vertical-align: middle;\n",
       "    }\n",
       "\n",
       "    .dataframe tbody tr th {\n",
       "        vertical-align: top;\n",
       "    }\n",
       "\n",
       "    .dataframe thead th {\n",
       "        text-align: right;\n",
       "    }\n",
       "</style>\n",
       "<table border=\"1\" class=\"dataframe\">\n",
       "  <thead>\n",
       "    <tr style=\"text-align: right;\">\n",
       "      <th></th>\n",
       "      <th>Income</th>\n",
       "      <th>Lot_Size</th>\n",
       "      <th>Ownership</th>\n",
       "      <th>Number</th>\n",
       "    </tr>\n",
       "  </thead>\n",
       "  <tbody>\n",
       "    <tr>\n",
       "      <th>0</th>\n",
       "      <td>60.0</td>\n",
       "      <td>18.4</td>\n",
       "      <td>Owner</td>\n",
       "      <td>1</td>\n",
       "    </tr>\n",
       "    <tr>\n",
       "      <th>1</th>\n",
       "      <td>85.5</td>\n",
       "      <td>16.8</td>\n",
       "      <td>Owner</td>\n",
       "      <td>2</td>\n",
       "    </tr>\n",
       "    <tr>\n",
       "      <th>2</th>\n",
       "      <td>64.8</td>\n",
       "      <td>21.6</td>\n",
       "      <td>Owner</td>\n",
       "      <td>3</td>\n",
       "    </tr>\n",
       "    <tr>\n",
       "      <th>3</th>\n",
       "      <td>61.5</td>\n",
       "      <td>20.8</td>\n",
       "      <td>Owner</td>\n",
       "      <td>4</td>\n",
       "    </tr>\n",
       "    <tr>\n",
       "      <th>4</th>\n",
       "      <td>87.0</td>\n",
       "      <td>23.6</td>\n",
       "      <td>Owner</td>\n",
       "      <td>5</td>\n",
       "    </tr>\n",
       "    <tr>\n",
       "      <th>5</th>\n",
       "      <td>110.1</td>\n",
       "      <td>19.2</td>\n",
       "      <td>Owner</td>\n",
       "      <td>6</td>\n",
       "    </tr>\n",
       "    <tr>\n",
       "      <th>6</th>\n",
       "      <td>108.0</td>\n",
       "      <td>17.6</td>\n",
       "      <td>Owner</td>\n",
       "      <td>7</td>\n",
       "    </tr>\n",
       "    <tr>\n",
       "      <th>7</th>\n",
       "      <td>82.8</td>\n",
       "      <td>22.4</td>\n",
       "      <td>Owner</td>\n",
       "      <td>8</td>\n",
       "    </tr>\n",
       "    <tr>\n",
       "      <th>8</th>\n",
       "      <td>69.0</td>\n",
       "      <td>20.0</td>\n",
       "      <td>Owner</td>\n",
       "      <td>9</td>\n",
       "    </tr>\n",
       "    <tr>\n",
       "      <th>9</th>\n",
       "      <td>93.0</td>\n",
       "      <td>20.8</td>\n",
       "      <td>Owner</td>\n",
       "      <td>10</td>\n",
       "    </tr>\n",
       "    <tr>\n",
       "      <th>10</th>\n",
       "      <td>51.0</td>\n",
       "      <td>22.0</td>\n",
       "      <td>Owner</td>\n",
       "      <td>11</td>\n",
       "    </tr>\n",
       "    <tr>\n",
       "      <th>11</th>\n",
       "      <td>81.0</td>\n",
       "      <td>20.0</td>\n",
       "      <td>Owner</td>\n",
       "      <td>12</td>\n",
       "    </tr>\n",
       "    <tr>\n",
       "      <th>12</th>\n",
       "      <td>75.0</td>\n",
       "      <td>19.6</td>\n",
       "      <td>Nonowner</td>\n",
       "      <td>13</td>\n",
       "    </tr>\n",
       "    <tr>\n",
       "      <th>13</th>\n",
       "      <td>52.8</td>\n",
       "      <td>20.8</td>\n",
       "      <td>Nonowner</td>\n",
       "      <td>14</td>\n",
       "    </tr>\n",
       "    <tr>\n",
       "      <th>14</th>\n",
       "      <td>64.8</td>\n",
       "      <td>17.2</td>\n",
       "      <td>Nonowner</td>\n",
       "      <td>15</td>\n",
       "    </tr>\n",
       "    <tr>\n",
       "      <th>15</th>\n",
       "      <td>43.2</td>\n",
       "      <td>20.4</td>\n",
       "      <td>Nonowner</td>\n",
       "      <td>16</td>\n",
       "    </tr>\n",
       "    <tr>\n",
       "      <th>16</th>\n",
       "      <td>84.0</td>\n",
       "      <td>17.6</td>\n",
       "      <td>Nonowner</td>\n",
       "      <td>17</td>\n",
       "    </tr>\n",
       "    <tr>\n",
       "      <th>17</th>\n",
       "      <td>49.2</td>\n",
       "      <td>17.6</td>\n",
       "      <td>Nonowner</td>\n",
       "      <td>18</td>\n",
       "    </tr>\n",
       "    <tr>\n",
       "      <th>18</th>\n",
       "      <td>59.4</td>\n",
       "      <td>16.0</td>\n",
       "      <td>Nonowner</td>\n",
       "      <td>19</td>\n",
       "    </tr>\n",
       "    <tr>\n",
       "      <th>19</th>\n",
       "      <td>66.0</td>\n",
       "      <td>18.4</td>\n",
       "      <td>Nonowner</td>\n",
       "      <td>20</td>\n",
       "    </tr>\n",
       "    <tr>\n",
       "      <th>20</th>\n",
       "      <td>47.4</td>\n",
       "      <td>16.4</td>\n",
       "      <td>Nonowner</td>\n",
       "      <td>21</td>\n",
       "    </tr>\n",
       "    <tr>\n",
       "      <th>21</th>\n",
       "      <td>33.0</td>\n",
       "      <td>18.8</td>\n",
       "      <td>Nonowner</td>\n",
       "      <td>22</td>\n",
       "    </tr>\n",
       "    <tr>\n",
       "      <th>22</th>\n",
       "      <td>51.0</td>\n",
       "      <td>14.0</td>\n",
       "      <td>Nonowner</td>\n",
       "      <td>23</td>\n",
       "    </tr>\n",
       "    <tr>\n",
       "      <th>23</th>\n",
       "      <td>63.0</td>\n",
       "      <td>14.8</td>\n",
       "      <td>Nonowner</td>\n",
       "      <td>24</td>\n",
       "    </tr>\n",
       "  </tbody>\n",
       "</table>\n",
       "</div>"
      ],
      "text/plain": [
       "    Income  Lot_Size Ownership  Number\n",
       "0     60.0      18.4     Owner       1\n",
       "1     85.5      16.8     Owner       2\n",
       "2     64.8      21.6     Owner       3\n",
       "3     61.5      20.8     Owner       4\n",
       "4     87.0      23.6     Owner       5\n",
       "5    110.1      19.2     Owner       6\n",
       "6    108.0      17.6     Owner       7\n",
       "7     82.8      22.4     Owner       8\n",
       "8     69.0      20.0     Owner       9\n",
       "9     93.0      20.8     Owner      10\n",
       "10    51.0      22.0     Owner      11\n",
       "11    81.0      20.0     Owner      12\n",
       "12    75.0      19.6  Nonowner      13\n",
       "13    52.8      20.8  Nonowner      14\n",
       "14    64.8      17.2  Nonowner      15\n",
       "15    43.2      20.4  Nonowner      16\n",
       "16    84.0      17.6  Nonowner      17\n",
       "17    49.2      17.6  Nonowner      18\n",
       "18    59.4      16.0  Nonowner      19\n",
       "19    66.0      18.4  Nonowner      20\n",
       "20    47.4      16.4  Nonowner      21\n",
       "21    33.0      18.8  Nonowner      22\n",
       "22    51.0      14.0  Nonowner      23\n",
       "23    63.0      14.8  Nonowner      24"
      ]
     },
     "execution_count": 51,
     "metadata": {},
     "output_type": "execute_result"
    }
   ],
   "source": [
    "mower_df['Number'] = mower_df.index + 1 # colonna aggiuntiva (con numerazione \"europea\") per il plot successivo\n",
    "mower_df"
   ]
  },
  {
   "cell_type": "code",
   "execution_count": 52,
   "metadata": {},
   "outputs": [
    {
     "data": {
      "text/html": [
       "<div>\n",
       "<style scoped>\n",
       "    .dataframe tbody tr th:only-of-type {\n",
       "        vertical-align: middle;\n",
       "    }\n",
       "\n",
       "    .dataframe tbody tr th {\n",
       "        vertical-align: top;\n",
       "    }\n",
       "\n",
       "    .dataframe thead th {\n",
       "        text-align: right;\n",
       "    }\n",
       "</style>\n",
       "<table border=\"1\" class=\"dataframe\">\n",
       "  <thead>\n",
       "    <tr style=\"text-align: right;\">\n",
       "      <th></th>\n",
       "      <th>Income</th>\n",
       "      <th>Lot_Size</th>\n",
       "      <th>Ownership</th>\n",
       "      <th>Number</th>\n",
       "    </tr>\n",
       "  </thead>\n",
       "  <tbody>\n",
       "    <tr>\n",
       "      <th>0</th>\n",
       "      <td>False</td>\n",
       "      <td>False</td>\n",
       "      <td>False</td>\n",
       "      <td>False</td>\n",
       "    </tr>\n",
       "    <tr>\n",
       "      <th>1</th>\n",
       "      <td>False</td>\n",
       "      <td>False</td>\n",
       "      <td>False</td>\n",
       "      <td>False</td>\n",
       "    </tr>\n",
       "    <tr>\n",
       "      <th>2</th>\n",
       "      <td>False</td>\n",
       "      <td>False</td>\n",
       "      <td>False</td>\n",
       "      <td>False</td>\n",
       "    </tr>\n",
       "    <tr>\n",
       "      <th>3</th>\n",
       "      <td>False</td>\n",
       "      <td>False</td>\n",
       "      <td>False</td>\n",
       "      <td>False</td>\n",
       "    </tr>\n",
       "    <tr>\n",
       "      <th>4</th>\n",
       "      <td>False</td>\n",
       "      <td>False</td>\n",
       "      <td>False</td>\n",
       "      <td>False</td>\n",
       "    </tr>\n",
       "    <tr>\n",
       "      <th>5</th>\n",
       "      <td>False</td>\n",
       "      <td>False</td>\n",
       "      <td>False</td>\n",
       "      <td>False</td>\n",
       "    </tr>\n",
       "    <tr>\n",
       "      <th>6</th>\n",
       "      <td>False</td>\n",
       "      <td>False</td>\n",
       "      <td>False</td>\n",
       "      <td>False</td>\n",
       "    </tr>\n",
       "    <tr>\n",
       "      <th>7</th>\n",
       "      <td>False</td>\n",
       "      <td>False</td>\n",
       "      <td>False</td>\n",
       "      <td>False</td>\n",
       "    </tr>\n",
       "    <tr>\n",
       "      <th>8</th>\n",
       "      <td>False</td>\n",
       "      <td>False</td>\n",
       "      <td>False</td>\n",
       "      <td>False</td>\n",
       "    </tr>\n",
       "    <tr>\n",
       "      <th>9</th>\n",
       "      <td>False</td>\n",
       "      <td>False</td>\n",
       "      <td>False</td>\n",
       "      <td>False</td>\n",
       "    </tr>\n",
       "    <tr>\n",
       "      <th>10</th>\n",
       "      <td>False</td>\n",
       "      <td>False</td>\n",
       "      <td>False</td>\n",
       "      <td>False</td>\n",
       "    </tr>\n",
       "    <tr>\n",
       "      <th>11</th>\n",
       "      <td>False</td>\n",
       "      <td>False</td>\n",
       "      <td>False</td>\n",
       "      <td>False</td>\n",
       "    </tr>\n",
       "    <tr>\n",
       "      <th>12</th>\n",
       "      <td>False</td>\n",
       "      <td>False</td>\n",
       "      <td>False</td>\n",
       "      <td>False</td>\n",
       "    </tr>\n",
       "    <tr>\n",
       "      <th>13</th>\n",
       "      <td>False</td>\n",
       "      <td>False</td>\n",
       "      <td>False</td>\n",
       "      <td>False</td>\n",
       "    </tr>\n",
       "    <tr>\n",
       "      <th>14</th>\n",
       "      <td>False</td>\n",
       "      <td>False</td>\n",
       "      <td>False</td>\n",
       "      <td>False</td>\n",
       "    </tr>\n",
       "    <tr>\n",
       "      <th>15</th>\n",
       "      <td>False</td>\n",
       "      <td>False</td>\n",
       "      <td>False</td>\n",
       "      <td>False</td>\n",
       "    </tr>\n",
       "    <tr>\n",
       "      <th>16</th>\n",
       "      <td>False</td>\n",
       "      <td>False</td>\n",
       "      <td>False</td>\n",
       "      <td>False</td>\n",
       "    </tr>\n",
       "    <tr>\n",
       "      <th>17</th>\n",
       "      <td>False</td>\n",
       "      <td>False</td>\n",
       "      <td>False</td>\n",
       "      <td>False</td>\n",
       "    </tr>\n",
       "    <tr>\n",
       "      <th>18</th>\n",
       "      <td>False</td>\n",
       "      <td>False</td>\n",
       "      <td>False</td>\n",
       "      <td>False</td>\n",
       "    </tr>\n",
       "    <tr>\n",
       "      <th>19</th>\n",
       "      <td>False</td>\n",
       "      <td>False</td>\n",
       "      <td>False</td>\n",
       "      <td>False</td>\n",
       "    </tr>\n",
       "    <tr>\n",
       "      <th>20</th>\n",
       "      <td>False</td>\n",
       "      <td>False</td>\n",
       "      <td>False</td>\n",
       "      <td>False</td>\n",
       "    </tr>\n",
       "    <tr>\n",
       "      <th>21</th>\n",
       "      <td>False</td>\n",
       "      <td>False</td>\n",
       "      <td>False</td>\n",
       "      <td>False</td>\n",
       "    </tr>\n",
       "    <tr>\n",
       "      <th>22</th>\n",
       "      <td>False</td>\n",
       "      <td>False</td>\n",
       "      <td>False</td>\n",
       "      <td>False</td>\n",
       "    </tr>\n",
       "    <tr>\n",
       "      <th>23</th>\n",
       "      <td>False</td>\n",
       "      <td>False</td>\n",
       "      <td>False</td>\n",
       "      <td>False</td>\n",
       "    </tr>\n",
       "  </tbody>\n",
       "</table>\n",
       "</div>"
      ],
      "text/plain": [
       "    Income  Lot_Size  Ownership  Number\n",
       "0    False     False      False   False\n",
       "1    False     False      False   False\n",
       "2    False     False      False   False\n",
       "3    False     False      False   False\n",
       "4    False     False      False   False\n",
       "5    False     False      False   False\n",
       "6    False     False      False   False\n",
       "7    False     False      False   False\n",
       "8    False     False      False   False\n",
       "9    False     False      False   False\n",
       "10   False     False      False   False\n",
       "11   False     False      False   False\n",
       "12   False     False      False   False\n",
       "13   False     False      False   False\n",
       "14   False     False      False   False\n",
       "15   False     False      False   False\n",
       "16   False     False      False   False\n",
       "17   False     False      False   False\n",
       "18   False     False      False   False\n",
       "19   False     False      False   False\n",
       "20   False     False      False   False\n",
       "21   False     False      False   False\n",
       "22   False     False      False   False\n",
       "23   False     False      False   False"
      ]
     },
     "execution_count": 52,
     "metadata": {},
     "output_type": "execute_result"
    }
   ],
   "source": [
    "mower_df.isna() "
   ]
  },
  {
   "cell_type": "code",
   "execution_count": 53,
   "metadata": {},
   "outputs": [
    {
     "data": {
      "text/plain": [
       "Income       0\n",
       "Lot_Size     0\n",
       "Ownership    0\n",
       "Number       0\n",
       "dtype: int64"
      ]
     },
     "execution_count": 53,
     "metadata": {},
     "output_type": "execute_result"
    }
   ],
   "source": [
    "mower_df.isna().sum()"
   ]
  },
  {
   "cell_type": "code",
   "execution_count": 54,
   "metadata": {},
   "outputs": [
    {
     "data": {
      "text/html": [
       "<div>\n",
       "<style scoped>\n",
       "    .dataframe tbody tr th:only-of-type {\n",
       "        vertical-align: middle;\n",
       "    }\n",
       "\n",
       "    .dataframe tbody tr th {\n",
       "        vertical-align: top;\n",
       "    }\n",
       "\n",
       "    .dataframe thead th {\n",
       "        text-align: right;\n",
       "    }\n",
       "</style>\n",
       "<table border=\"1\" class=\"dataframe\">\n",
       "  <thead>\n",
       "    <tr style=\"text-align: right;\">\n",
       "      <th></th>\n",
       "      <th>Income</th>\n",
       "      <th>Lot_Size</th>\n",
       "    </tr>\n",
       "  </thead>\n",
       "  <tbody>\n",
       "    <tr>\n",
       "      <th>Income</th>\n",
       "      <td>1.00</td>\n",
       "      <td>0.17</td>\n",
       "    </tr>\n",
       "    <tr>\n",
       "      <th>Lot_Size</th>\n",
       "      <td>0.17</td>\n",
       "      <td>1.00</td>\n",
       "    </tr>\n",
       "  </tbody>\n",
       "</table>\n",
       "</div>"
      ],
      "text/plain": [
       "          Income  Lot_Size\n",
       "Income      1.00      0.17\n",
       "Lot_Size    0.17      1.00"
      ]
     },
     "execution_count": 54,
     "metadata": {},
     "output_type": "execute_result"
    }
   ],
   "source": [
    "mower_df.iloc[:,0:2].corr().round(2) # le correlazioni tra variabili numeriche (DMforBA, p. 104 top)"
   ]
  },
  {
   "cell_type": "code",
   "execution_count": 55,
   "metadata": {},
   "outputs": [
    {
     "data": {
      "text/plain": [
       "pandas.core.series.Series"
      ]
     },
     "execution_count": 55,
     "metadata": {},
     "output_type": "execute_result"
    }
   ],
   "source": [
    "type(mower_df['Ownership'])"
   ]
  },
  {
   "cell_type": "code",
   "execution_count": 56,
   "metadata": {},
   "outputs": [
    {
     "name": "stdout",
     "output_type": "stream",
     "text": [
      "[[0 1]\n",
      " [2 3]\n",
      " [4 5]\n",
      " [6 7]\n",
      " [8 9]]\n",
      "[0, 1, 2, 3, 4]\n"
     ]
    }
   ],
   "source": [
    "# altri esempi e maggiori dettagli sull'importante funzione 'train_test_split'.\n",
    "# creiamo un semplice dataset di prova.\n",
    "import numpy as np\n",
    "X, y = np.arange(10).reshape((5, 2)), range(5) # la funzione 'range' crea un vettore ma non ha il metodo reshape.\n",
    "                                               # per questo, serve la funzione 'arange' di numpy\n",
    "print(X)\n",
    "print(list(y))"
   ]
  },
  {
   "cell_type": "code",
   "execution_count": 57,
   "metadata": {},
   "outputs": [],
   "source": [
    "X_train, X_test, y_train, y_test = train_test_split(  \n",
    "...     X, y, test_size=0.33, random_state=1)  # ... --> linea continua a capo"
   ]
  },
  {
   "cell_type": "code",
   "execution_count": 58,
   "metadata": {
    "scrolled": true
   },
   "outputs": [
    {
     "name": "stdout",
     "output_type": "stream",
     "text": [
      "X_train: \n",
      " [[8 9]\n",
      " [0 1]\n",
      " [6 7]]\n",
      "X_test: \n",
      " [[4 5]\n",
      " [2 3]]\n",
      "y_train:  [4, 0, 3]\n",
      "y_test:  [2, 1]\n"
     ]
    }
   ],
   "source": [
    "print(\"X_train: \\n\",X_train)\n",
    "print(\"X_test: \\n\",X_test)\n",
    "print(\"y_train: \",y_train)\n",
    "print(\"y_test: \",y_test)"
   ]
  },
  {
   "cell_type": "code",
   "execution_count": 59,
   "metadata": {},
   "outputs": [
    {
     "data": {
      "text/plain": [
       "numpy.ndarray"
      ]
     },
     "execution_count": 59,
     "metadata": {},
     "output_type": "execute_result"
    }
   ],
   "source": [
    "type(X_train) # gli input sono qui delle array n-dimensionali di numpy"
   ]
  },
  {
   "cell_type": "code",
   "execution_count": 60,
   "metadata": {},
   "outputs": [
    {
     "name": "stdout",
     "output_type": "stream",
     "text": [
      "trainData: \n",
      "     Income  Lot_Size Ownership  Number\n",
      "2     64.8      21.6     Owner       3\n",
      "19    66.0      18.4  Nonowner      20\n",
      "6    108.0      17.6     Owner       7\n",
      "7     82.8      22.4     Owner       8\n",
      "21    33.0      18.8  Nonowner      22\n",
      "1     85.5      16.8     Owner       2\n",
      "16    84.0      17.6  Nonowner      17\n",
      "0     60.0      18.4     Owner       1\n",
      "15    43.2      20.4  Nonowner      16\n",
      "23    63.0      14.8  Nonowner      24\n",
      "22    51.0      14.0  Nonowner      23\n",
      "9     93.0      20.8     Owner      10\n",
      "8     69.0      20.0     Owner       9\n",
      "12    75.0      19.6  Nonowner      13\n",
      "11    81.0      20.0     Owner      12\n",
      "5    110.1      19.2     Owner       6 \n",
      " validData: \n",
      "     Income  Lot_Size Ownership  Number\n",
      "13    52.8      20.8  Nonowner      14\n",
      "18    59.4      16.0  Nonowner      19\n",
      "3     61.5      20.8     Owner       4\n",
      "14    64.8      17.2  Nonowner      15\n",
      "20    47.4      16.4  Nonowner      21\n",
      "17    49.2      17.6  Nonowner      18\n",
      "10    51.0      22.0     Owner      11\n",
      "4     87.0      23.6     Owner       5\n"
     ]
    }
   ],
   "source": [
    "# ora, lo split per il dataset mower_df [funziona anche questa sintassi, 2 output anzichè 4]:\n",
    "trainData, validData = train_test_split(mower_df, test_size=0.33, random_state=1)\n",
    "print(\"trainData: \\n\",trainData,\"\\n validData: \\n\",validData)"
   ]
  },
  {
   "cell_type": "code",
   "execution_count": 61,
   "metadata": {},
   "outputs": [
    {
     "name": "stdout",
     "output_type": "stream",
     "text": [
      "(16, 4) (8, 4)\n"
     ]
    }
   ],
   "source": [
    "print(trainData.shape, validData.shape)"
   ]
  },
  {
   "cell_type": "code",
   "execution_count": 62,
   "metadata": {},
   "outputs": [
    {
     "name": "stdout",
     "output_type": "stream",
     "text": [
      "16 8\n"
     ]
    }
   ],
   "source": [
    "print(len(trainData),len(validData)) # le due prime dimensioni (\"Return the number of items in a container.\")"
   ]
  },
  {
   "cell_type": "code",
   "execution_count": 63,
   "metadata": {},
   "outputs": [
    {
     "data": {
      "text/plain": [
       "pandas.core.frame.DataFrame"
      ]
     },
     "execution_count": 63,
     "metadata": {},
     "output_type": "execute_result"
    }
   ],
   "source": [
    "type(trainData) # un df di pandas, perchè l'input era un df di pandas"
   ]
  },
  {
   "cell_type": "code",
   "execution_count": 64,
   "metadata": {
    "scrolled": true
   },
   "outputs": [
    {
     "data": {
      "text/html": [
       "<div>\n",
       "<style scoped>\n",
       "    .dataframe tbody tr th:only-of-type {\n",
       "        vertical-align: middle;\n",
       "    }\n",
       "\n",
       "    .dataframe tbody tr th {\n",
       "        vertical-align: top;\n",
       "    }\n",
       "\n",
       "    .dataframe thead th {\n",
       "        text-align: right;\n",
       "    }\n",
       "</style>\n",
       "<table border=\"1\" class=\"dataframe\">\n",
       "  <thead>\n",
       "    <tr style=\"text-align: right;\">\n",
       "      <th></th>\n",
       "      <th>Income</th>\n",
       "      <th>Lot_Size</th>\n",
       "    </tr>\n",
       "  </thead>\n",
       "  <tbody>\n",
       "    <tr>\n",
       "      <th>0</th>\n",
       "      <td>60</td>\n",
       "      <td>20</td>\n",
       "    </tr>\n",
       "  </tbody>\n",
       "</table>\n",
       "</div>"
      ],
      "text/plain": [
       "   Income  Lot_Size\n",
       "0      60        20"
      ]
     },
     "execution_count": 64,
     "metadata": {},
     "output_type": "execute_result"
    }
   ],
   "source": [
    "newHousehold = pd.DataFrame([{'Income': 60, 'Lot_Size': 20}]) # i NUOVI valori delle feature delle osservazioni da prevedere\n",
    "                                                              # come Y (ownership)\n",
    "newHousehold"
   ]
  },
  {
   "cell_type": "code",
   "execution_count": 65,
   "metadata": {},
   "outputs": [
    {
     "data": {
      "text/plain": [
       "<AxesSubplot:xlabel='Income', ylabel='Lot_Size'>"
      ]
     },
     "execution_count": 65,
     "metadata": {},
     "output_type": "execute_result"
    },
    {
     "data": {
      "image/png": "[encoded data removed]",
      "text/plain": [
       "<Figure size 432x288 with 1 Axes>"
      ]
     },
     "metadata": {
      "needs_background": "light"
     },
     "output_type": "display_data"
    }
   ],
   "source": [
    "# scatter plot (con pandas: 'trainData è infatti un df pandas')\n",
    "trainData.plot.scatter(x=0,y=1) # le colonne (per l'asse x e l'asse y) sono indicate con l'indice (anzichè il nome colonna)"
   ]
  },
  {
   "cell_type": "code",
   "execution_count": 66,
   "metadata": {},
   "outputs": [
    {
     "data": {
      "text/plain": [
       "<AxesSubplot:xlabel='Income', ylabel='Lot_Size'>"
      ]
     },
     "execution_count": 66,
     "metadata": {},
     "output_type": "execute_result"
    },
    {
     "data": {
      "image/png": "[encoded data removed]",
      "text/plain": [
       "<Figure size 720x432 with 1 Axes>"
      ]
     },
     "metadata": {
      "needs_background": "light"
     },
     "output_type": "display_data"
    }
   ],
   "source": [
    "trainData.plot.scatter(x=0,y=1,figsize=(10,6)) # plot ingrandito"
   ]
  },
  {
   "cell_type": "code",
   "execution_count": 67,
   "metadata": {},
   "outputs": [],
   "source": [
    "# scala logaritmica (naturale), utile spesso per:\n",
    "# - compattare i valori (che si estendano su vari odg) --> come conseguenza può ridurre gli outlier;\n",
    "# - gaussianizzarli (necessario per alcuni metodi, ad es. LDA o FA); è l'approccio standard (ce ne sono altri);\n",
    "# - rilevare le relazioni lineari;\n",
    "# - risposta eteroschedastica (ISLR, p. 95)\n",
    "# Nel ML spesso i dati sono assimmetrici (skewed), per la natura del fenomeno in sè (ad es. Income o Durata attività) \n",
    "# oppure per la combinazione di: a) assenza di valori negativi e b) pochi valori positivi estremi.  \n",
    "# Attenzione: con il log, la moltiplicazione diventa addizione [log (b*c) = log(b) + log(c). "
   ]
  },
  {
   "cell_type": "code",
   "execution_count": 68,
   "metadata": {},
   "outputs": [
    {
     "data": {
      "image/png": "[encoded data removed]",
      "text/plain": [
       "<Figure size 576x432 with 1 Axes>"
      ]
     },
     "metadata": {
      "needs_background": "light"
     },
     "output_type": "display_data"
    }
   ],
   "source": [
    "import matplotlib.pylab as plt # per i log serve matplotlib\n",
    "fig = plt.figure(figsize=(8, 6))\n",
    "plt.scatter(trainData['Income'],trainData['Lot_Size'])\n",
    "plt.xscale(\"log\")\n",
    "plt.yscale(\"log\")\n",
    "plt.title(\"scatter plot log-log\",fontsize=20)\n",
    "plt.show()"
   ]
  },
  {
   "cell_type": "code",
   "execution_count": 69,
   "metadata": {},
   "outputs": [
    {
     "data": {
      "text/plain": [
       "<AxesSubplot:>"
      ]
     },
     "execution_count": 69,
     "metadata": {},
     "output_type": "execute_result"
    },
    {
     "data": {
      "image/png": "[encoded data removed]",
      "text/plain": [
       "<Figure size 432x288 with 1 Axes>"
      ]
     },
     "metadata": {
      "needs_background": "light"
     },
     "output_type": "display_data"
    }
   ],
   "source": [
    "# l'istogramma di Income (con pandas, nuovamente)\n",
    "trainData.Income.hist()"
   ]
  },
  {
   "cell_type": "code",
   "execution_count": 70,
   "metadata": {
    "scrolled": true
   },
   "outputs": [
    {
     "data": {
      "text/plain": [
       "<AxesSubplot:>"
      ]
     },
     "execution_count": 70,
     "metadata": {},
     "output_type": "execute_result"
    },
    {
     "data": {
      "image/png": "[encoded data removed]",
      "text/plain": [
       "<Figure size 864x576 with 1 Axes>"
      ]
     },
     "metadata": {
      "needs_background": "light"
     },
     "output_type": "display_data"
    }
   ],
   "source": [
    "trainData.boxplot(column='Income',figsize=[12,8]) # sempre con pandas"
   ]
  },
  {
   "cell_type": "markdown",
   "metadata": {},
   "source": [
    "### Grafica con pandas / python (a prescindere da knn)"
   ]
  },
  {
   "cell_type": "markdown",
   "metadata": {},
   "source": [
    "[Un'introduzione al plotting con pandas](https://neptune.ai/blog/pandas-plot-deep-dive-into-plotting-directly-with-pandas)\n",
    "\n",
    "[Lollipop chart con python](https://www.analyticsvidhya.com/blog/2021/06/lollipop-charts-advanced-data-visualization-in-python/)"
   ]
  },
  {
   "cell_type": "markdown",
   "metadata": {},
   "source": [
    "### Standardizzazione dei dati"
   ]
  },
  {
   "cell_type": "code",
   "execution_count": 71,
   "metadata": {},
   "outputs": [],
   "source": [
    "scaler = preprocessing.StandardScaler()       # usiamo qui uno standardizzatore che usa la estimator API;\n",
    "                                              # 'preprocessing.scale', usato nel primo nb, non la usava (era una funzione);\n",
    "                                              # vedi 'help di 'StandardScaler'."
   ]
  },
  {
   "cell_type": "markdown",
   "metadata": {},
   "source": [
    "[StandardScaler vs scale](https://stackoverflow.com/questions/46257627/scikit-learn-preprocessing-scale-vs-preprocessing-standardscalar/46258260)"
   ]
  },
  {
   "cell_type": "code",
   "execution_count": 72,
   "metadata": {},
   "outputs": [
    {
     "data": {
      "text/plain": [
       "StandardScaler()"
      ]
     },
     "execution_count": 72,
     "metadata": {},
     "output_type": "execute_result"
    }
   ],
   "source": [
    "scaler.fit(trainData[['Income', 'Lot_Size']]) # Compute the mean and std-dev to be used for LATER scaling.\n",
    "                                              # Sono la media e la std-dev dei dati di training.\n",
    "                                              # 'fit' è un tipico metodo della estimator API di scikit-learn.\n",
    " \n",
    "# Da ISLR e DMforBA:\n",
    "# Standardize features by removing the mean and scaling to unit variance. So, all variables are on a comparable scale.\n",
    "# With standardization, we are expressing each value as the number of SD away from the mean (aka, z-score).\n",
    "\n",
    "# The standard score of a sample x is calculated as:\n",
    "# z = (x - u) / s\n",
    "# where u is the mean of the training samples or zero if with_mean=False (ie, not centered data),\n",
    "# and s is the standard deviation of the training samples or one if with_std=False.\n",
    "\n",
    "scaler\n",
    "\n",
    "##########################################################################################################################\n",
    "# --> Alcuni metodi di ML sono sensibili allo scaling (Regressione penalizzata, PCA, Clustering, ecc), cioè producono    # \n",
    "#     risultati differenti se i dati sono riscalati; per i CART è consigliabile. Altri metodi sono insensibili           #\n",
    "#     (Regressione Lineare OLS, nella quale la moltiplicazione di Xj per la costante c semplicemente riscala i           #\n",
    "#     coefficienti stimati di 1/c, sicchè il prodotto Xj*BetaJ rimane costante).                                         #\n",
    "#     la regola del pollice, con i primi, è di riscalare i dati se le unità di misura delle variabili sono differenti.   #\n",
    "#     Se le unità di misura sono le stesse, o se la scala riflette l'importanza, non si standardizzano i dati, invece.   #\n",
    "#     Per precauzione si può riscalare sempre i dati.                                                                    #\n",
    "##########################################################################################################################"
   ]
  },
  {
   "cell_type": "code",
   "execution_count": 73,
   "metadata": {},
   "outputs": [
    {
     "data": {
      "text/html": [
       "<div>\n",
       "<style scoped>\n",
       "    .dataframe tbody tr th:only-of-type {\n",
       "        vertical-align: middle;\n",
       "    }\n",
       "\n",
       "    .dataframe tbody tr th {\n",
       "        vertical-align: top;\n",
       "    }\n",
       "\n",
       "    .dataframe thead th {\n",
       "        text-align: right;\n",
       "    }\n",
       "</style>\n",
       "<table border=\"1\" class=\"dataframe\">\n",
       "  <thead>\n",
       "    <tr style=\"text-align: right;\">\n",
       "      <th></th>\n",
       "      <th>zIncome</th>\n",
       "      <th>zLot_Size</th>\n",
       "      <th>Ownership</th>\n",
       "      <th>Number</th>\n",
       "    </tr>\n",
       "  </thead>\n",
       "  <tbody>\n",
       "    <tr>\n",
       "      <th>0</th>\n",
       "      <td>-0.634098</td>\n",
       "      <td>-0.170642</td>\n",
       "      <td>Owner</td>\n",
       "      <td>1</td>\n",
       "    </tr>\n",
       "    <tr>\n",
       "      <th>1</th>\n",
       "      <td>0.601394</td>\n",
       "      <td>-0.898714</td>\n",
       "      <td>Owner</td>\n",
       "      <td>2</td>\n",
       "    </tr>\n",
       "    <tr>\n",
       "      <th>2</th>\n",
       "      <td>-0.401535</td>\n",
       "      <td>1.285503</td>\n",
       "      <td>Owner</td>\n",
       "      <td>3</td>\n",
       "    </tr>\n",
       "    <tr>\n",
       "      <th>3</th>\n",
       "      <td>-0.561422</td>\n",
       "      <td>0.921467</td>\n",
       "      <td>Owner</td>\n",
       "      <td>4</td>\n",
       "    </tr>\n",
       "    <tr>\n",
       "      <th>4</th>\n",
       "      <td>0.674070</td>\n",
       "      <td>2.195593</td>\n",
       "      <td>Owner</td>\n",
       "      <td>5</td>\n",
       "    </tr>\n",
       "    <tr>\n",
       "      <th>5</th>\n",
       "      <td>1.793280</td>\n",
       "      <td>0.193394</td>\n",
       "      <td>Owner</td>\n",
       "      <td>6</td>\n",
       "    </tr>\n",
       "    <tr>\n",
       "      <th>6</th>\n",
       "      <td>1.691534</td>\n",
       "      <td>-0.534678</td>\n",
       "      <td>Owner</td>\n",
       "      <td>7</td>\n",
       "    </tr>\n",
       "    <tr>\n",
       "      <th>7</th>\n",
       "      <td>0.470577</td>\n",
       "      <td>1.649539</td>\n",
       "      <td>Owner</td>\n",
       "      <td>8</td>\n",
       "    </tr>\n",
       "    <tr>\n",
       "      <th>8</th>\n",
       "      <td>-0.198042</td>\n",
       "      <td>0.557430</td>\n",
       "      <td>Owner</td>\n",
       "      <td>9</td>\n",
       "    </tr>\n",
       "    <tr>\n",
       "      <th>9</th>\n",
       "      <td>0.964774</td>\n",
       "      <td>0.921467</td>\n",
       "      <td>Owner</td>\n",
       "      <td>10</td>\n",
       "    </tr>\n",
       "    <tr>\n",
       "      <th>10</th>\n",
       "      <td>-1.070154</td>\n",
       "      <td>1.467521</td>\n",
       "      <td>Owner</td>\n",
       "      <td>11</td>\n",
       "    </tr>\n",
       "    <tr>\n",
       "      <th>11</th>\n",
       "      <td>0.383366</td>\n",
       "      <td>0.557430</td>\n",
       "      <td>Owner</td>\n",
       "      <td>12</td>\n",
       "    </tr>\n",
       "    <tr>\n",
       "      <th>12</th>\n",
       "      <td>0.092662</td>\n",
       "      <td>0.375412</td>\n",
       "      <td>Nonowner</td>\n",
       "      <td>13</td>\n",
       "    </tr>\n",
       "    <tr>\n",
       "      <th>13</th>\n",
       "      <td>-0.982943</td>\n",
       "      <td>0.921467</td>\n",
       "      <td>Nonowner</td>\n",
       "      <td>14</td>\n",
       "    </tr>\n",
       "    <tr>\n",
       "      <th>14</th>\n",
       "      <td>-0.401535</td>\n",
       "      <td>-0.716696</td>\n",
       "      <td>Nonowner</td>\n",
       "      <td>15</td>\n",
       "    </tr>\n",
       "    <tr>\n",
       "      <th>15</th>\n",
       "      <td>-1.448069</td>\n",
       "      <td>0.739448</td>\n",
       "      <td>Nonowner</td>\n",
       "      <td>16</td>\n",
       "    </tr>\n",
       "    <tr>\n",
       "      <th>16</th>\n",
       "      <td>0.528718</td>\n",
       "      <td>-0.534678</td>\n",
       "      <td>Nonowner</td>\n",
       "      <td>17</td>\n",
       "    </tr>\n",
       "    <tr>\n",
       "      <th>17</th>\n",
       "      <td>-1.157365</td>\n",
       "      <td>-0.534678</td>\n",
       "      <td>Nonowner</td>\n",
       "      <td>18</td>\n",
       "    </tr>\n",
       "    <tr>\n",
       "      <th>18</th>\n",
       "      <td>-0.663168</td>\n",
       "      <td>-1.262750</td>\n",
       "      <td>Nonowner</td>\n",
       "      <td>19</td>\n",
       "    </tr>\n",
       "    <tr>\n",
       "      <th>19</th>\n",
       "      <td>-0.343394</td>\n",
       "      <td>-0.170642</td>\n",
       "      <td>Nonowner</td>\n",
       "      <td>20</td>\n",
       "    </tr>\n",
       "    <tr>\n",
       "      <th>20</th>\n",
       "      <td>-1.244576</td>\n",
       "      <td>-1.080732</td>\n",
       "      <td>Nonowner</td>\n",
       "      <td>21</td>\n",
       "    </tr>\n",
       "    <tr>\n",
       "      <th>21</th>\n",
       "      <td>-1.942266</td>\n",
       "      <td>0.011376</td>\n",
       "      <td>Nonowner</td>\n",
       "      <td>22</td>\n",
       "    </tr>\n",
       "    <tr>\n",
       "      <th>22</th>\n",
       "      <td>-1.070154</td>\n",
       "      <td>-2.172841</td>\n",
       "      <td>Nonowner</td>\n",
       "      <td>23</td>\n",
       "    </tr>\n",
       "    <tr>\n",
       "      <th>23</th>\n",
       "      <td>-0.488746</td>\n",
       "      <td>-1.808805</td>\n",
       "      <td>Nonowner</td>\n",
       "      <td>24</td>\n",
       "    </tr>\n",
       "  </tbody>\n",
       "</table>\n",
       "</div>"
      ],
      "text/plain": [
       "     zIncome  zLot_Size Ownership  Number\n",
       "0  -0.634098  -0.170642     Owner       1\n",
       "1   0.601394  -0.898714     Owner       2\n",
       "2  -0.401535   1.285503     Owner       3\n",
       "3  -0.561422   0.921467     Owner       4\n",
       "4   0.674070   2.195593     Owner       5\n",
       "5   1.793280   0.193394     Owner       6\n",
       "6   1.691534  -0.534678     Owner       7\n",
       "7   0.470577   1.649539     Owner       8\n",
       "8  -0.198042   0.557430     Owner       9\n",
       "9   0.964774   0.921467     Owner      10\n",
       "10 -1.070154   1.467521     Owner      11\n",
       "11  0.383366   0.557430     Owner      12\n",
       "12  0.092662   0.375412  Nonowner      13\n",
       "13 -0.982943   0.921467  Nonowner      14\n",
       "14 -0.401535  -0.716696  Nonowner      15\n",
       "15 -1.448069   0.739448  Nonowner      16\n",
       "16  0.528718  -0.534678  Nonowner      17\n",
       "17 -1.157365  -0.534678  Nonowner      18\n",
       "18 -0.663168  -1.262750  Nonowner      19\n",
       "19 -0.343394  -0.170642  Nonowner      20\n",
       "20 -1.244576  -1.080732  Nonowner      21\n",
       "21 -1.942266   0.011376  Nonowner      22\n",
       "22 -1.070154  -2.172841  Nonowner      23\n",
       "23 -0.488746  -1.808805  Nonowner      24"
      ]
     },
     "execution_count": 73,
     "metadata": {},
     "output_type": "execute_result"
    }
   ],
   "source": [
    "# Transform the full dataset\n",
    "mowerStd = pd.concat([pd.DataFrame(scaler.transform(mower_df[['Income', 'Lot_Size']]), # concateno le prime due colonne                                                             \n",
    "    columns=['zIncome', 'zLot_Size']),                                                 # (standardizzate) con le ultime due; \n",
    "                                                                                       # la 'transform' utiliza mean/std \n",
    "                                                                                       # calcolati prima dalla 'fit';\n",
    "                                                                                       # la 'transform' è un tipico metodo della\n",
    "                                                                                       # estimator API di scikit-learn;\n",
    "                                                                                       # z sta per normalizzato.\n",
    "    mower_df[['Ownership', 'Number']]], axis=1)                                        # 'axis' = 1 (concateno colonne)\n",
    "mowerStd"
   ]
  },
  {
   "cell_type": "code",
   "execution_count": 74,
   "metadata": {},
   "outputs": [
    {
     "data": {
      "text/plain": [
       "array([[-0.43545243, -0.23136968],\n",
       "       [ 0.88058157, -0.9044451 ],\n",
       "       [-0.18772838,  1.11478117],\n",
       "       [-0.35803866,  0.77824346],\n",
       "       [ 0.95799534,  1.95612545],\n",
       "       [ 2.15016731,  0.10516804],\n",
       "       [ 2.04178804, -0.56790739],\n",
       "       [ 0.7412368 ,  1.45131888],\n",
       "       [ 0.02903016,  0.44170575],\n",
       "       [ 1.26765039,  0.77824346],\n",
       "       [-0.89993501,  1.28305003],\n",
       "       [ 0.64834028,  0.44170575],\n",
       "       [ 0.33868522,  0.27343689],\n",
       "       [-0.80703849,  0.77824346],\n",
       "       [-0.18772838, -0.73617625],\n",
       "       [-1.30248659,  0.6099746 ],\n",
       "       [ 0.80316781, -0.56790739],\n",
       "       [-0.99283153, -0.56790739],\n",
       "       [-0.46641793, -1.24098281],\n",
       "       [-0.12579737, -0.23136968],\n",
       "       [-1.08572805, -1.07271396],\n",
       "       [-1.82890019, -0.06310082],\n",
       "       [-0.89993501, -2.08232709],\n",
       "       [-0.2806249 , -1.74578938]])"
      ]
     },
     "execution_count": 74,
     "metadata": {},
     "output_type": "execute_result"
    }
   ],
   "source": [
    "preprocessing.scale(mower_df[['Income', 'Lot_Size']]) # standardizzazione con la funzione del primo nb.\n",
    "                                                      # differenti!!"
   ]
  },
  {
   "cell_type": "markdown",
   "metadata": {},
   "source": [
    "### Creazione dei dataset"
   ]
  },
  {
   "cell_type": "code",
   "execution_count": 75,
   "metadata": {},
   "outputs": [
    {
     "data": {
      "text/html": [
       "<div>\n",
       "<style scoped>\n",
       "    .dataframe tbody tr th:only-of-type {\n",
       "        vertical-align: middle;\n",
       "    }\n",
       "\n",
       "    .dataframe tbody tr th {\n",
       "        vertical-align: top;\n",
       "    }\n",
       "\n",
       "    .dataframe thead th {\n",
       "        text-align: right;\n",
       "    }\n",
       "</style>\n",
       "<table border=\"1\" class=\"dataframe\">\n",
       "  <thead>\n",
       "    <tr style=\"text-align: right;\">\n",
       "      <th></th>\n",
       "      <th>zIncome</th>\n",
       "      <th>zLot_Size</th>\n",
       "    </tr>\n",
       "  </thead>\n",
       "  <tbody>\n",
       "    <tr>\n",
       "      <th>0</th>\n",
       "      <td>-0.634098</td>\n",
       "      <td>0.55743</td>\n",
       "    </tr>\n",
       "  </tbody>\n",
       "</table>\n",
       "</div>"
      ],
      "text/plain": [
       "    zIncome  zLot_Size\n",
       "0 -0.634098    0.55743"
      ]
     },
     "execution_count": 75,
     "metadata": {},
     "output_type": "execute_result"
    }
   ],
   "source": [
    "trainStd = mowerStd.iloc[trainData.index] # prendo gli indici del dataset di training originari e li uso per estrarre \n",
    "                                          # un subset dei dati standardizzati.\n",
    "                     \n",
    "validStd = mowerStd.iloc[validData.index] # la stessa operazione\n",
    "\n",
    "newHouseholdStd = pd.DataFrame(scaler.transform(newHousehold), columns=['zIncome', 'zLot_Size'])\n",
    "                                          # la 'transform' utiliza mean/std-dev calcolati prima dalla 'fit'\n",
    "\n",
    "newHouseholdStd                           # x0"
   ]
  },
  {
   "cell_type": "markdown",
   "metadata": {},
   "source": [
    "### Applicazione del kNN"
   ]
  },
  {
   "cell_type": "code",
   "execution_count": 76,
   "metadata": {},
   "outputs": [],
   "source": [
    "knn = NearestNeighbors(n_neighbors=3)  # step 1) costruzione dell'oggetto\n",
    "                                       # 'metric'=minkowski con p=2 --> distanza euclidea.\n",
    "                                       # la distanza euclidea è la più frequente nel knn ed è computazionalmente veloce.\n",
    "                                       # k esprime la regola di classificazione.\n",
    "                                       # k=1 è la scelta più semplice --> il vicinato ad X0 è semplicemente il punto più vicino.\n",
    "                                       \n",
    "                                       # knn, ancorchè semplice ed intuitivo, è molto efficace quando il training set è grande.\n",
    "                                       # knn è il miglior classificatore in un caso su tre (Hastie & Tibshirani).\n",
    "                                       # l'errore di classificazione del knn è al massimo due volte di quello se si conoscono\n",
    "                                       # le PDF delle classi (cioè le PDF congiunte condizionate ad ogni classe). Teorema.\n",
    "                                                      \n"
   ]
  },
  {
   "cell_type": "markdown",
   "metadata": {},
   "source": [
    "[Distanza di Minkowski](https://it.wikipedia.org/wiki/Distanza_di_Minkowski#:~:text=In%20matematica%2C%20la%20distanza%20di,sia%20della%20distanza%20di%20Manhattan.) "
   ]
  },
  {
   "cell_type": "code",
   "execution_count": 77,
   "metadata": {},
   "outputs": [
    {
     "name": "stdout",
     "output_type": "stream",
     "text": [
      "[[0.44 0.73 0.75]]\n",
      "[[12  7 13]]\n",
      "Int64Index([2, 19, 6, 7, 21, 1, 16, 0, 15, 23, 22, 9, 8, 12, 11, 5], dtype='int64')\n"
     ]
    }
   ],
   "source": [
    "knn.fit(trainStd[['zIncome', 'zLot_Size']])           # step 2) \"fit\" (nel knn è solo uno store dei dati training)\n",
    "\n",
    "distances, indices = knn.kneighbors(newHouseholdStd)  # step 3) previsione per nuovi dati (x0).\n",
    "                                                      # \"the method kneighbors finds the K-neighbors of a point. Returns indices\n",
    "                                                      # of and distances to the neighbors of each point.\"\"\n",
    "                                                      # è solo ora che knn lavora (algoritmo lazy!)\n",
    "\n",
    "print(np.round(distances,2))                          # la distanza dei 3 punti del \"vicinato\" dal punto x0 (k=3).\n",
    "                                                      # [gli altri punti del dataset hanno distanze da X0 maggiori].\n",
    "print(indices)                                        # Gli indici dei punti del vicinato.\n",
    "print(trainStd.index)"
   ]
  },
  {
   "cell_type": "code",
   "execution_count": 78,
   "metadata": {
    "scrolled": true
   },
   "outputs": [],
   "source": [
    "# verifichiamo ora che il vicinato ad X0 sia effettivamente tale!\n",
    "# servono 6 passi.\n",
    "\n",
    "# 1. creiamo un df pandas con tutte le osservazioni di training ed X0:\n",
    "df_concat = pd.concat([trainStd[['zIncome', 'zLot_Size']],newHouseholdStd],axis=0) \n",
    "                                                   # combina la colonna 1 dei casi 5 e 6 con la colonna 4 dei medesimi casi.\n",
    "                                                   # 'axis' specifica la dimensione lungo la quale la concatenazione avviene.\n",
    "                                                   # 0 righe - 1 colonne."
   ]
  },
  {
   "cell_type": "code",
   "execution_count": 79,
   "metadata": {},
   "outputs": [
    {
     "data": {
      "text/html": [
       "<div>\n",
       "<style scoped>\n",
       "    .dataframe tbody tr th:only-of-type {\n",
       "        vertical-align: middle;\n",
       "    }\n",
       "\n",
       "    .dataframe tbody tr th {\n",
       "        vertical-align: top;\n",
       "    }\n",
       "\n",
       "    .dataframe thead th {\n",
       "        text-align: right;\n",
       "    }\n",
       "</style>\n",
       "<table border=\"1\" class=\"dataframe\">\n",
       "  <thead>\n",
       "    <tr style=\"text-align: right;\">\n",
       "      <th></th>\n",
       "      <th>zIncome</th>\n",
       "      <th>zLot_Size</th>\n",
       "    </tr>\n",
       "  </thead>\n",
       "  <tbody>\n",
       "    <tr>\n",
       "      <th>2</th>\n",
       "      <td>-0.401535</td>\n",
       "      <td>1.285503</td>\n",
       "    </tr>\n",
       "    <tr>\n",
       "      <th>19</th>\n",
       "      <td>-0.343394</td>\n",
       "      <td>-0.170642</td>\n",
       "    </tr>\n",
       "    <tr>\n",
       "      <th>6</th>\n",
       "      <td>1.691534</td>\n",
       "      <td>-0.534678</td>\n",
       "    </tr>\n",
       "    <tr>\n",
       "      <th>7</th>\n",
       "      <td>0.470577</td>\n",
       "      <td>1.649539</td>\n",
       "    </tr>\n",
       "    <tr>\n",
       "      <th>21</th>\n",
       "      <td>-1.942266</td>\n",
       "      <td>0.011376</td>\n",
       "    </tr>\n",
       "    <tr>\n",
       "      <th>1</th>\n",
       "      <td>0.601394</td>\n",
       "      <td>-0.898714</td>\n",
       "    </tr>\n",
       "    <tr>\n",
       "      <th>16</th>\n",
       "      <td>0.528718</td>\n",
       "      <td>-0.534678</td>\n",
       "    </tr>\n",
       "    <tr>\n",
       "      <th>0</th>\n",
       "      <td>-0.634098</td>\n",
       "      <td>-0.170642</td>\n",
       "    </tr>\n",
       "    <tr>\n",
       "      <th>15</th>\n",
       "      <td>-1.448069</td>\n",
       "      <td>0.739448</td>\n",
       "    </tr>\n",
       "    <tr>\n",
       "      <th>23</th>\n",
       "      <td>-0.488746</td>\n",
       "      <td>-1.808805</td>\n",
       "    </tr>\n",
       "    <tr>\n",
       "      <th>22</th>\n",
       "      <td>-1.070154</td>\n",
       "      <td>-2.172841</td>\n",
       "    </tr>\n",
       "    <tr>\n",
       "      <th>9</th>\n",
       "      <td>0.964774</td>\n",
       "      <td>0.921467</td>\n",
       "    </tr>\n",
       "    <tr>\n",
       "      <th>8</th>\n",
       "      <td>-0.198042</td>\n",
       "      <td>0.557430</td>\n",
       "    </tr>\n",
       "    <tr>\n",
       "      <th>12</th>\n",
       "      <td>0.092662</td>\n",
       "      <td>0.375412</td>\n",
       "    </tr>\n",
       "    <tr>\n",
       "      <th>11</th>\n",
       "      <td>0.383366</td>\n",
       "      <td>0.557430</td>\n",
       "    </tr>\n",
       "    <tr>\n",
       "      <th>5</th>\n",
       "      <td>1.793280</td>\n",
       "      <td>0.193394</td>\n",
       "    </tr>\n",
       "    <tr>\n",
       "      <th>0</th>\n",
       "      <td>-0.634098</td>\n",
       "      <td>0.557430</td>\n",
       "    </tr>\n",
       "  </tbody>\n",
       "</table>\n",
       "</div>"
      ],
      "text/plain": [
       "     zIncome  zLot_Size\n",
       "2  -0.401535   1.285503\n",
       "19 -0.343394  -0.170642\n",
       "6   1.691534  -0.534678\n",
       "7   0.470577   1.649539\n",
       "21 -1.942266   0.011376\n",
       "1   0.601394  -0.898714\n",
       "16  0.528718  -0.534678\n",
       "0  -0.634098  -0.170642\n",
       "15 -1.448069   0.739448\n",
       "23 -0.488746  -1.808805\n",
       "22 -1.070154  -2.172841\n",
       "9   0.964774   0.921467\n",
       "8  -0.198042   0.557430\n",
       "12  0.092662   0.375412\n",
       "11  0.383366   0.557430\n",
       "5   1.793280   0.193394\n",
       "0  -0.634098   0.557430"
      ]
     },
     "execution_count": 79,
     "metadata": {},
     "output_type": "execute_result"
    }
   ],
   "source": [
    "df_concat                                          # le righe di training ed al fondo la riga nuova"
   ]
  },
  {
   "cell_type": "code",
   "execution_count": 80,
   "metadata": {
    "scrolled": true
   },
   "outputs": [
    {
     "name": "stdout",
     "output_type": "stream",
     "text": [
      "[[0.   0.   0.   0.   0.   0.   0.   0.   0.   0.   0.   0.   0.   0.   0.   0.   0.  ]\n",
      " [1.46 0.   0.   0.   0.   0.   0.   0.   0.   0.   0.   0.   0.   0.   0.   0.   0.  ]\n",
      " [2.77 2.07 0.   0.   0.   0.   0.   0.   0.   0.   0.   0.   0.   0.   0.   0.   0.  ]\n",
      " [0.95 1.99 2.5  0.   0.   0.   0.   0.   0.   0.   0.   0.   0.   0.   0.   0.   0.  ]\n",
      " [2.   1.61 3.67 2.92 0.   0.   0.   0.   0.   0.   0.   0.   0.   0.   0.   0.   0.  ]\n",
      " [2.4  1.19 1.15 2.55 2.7  0.   0.   0.   0.   0.   0.   0.   0.   0.   0.   0.   0.  ]\n",
      " [2.04 0.95 1.16 2.18 2.53 0.37 0.   0.   0.   0.   0.   0.   0.   0.   0.   0.   0.  ]\n",
      " [1.47 0.29 2.35 2.13 1.32 1.43 1.22 0.   0.   0.   0.   0.   0.   0.   0.   0.   0.  ]\n",
      " [1.18 1.43 3.39 2.12 0.88 2.62 2.35 1.22 0.   0.   0.   0.   0.   0.   0.   0.   0.  ]\n",
      " [3.1  1.64 2.53 3.59 2.33 1.42 1.63 1.64 2.72 0.   0.   0.   0.   0.   0.   0.   0.  ]\n",
      " [3.52 2.13 3.21 4.12 2.35 2.1  2.29 2.05 2.94 0.69 0.   0.   0.   0.   0.   0.   0.  ]\n",
      " [1.41 1.7  1.63 0.88 3.05 1.86 1.52 1.94 2.42 3.09 3.7  0.   0.   0.   0.   0.   0.  ]\n",
      " [0.76 0.74 2.18 1.28 1.83 1.66 1.31 0.85 1.26 2.38 2.87 1.22 0.   0.   0.   0.   0.  ]\n",
      " [1.04 0.7  1.84 1.33 2.07 1.37 1.01 0.91 1.58 2.26 2.8  1.03 0.34 0.   0.   0.   0.  ]\n",
      " [1.07 1.03 1.7  1.1  2.39 1.47 1.1  1.25 1.84 2.52 3.09 0.69 0.58 0.34 0.   0.   0.  ]\n",
      " [2.45 2.17 0.74 1.97 3.74 1.62 1.46 2.45 3.29 3.04 3.71 1.1  2.02 1.71 1.46 0.   0.  ]\n",
      " [0.76 0.78 2.57 1.55 1.42 1.91 1.6  0.73 0.83 2.37 2.76 1.64 0.44 0.75 1.02 2.45 0.  ]]\n",
      "(17, 17)\n"
     ]
    }
   ],
   "source": [
    "# verifichiamo ora che il vicinato ad X0 sia effettivamente tale!\n",
    "# passi 2-6\n",
    "\n",
    "# 2. pre-conversione di formato\n",
    "X = df_concat[['zIncome', 'zLot_Size']].to_numpy() # la funxione 'dist.pairwise' (vedi step 3.) richiede un'array np.\n",
    "                                                   # serve la conversione da pandas df a numpy array.\n",
    "                                                   # '.to_numpy' converts specific columns of pandas df to numpy array \n",
    "                                                   # (so 13187778).\n",
    "\n",
    "# 3. calcoliamo la matrice delle distanze:\n",
    "from sklearn.neighbors import DistanceMetric\n",
    "dist = DistanceMetric.get_metric('euclidean')\n",
    "\n",
    "dist = dist.pairwise(X)            # la matrice delle distanze (euclidee) tra le osservazioni dell'array df_concat.\n",
    "                                   # \"'dist_pairwise' computes the pairwise distances between X (and Y). This is a \n",
    "                                   # convenience routine for the sake of testing.\"\n",
    "\n",
    "# 4. teniamo solo la matrice traingolare superiore (per chiarezza)\n",
    "dist_lower = np.tril(dist)\n",
    "\n",
    "# 5. con screen grandi si può aumentare l'ampiezza di linea per avere output più chiari:\n",
    "np.set_printoptions(linewidth=110) # so 21971449, 37149933.\n",
    "\n",
    "# 6. visualizziamola (con le sue dimensioni):\n",
    "print(np.round(dist_lower,2),)\n",
    "                                         # X0 è l'ultima riga.\n",
    "                                         # le tre distanze minori sono appunto 13,8,14 (in ordine crescente)\n",
    "                                         #                        (con n-1 --> 12,7,13)\n",
    "            \n",
    "print(dist_lower.shape)                  # trainStd era 16x4, abbiamo aggiunto X0"
   ]
  },
  {
   "cell_type": "code",
   "execution_count": 81,
   "metadata": {},
   "outputs": [
    {
     "name": "stdout",
     "output_type": "stream",
     "text": [
      "[[0.44 0.73 0.75 0.76]]\n",
      "[[12  7 13  0]]\n",
      "Int64Index([2, 19, 6, 7, 21, 1, 16, 0, 15, 23, 22, 9, 8, 12, 11, 5], dtype='int64')\n"
     ]
    }
   ],
   "source": [
    "# nella suddetta matrice delle distanze, nella riga di X0 (l'ultima), il QUARTO valore crescente è 0.76, alla posizione 1 \n",
    "# (indice 0).\n",
    "# verifichiamolo con k=4 (con lo stesso codice di prima): \n",
    "knn = NearestNeighbors(n_neighbors=4) \n",
    "knn.fit(trainStd[['zIncome', 'zLot_Size']])           \n",
    "distances, indices = knn.kneighbors(newHouseholdStd)  \n",
    "print(np.round(distances,2))                                      \n",
    "                                                     \n",
    "print(indices)                                        \n",
    "print(trainStd.index)"
   ]
  },
  {
   "cell_type": "code",
   "execution_count": 82,
   "metadata": {},
   "outputs": [
    {
     "data": {
      "image/png": "[encoded data removed]",
      "text/plain": [
       "<Figure size 432x288 with 1 Axes>"
      ]
     },
     "metadata": {
      "needs_background": "light"
     },
     "output_type": "display_data"
    }
   ],
   "source": [
    "# lo scatter plot dei punti del training set e di X0 (con pandas).\n",
    "def plotDataset(ax, data, showLabel=True, **kwargs):\n",
    "    subset = data.loc[data['Ownership']=='Owner']\n",
    "    ax.scatter(subset.zIncome, subset.zLot_Size, marker='o', label='Owner' if showLabel else None, color='C1', **kwargs)\n",
    "\n",
    "    subset = data.loc[data['Ownership']=='Nonowner']\n",
    "    ax.scatter(subset.zIncome, subset.zLot_Size, marker='D', label='Nonowner' if showLabel else None, color='C0', **kwargs)\n",
    "\n",
    "    plt.xlabel('zIncome')  # set x-axis label\n",
    "    plt.ylabel('zLot_Size')  # set y-axis label\n",
    "    # for _, row in data.iterrows():\n",
    "    #    ax.annotate(row.Number, (row.zIncome + 2, row.zLot_Size))\n",
    "\n",
    "fig, ax = plt.subplots()\n",
    "\n",
    "\n",
    "plotDataset(ax, trainStd)\n",
    "\n",
    "ax.scatter(newHouseholdStd.zIncome, newHouseholdStd.zLot_Size, marker='*', label='New household', color='black', s=150)\n",
    "\n",
    "plt.xlabel('zIncome')  # set x-axis label\n",
    "plt.ylabel('zLot_Size')  # set y-axis label\n",
    "    \n",
    "handles, labels = ax.get_legend_handles_labels()\n",
    "ax.set_xlim(-3,3)\n",
    "ax.set_ylim(-3,3)\n",
    "ax.legend(handles, labels, loc=4)\n",
    "\n",
    "plt.show()"
   ]
  },
  {
   "cell_type": "code",
   "execution_count": 83,
   "metadata": {},
   "outputs": [
    {
     "name": "stdout",
     "output_type": "stream",
     "text": [
      "     zIncome  zLot_Size Ownership  Number\n",
      "8  -0.198042   0.557430     Owner       9\n",
      "0  -0.634098  -0.170642     Owner       1\n",
      "12  0.092662   0.375412  Nonowner      13\n",
      "2  -0.401535   1.285503     Owner       3\n"
     ]
    }
   ],
   "source": [
    "print(trainStd.iloc[indices[0], :])  # indices (il secondo output di 'knn.kneighbors') is a list of lists, we are only \n",
    "                                     # interested in the first element"
   ]
  },
  {
   "cell_type": "code",
   "execution_count": 84,
   "metadata": {},
   "outputs": [
    {
     "name": "stdout",
     "output_type": "stream",
     "text": [
      "     k  accuracy\n",
      "0    1     0.875\n",
      "1    2     0.875\n",
      "2    3     0.875\n",
      "3    4     0.750\n",
      "4    5     0.875\n",
      "5    6     1.000\n",
      "6    7     1.000\n",
      "7    8     1.000\n",
      "8    9     0.875\n",
      "9   10     0.875\n",
      "10  11     0.875\n",
      "11  12     0.875\n",
      "12  13     0.875\n",
      "13  14     0.875\n"
     ]
    }
   ],
   "source": [
    "train_X = trainStd[['zIncome', 'zLot_Size']]\n",
    "train_y = trainStd['Ownership']\n",
    "valid_X = validStd[['zIncome', 'zLot_Size']]\n",
    "valid_y = validStd['Ownership']\n",
    "\n",
    "# Train a classifier for different values of k\n",
    "results = []\n",
    "for k in range(1, 15): # k=1,2,...14\n",
    "    knn = KNeighborsClassifier(n_neighbors=k).fit(train_X, train_y)\n",
    "    results.append({\n",
    "        'k': k,\n",
    "        'accuracy': accuracy_score(valid_y, knn.predict(valid_X))\n",
    "    })\n",
    "\n",
    "# Convert results (a list) to a pandas data frame\n",
    "results = pd.DataFrame(results)\n",
    "print(results)"
   ]
  },
  {
   "cell_type": "code",
   "execution_count": 85,
   "metadata": {},
   "outputs": [
    {
     "name": "stdout",
     "output_type": "stream",
     "text": [
      "['Owner']\n",
      "Distances [[0.37121978 0.43605598 0.50419739 0.72807232 0.74920667 0.76431337]]\n",
      "Indices [[ 3  8 13  0 12  2]]\n",
      "     zIncome  zLot_Size Ownership  Number\n",
      "3  -0.561422   0.921467     Owner       4\n",
      "8  -0.198042   0.557430     Owner       9\n",
      "13 -0.982943   0.921467  Nonowner      14\n",
      "0  -0.634098  -0.170642     Owner       1\n",
      "12  0.092662   0.375412  Nonowner      13\n",
      "2  -0.401535   1.285503     Owner       3\n"
     ]
    }
   ],
   "source": [
    "# Retrain with full dataset\n",
    "mower_X = mowerStd[['zIncome', 'zLot_Size']]\n",
    "mower_y = mowerStd['Ownership']\n",
    "knn = KNeighborsClassifier(n_neighbors=6).fit(mower_X, mower_y)\n",
    "distances, indices = knn.kneighbors(newHouseholdStd)\n",
    "print(knn.predict(newHouseholdStd))\n",
    "print('Distances',distances)\n",
    "print('Indices', indices)\n",
    "print(mowerStd.iloc[indices[0], :])"
   ]
  },
  {
   "cell_type": "code",
   "execution_count": 86,
   "metadata": {},
   "outputs": [],
   "source": [
    "# Dall'importante Teorema di Cover & Hart (1967):\n",
    "# L'error-rate (1-accuratezza) del classificatore 1-NN non è asintoticamente mai maggiore di due volte il tasso di errore \n",
    "# di Bayes. \n",
    "# Cioè, il tasso di errore di un classificatore che conosca il Decision Boundary, che cioè conosca le probabilità di classe\n",
    "# per ogni punto del dominio (detto appunto Bayes Error Rate) costituisce (per due) il limite superiore di 1-NN. "
   ]
  },
  {
   "cell_type": "markdown",
   "metadata": {},
   "source": [
    "## La dissimilarità / distanza "
   ]
  },
  {
   "cell_type": "markdown",
   "metadata": {},
   "source": [
    "Che distanze sono disponibili con knn? (argomento 'metric')<br>\n",
    "Dalla documentazione: \"The default metric is minkowski, and with p=2 is equivalent to the standard Euclidean metric. <u>See the documentation of *DistanceMetric* for a list of available metrics.\"</u><br><br>\n",
    "[Le distanze disponibili](https://scikit-learn.org/0.24/modules/generated/sklearn.neighbors.DistanceMetric.html)<br><br>\n",
    "In particolare (per variabili continue):\n",
    "* Euclidea\n",
    "* Manhattan   (ad isolati)\n",
    "* Mahalanobis (quella della gaussiana congiunta, tiene conto delle correlazioni) \n",
    "\n",
    "\n",
    "**Segue un estratto dal testo \"Applied Multivariate Statistical Analysis (sixth ed.) di Johnson & Wichern - 2014 <u>sulle Misure di similarità</u>:**<br>\n",
    "![Misure di similarità](images_knn/MisureSimilaritaJW.png) \n",
    "![Misure di similarità](images_knn/MisureSimilaritaJW2.png) \n",
    "![Misure di similarità](images_knn/MisureSimilaritaJW3.png)\n",
    "<br>\n",
    "\n",
    "**Una distanza deve soddisfare alcune proprietà (sempre dal testo di Johnson & Wichern, p. 37):**  \n",
    "![Proprietà delle distanze](images_knn/ProprietaDistanze.png) \n",
    "<br><br>\n",
    "UltraMetric (una quinta proprietà) vs. Pseudo(Semi)Metric, che non soddisfa la \"triangle inequality\" (usate nella Text Analytics)\n",
    "<br><br>\n",
    "\n",
    "**Breve trattazione del tema similarità / dissimilarità / distanze (prof. Secchi, PoliMI, corso di \"Applied Statistics\" 2018):**\n",
    "![Pagina 1](images_knn/DistanzeSecchi.png) \n",
    "![Pagina 2](images_knn/DistanzeSecchi2.png) \n",
    "![Pagina 3](images_knn/DistanzeSecchi3.png) \n",
    "![Pagina 4](images_knn/DistanzeSecchi4.png) \n",
    "\n",
    "\n",
    "[C'è anche un libro: \"Encyclopedia of distances\" della Springer](https://link.springer.com/book/10.1007/978-3-642-30958-8)\n"
   ]
  },
  {
   "cell_type": "markdown",
   "metadata": {},
   "source": [
    "## Il Decision Boundary"
   ]
  },
  {
   "cell_type": "markdown",
   "metadata": {},
   "source": [
    "Come si **plotta** il Decision Boundary?\n",
    "\n",
    "**L'algoritmo base di plotting** è brevemente descritto in ESL, p. 110 (footnote):<br>\n",
    "\"(For this figure and many similar figures in the book) we compute the decision boundaries by an exhaustive contouring method.\n",
    "We compute the decision rule on a fine lattice of points, and then use contouring algorithms to compute the boundaries.<br><br>\n",
    "Di seguito sono forniti alcuni **codici python** che implementano questo algoritmo base (in modi leggermente differenti):\n",
    "\n",
    "[Plot Python della famosa Figure 2.2 di ESL](https://stackoverflow.com/questions/41138706/recreating-decision-boundary-plot-in-python-with-scikit-learn-and-matplotlib) "
   ]
  },
  {
   "cell_type": "markdown",
   "metadata": {},
   "source": [
    "Nel DB le probabilità (per quel punto) delle due classi confinanti sono **uguali (o simili)**.<br>\n",
    "Sono DB **stimati** tramite il campione. I veri DB non sono quasi mai noti (non è noto il processo generativo dei dati).<br>"
   ]
  },
  {
   "cell_type": "code",
   "execution_count": 87,
   "metadata": {},
   "outputs": [
    {
     "name": "stdout",
     "output_type": "stream",
     "text": [
      "From URL: https://archive.ics.uci.edu/ml/machine-learning-databases/iris/iris.data\n"
     ]
    },
    {
     "data": {
      "text/html": [
       "<div>\n",
       "<style scoped>\n",
       "    .dataframe tbody tr th:only-of-type {\n",
       "        vertical-align: middle;\n",
       "    }\n",
       "\n",
       "    .dataframe tbody tr th {\n",
       "        vertical-align: top;\n",
       "    }\n",
       "\n",
       "    .dataframe thead th {\n",
       "        text-align: right;\n",
       "    }\n",
       "</style>\n",
       "<table border=\"1\" class=\"dataframe\">\n",
       "  <thead>\n",
       "    <tr style=\"text-align: right;\">\n",
       "      <th></th>\n",
       "      <th>0</th>\n",
       "      <th>1</th>\n",
       "      <th>2</th>\n",
       "      <th>3</th>\n",
       "      <th>4</th>\n",
       "    </tr>\n",
       "  </thead>\n",
       "  <tbody>\n",
       "    <tr>\n",
       "      <th>145</th>\n",
       "      <td>6.7</td>\n",
       "      <td>3.0</td>\n",
       "      <td>5.2</td>\n",
       "      <td>2.3</td>\n",
       "      <td>Iris-virginica</td>\n",
       "    </tr>\n",
       "    <tr>\n",
       "      <th>146</th>\n",
       "      <td>6.3</td>\n",
       "      <td>2.5</td>\n",
       "      <td>5.0</td>\n",
       "      <td>1.9</td>\n",
       "      <td>Iris-virginica</td>\n",
       "    </tr>\n",
       "    <tr>\n",
       "      <th>147</th>\n",
       "      <td>6.5</td>\n",
       "      <td>3.0</td>\n",
       "      <td>5.2</td>\n",
       "      <td>2.0</td>\n",
       "      <td>Iris-virginica</td>\n",
       "    </tr>\n",
       "    <tr>\n",
       "      <th>148</th>\n",
       "      <td>6.2</td>\n",
       "      <td>3.4</td>\n",
       "      <td>5.4</td>\n",
       "      <td>2.3</td>\n",
       "      <td>Iris-virginica</td>\n",
       "    </tr>\n",
       "    <tr>\n",
       "      <th>149</th>\n",
       "      <td>5.9</td>\n",
       "      <td>3.0</td>\n",
       "      <td>5.1</td>\n",
       "      <td>1.8</td>\n",
       "      <td>Iris-virginica</td>\n",
       "    </tr>\n",
       "  </tbody>\n",
       "</table>\n",
       "</div>"
      ],
      "text/plain": [
       "       0    1    2    3               4\n",
       "145  6.7  3.0  5.2  2.3  Iris-virginica\n",
       "146  6.3  2.5  5.0  1.9  Iris-virginica\n",
       "147  6.5  3.0  5.2  2.0  Iris-virginica\n",
       "148  6.2  3.4  5.4  2.3  Iris-virginica\n",
       "149  5.9  3.0  5.1  1.8  Iris-virginica"
      ]
     },
     "execution_count": 87,
     "metadata": {},
     "output_type": "execute_result"
    }
   ],
   "source": [
    "# caricamento dei dati iris da internet (UCI Machine Learning)\n",
    "\n",
    "import os\n",
    "import pandas as pd\n",
    "\n",
    "try:\n",
    "    s = 'https://archive.ics.uci.edu/ml/machine-learning-databases/iris/iris.data'\n",
    "    print('From URL:', s)\n",
    "    df = pd.read_csv(s,\n",
    "                     header=None,\n",
    "                     encoding='utf-8')\n",
    "    \n",
    "except HTTPError:\n",
    "    s = 'iris.data'\n",
    "    print('From local Iris path:', s)\n",
    "    df = pd.read_csv(s,\n",
    "                     header=None,\n",
    "                     encoding='utf-8')\n",
    "    \n",
    "df.tail()"
   ]
  },
  {
   "cell_type": "code",
   "execution_count": 88,
   "metadata": {},
   "outputs": [
    {
     "data": {
      "image/png": "[encoded data removed]",
      "text/plain": [
       "<Figure size 432x288 with 1 Axes>"
      ]
     },
     "metadata": {
      "needs_background": "light"
     },
     "output_type": "display_data"
    }
   ],
   "source": [
    "# plot del dataset iris semplificato:\n",
    "# - solo le due feature 'sepal length' e 'petal length'\n",
    "# - solo i primi 100 fiori (corrispondenti alle due classi Setosa e Versicolor)\n",
    "\n",
    "%matplotlib inline\n",
    "import matplotlib.pyplot as plt\n",
    "import numpy as np\n",
    "\n",
    "# select setosa and versicolor (i primi 100 fiori)\n",
    "y = df.iloc[0:100, 4].values\n",
    "y = np.where(y == 'Iris-setosa', 0, 1)       # coding delle due classi (setosa=0, Versicolor=1)\n",
    "\n",
    "# extract sepal length and petal length\n",
    "X = df.iloc[0:100, [0, 2]].values\n",
    "\n",
    "# plot data\n",
    "plt.scatter(X[:50, 0], X[:50, 1],\n",
    "            color='red', marker='o', label='Setosa')        # plot dei 50 fiori setosa\n",
    "plt.scatter(X[50:100, 0], X[50:100, 1],\n",
    "            color='blue', marker='s', label='Versicolor')   # plot dei 50 fiori versicolor\n",
    "\n",
    "plt.xlabel('Sepal length [cm]')\n",
    "plt.ylabel('Petal length [cm]')\n",
    "plt.legend(loc='upper left')\n",
    "\n",
    "# plt.savefig('images/02_06.png', dpi=300)\n",
    "plt.show()"
   ]
  },
  {
   "cell_type": "code",
   "execution_count": 89,
   "metadata": {},
   "outputs": [],
   "source": [
    "# split train/test di X e y (70% di 100 = 70; 30% di 100 = 30)\n",
    "from sklearn.model_selection import train_test_split\n",
    "X_train, X_test, y_train, y_test = train_test_split(X,y, test_size=0.3,random_state=1)\n",
    "\n",
    "# costruttore di un classificatore 3NN\n",
    "knn_classifier = KNeighborsClassifier(n_neighbors=3)\n",
    "\n",
    "# fit sul training set\n",
    "knn_classifier.fit(X_train,y_train)\n",
    "\n",
    "# la previsione dei nuovi valori per i fiori di test\n",
    "y_pred = knn_classifier.predict(X_test) "
   ]
  },
  {
   "cell_type": "code",
   "execution_count": 91,
   "metadata": {},
   "outputs": [],
   "source": [
    "# funzione di PLOTTING del DECISION BOUNDARY di Rashka (dal libro 'Machine Learning with PyTorch and Scikit-Learn', ch. 2:\n",
    "# [https://github.com/rasbt/machine-learning-book/blob/main/ch02/ch02.ipynb]\n",
    "# è una funzione GENERALE, a prescindere dai dati in input e dal classificatore (che è usato dalla funzione per plottare il\n",
    "# colore di background dei punti della griglia: qui viola e rosa)\n",
    "    \n",
    "from matplotlib.colors import ListedColormap\n",
    "def plot_decision_regions(X, y, classifier, resolution=0.02):\n",
    "\n",
    "    # setup marker generator and color map\n",
    "    markers = ('o', 's', '^', 'v', '<')\n",
    "    colors = ('red', 'blue', 'lightgreen', 'gray', 'cyan')\n",
    "    cmap = ListedColormap(colors[:len(np.unique(y))])\n",
    "\n",
    "    # plot the decision surface\n",
    "    x1_min, x1_max = X[:, 0].min() - 1, X[:, 0].max() + 1\n",
    "    x2_min, x2_max = X[:, 1].min() - 1, X[:, 1].max() + 1\n",
    "    xx1, xx2 = np.meshgrid(np.arange(x1_min, x1_max, resolution),\n",
    "                           np.arange(x2_min, x2_max, resolution))\n",
    "    lab = classifier.predict(np.array([xx1.ravel(), xx2.ravel()]).T)\n",
    "    lab = lab.reshape(xx1.shape)\n",
    "    plt.contourf(xx1, xx2, lab, alpha=0.3, cmap=cmap)\n",
    "    plt.xlim(xx1.min(), xx1.max())\n",
    "    plt.ylim(xx2.min(), xx2.max())\n",
    "\n",
    "    # plot class examples\n",
    "    for idx, cl in enumerate(np.unique(y)):\n",
    "        plt.scatter(x=X[y == cl, 0], \n",
    "                    y=X[y == cl, 1],\n",
    "                    alpha=0.8, \n",
    "                    c=colors[idx],\n",
    "                    marker=markers[idx], \n",
    "                    label=f'Class {cl}', \n",
    "                    edgecolor='black')"
   ]
  },
  {
   "cell_type": "code",
   "execution_count": 92,
   "metadata": {},
   "outputs": [
    {
     "data": {
      "image/png": "[encoded data removed]",
      "text/plain": [
       "<Figure size 432x288 with 1 Axes>"
      ]
     },
     "metadata": {
      "needs_background": "light"
     },
     "output_type": "display_data"
    }
   ],
   "source": [
    "# il plot del DB\n",
    "plot_decision_regions(X, y, classifier=knn_classifier)\n",
    "plt.xlabel('Sepal length [cm]')\n",
    "plt.ylabel('Petal length [cm]')\n",
    "plt.legend(loc='upper left')\n",
    "\n",
    "#plt.savefig('images/02_08.png', dpi=300)\n",
    "plt.show()  # --> DB non-lineare"
   ]
  },
  {
   "cell_type": "markdown",
   "metadata": {},
   "source": [
    "[Plot di due feature di iris (con matplotlib) usando 4 differenti classificatori: output e codice python](https://scikit-learn.org/stable/auto_examples/ensemble/plot_voting_decision_regions.html)"
   ]
  },
  {
   "cell_type": "markdown",
   "metadata": {},
   "source": [
    "## Tipi di classificazione"
   ]
  },
  {
   "cell_type": "markdown",
   "metadata": {},
   "source": [
    "![Multi Class & Multi Output](images_knn/MultiClassMultiOutput.png) "
   ]
  },
  {
   "cell_type": "markdown",
   "metadata": {},
   "source": [
    "[Maggiori info su MC & MO in scikit-learn](https://scikit-learn.org/stable/modules/multiclass.html)"
   ]
  },
  {
   "cell_type": "markdown",
   "metadata": {},
   "source": [
    "## Grafici\n",
    "Nel corso useremo prevalentemente la grafica di pandas.\n",
    "\n",
    "La libreria di Data Visualization più vecchia è 'matplotlib'. E' anche la più flessibile. <br>\n",
    "\n",
    "Sulla differenza tra il modulo *pylab* ed il modulo *pyplot*, entrambi di matplotlib, vedi [qui](https://stackoverflow.com/questions/11469336/what-is-the-difference-between-pylab-and-pyplot).<br>\n",
    "[Ed anche qui](https://queirozf.com/entries/matplotlib-pylab-pyplot-etc-what-s-the-different-between-these): --> l'uso di pylab è ora <u>scoraggiato</u>.\n",
    "\n",
    "Diverse librerie costruiscono un wrapper sopra di esse, ad es. pandas e seaborn. \n",
    "\n",
    "seaborn ha le heatmap, utili per visualizzare le correlazioni ed i missing values.\n",
    "\n",
    "Una buona conoscenza di matplotlib permette un controllo più fine del plot finale, ma è oltre lo scopo del corso.\n",
    "\n",
    "Un'alternativa ancora è ggplot, costruita sulla \"grammatica della grafica\" di Leland Wilkinson.\n",
    "\n"
   ]
  },
  {
   "cell_type": "code",
   "execution_count": 86,
   "metadata": {},
   "outputs": [
    {
     "data": {
      "image/png": "[encoded data removed]",
      "text/plain": [
       "<Figure size 432x288 with 1 Axes>"
      ]
     },
     "metadata": {
      "needs_background": "light"
     },
     "output_type": "display_data"
    }
   ],
   "source": [
    "# il grafico iris con matplotlib (senza commento codice):\n",
    "\n",
    "fig, ax = plt.subplots()\n",
    "\n",
    "subset = trainData.loc[trainData['Ownership']=='Owner']\n",
    "ax.scatter(subset.Income, subset.Lot_Size, marker='o', label='Owner', color='C1')\n",
    "\n",
    "subset = trainData.loc[trainData['Ownership']=='Nonowner']\n",
    "ax.scatter(subset.Income, subset.Lot_Size, marker='D', label='Nonowner', color='C0')\n",
    "\n",
    "ax.scatter(newHousehold.Income, newHousehold.Lot_Size, marker='*', label='New household', color='black', s=150)\n",
    "\n",
    "plt.xlabel('Income')  # set x-axis label\n",
    "plt.ylabel('Lot_Size')  # set y-axis label\n",
    "for _, row in trainData.iterrows():\n",
    "    ax.annotate(row.Number, (row.Income + 2, row.Lot_Size))\n",
    "    \n",
    "handles, labels = ax.get_legend_handles_labels()\n",
    "ax.set_xlim(40, 115)\n",
    "ax.legend(handles, labels, loc=4)\n",
    "\n",
    "plt.show()"
   ]
  },
  {
   "cell_type": "code",
   "execution_count": 87,
   "metadata": {},
   "outputs": [
    {
     "data": {
      "image/png": "[encoded data removed]",
      "text/plain": [
       "<Figure size 432x288 with 1 Axes>"
      ]
     },
     "metadata": {
      "needs_background": "light"
     },
     "output_type": "display_data"
    }
   ],
   "source": [
    "def plotDataset(ax, data, showLabel=True, **kwargs):\n",
    "    subset = data.loc[data['Ownership']=='Owner']\n",
    "    ax.scatter(subset.Income, subset.Lot_Size, marker='o', label='Owner' if showLabel else None, color='C1', **kwargs)\n",
    "\n",
    "    subset = data.loc[data['Ownership']=='Nonowner']\n",
    "    ax.scatter(subset.Income, subset.Lot_Size, marker='D', label='Nonowner' if showLabel else None, color='C0', **kwargs)\n",
    "\n",
    "    plt.xlabel('Income')  # set x-axis label\n",
    "    plt.ylabel('Lot_Size')  # set y-axis label\n",
    "    for _, row in data.iterrows():\n",
    "        ax.annotate(row.Number, (row.Income + 2, row.Lot_Size))\n",
    "\n",
    "fig, ax = plt.subplots()\n",
    "\n",
    "plotDataset(ax, trainData)\n",
    "plotDataset(ax, validData, showLabel=False, facecolors='none')\n",
    "\n",
    "ax.scatter(newHousehold.Income, newHousehold.Lot_Size, marker='*', label='New household', color='black', s=150)\n",
    "\n",
    "plt.xlabel('Income')  # set x-axis label\n",
    "plt.ylabel('Lot_Size')  # set y-axis label\n",
    "    \n",
    "handles, labels = ax.get_legend_handles_labels()\n",
    "ax.set_xlim(40, 115)\n",
    "ax.legend(handles, labels, loc=4)\n",
    "\n",
    "plt.show()"
   ]
  },
  {
   "cell_type": "code",
   "execution_count": 88,
   "metadata": {},
   "outputs": [],
   "source": [
    "# come ingrandire questo plot? (so 36367986)\n",
    "\n",
    "# fig = plt.figure(figsize=(12,8), dpi= 100, facecolor='w', edgecolor='k') # non funziona\n",
    "\n",
    "# in modo permanentem (FUNZIONA):\n",
    "# plt.rcParams['figure.figsize'] = [12, 8]\n",
    "# plt.rcParams['figure.dpi'] = 100 # 200 e.g. is really fine, but slower"
   ]
  },
  {
   "cell_type": "markdown",
   "metadata": {},
   "source": [
    "## Campionamento"
   ]
  },
  {
   "cell_type": "code",
   "execution_count": 89,
   "metadata": {},
   "outputs": [
    {
     "data": {
      "text/html": [
       "<div>\n",
       "<style scoped>\n",
       "    .dataframe tbody tr th:only-of-type {\n",
       "        vertical-align: middle;\n",
       "    }\n",
       "\n",
       "    .dataframe tbody tr th {\n",
       "        vertical-align: top;\n",
       "    }\n",
       "\n",
       "    .dataframe thead th {\n",
       "        text-align: right;\n",
       "    }\n",
       "</style>\n",
       "<table border=\"1\" class=\"dataframe\">\n",
       "  <thead>\n",
       "    <tr style=\"text-align: right;\">\n",
       "      <th></th>\n",
       "      <th>Income</th>\n",
       "      <th>Lot_Size</th>\n",
       "      <th>Ownership</th>\n",
       "      <th>Number</th>\n",
       "    </tr>\n",
       "  </thead>\n",
       "  <tbody>\n",
       "    <tr>\n",
       "      <th>13</th>\n",
       "      <td>52.8</td>\n",
       "      <td>20.8</td>\n",
       "      <td>Nonowner</td>\n",
       "      <td>14</td>\n",
       "    </tr>\n",
       "    <tr>\n",
       "      <th>18</th>\n",
       "      <td>59.4</td>\n",
       "      <td>16.0</td>\n",
       "      <td>Nonowner</td>\n",
       "      <td>19</td>\n",
       "    </tr>\n",
       "    <tr>\n",
       "      <th>3</th>\n",
       "      <td>61.5</td>\n",
       "      <td>20.8</td>\n",
       "      <td>Owner</td>\n",
       "      <td>4</td>\n",
       "    </tr>\n",
       "    <tr>\n",
       "      <th>14</th>\n",
       "      <td>64.8</td>\n",
       "      <td>17.2</td>\n",
       "      <td>Nonowner</td>\n",
       "      <td>15</td>\n",
       "    </tr>\n",
       "    <tr>\n",
       "      <th>20</th>\n",
       "      <td>47.4</td>\n",
       "      <td>16.4</td>\n",
       "      <td>Nonowner</td>\n",
       "      <td>21</td>\n",
       "    </tr>\n",
       "  </tbody>\n",
       "</table>\n",
       "</div>"
      ],
      "text/plain": [
       "    Income  Lot_Size Ownership  Number\n",
       "13    52.8      20.8  Nonowner      14\n",
       "18    59.4      16.0  Nonowner      19\n",
       "3     61.5      20.8     Owner       4\n",
       "14    64.8      17.2  Nonowner      15\n",
       "20    47.4      16.4  Nonowner      21"
      ]
     },
     "execution_count": 89,
     "metadata": {},
     "output_type": "execute_result"
    }
   ],
   "source": [
    "mower_df.sample(5,random_state=1)"
   ]
  },
  {
   "cell_type": "code",
   "execution_count": 90,
   "metadata": {},
   "outputs": [],
   "source": [
    "# Regole pratiche?! (DMforBA, p. 29)\n",
    "# 10 righe per ogni predittore;\n",
    "# per classificazione: 6 * m * p (m= numero delle etichette della classe, p = numero delle feature)"
   ]
  },
  {
   "cell_type": "code",
   "execution_count": null,
   "metadata": {},
   "outputs": [],
   "source": []
  },
  {
   "cell_type": "code",
   "execution_count": null,
   "metadata": {},
   "outputs": [],
   "source": []
  }
 ],
 "metadata": {
  "kernelspec": {
   "display_name": "Python 3 (ipykernel)",
   "language": "python",
   "name": "python3"
  },
  "language_info": {
   "codemirror_mode": {
    "name": "ipython",
    "version": 3
   },
   "file_extension": ".py",
   "mimetype": "text/x-python",
   "name": "python",
   "nbconvert_exporter": "python",
   "pygments_lexer": "ipython3",
   "version": "3.9.7"
  },
  "toc": {
   "base_numbering": 1,
   "nav_menu": {},
   "number_sections": true,
   "sideBar": true,
   "skip_h1_title": false,
   "title_cell": "Table of Contents",
   "title_sidebar": "Contents",
   "toc_cell": false,
   "toc_position": {
    "height": "calc(100% - 180px)",
    "left": "10px",
    "top": "150px",
    "width": "207.969px"
   },
   "toc_section_display": true,
   "toc_window_display": true
  },
  "varInspector": {
   "cols": {
    "lenName": 16,
    "lenType": 16,
    "lenVar": 40
   },
   "kernels_config": {
    "python": {
     "delete_cmd_postfix": "",
     "delete_cmd_prefix": "del ",
     "library": "var_list.py",
     "varRefreshCmd": "print(var_dic_list())"
    },
    "r": {
     "delete_cmd_postfix": ") ",
     "delete_cmd_prefix": "rm(",
     "library": "var_list.r",
     "varRefreshCmd": "cat(var_dic_list()) "
    }
   },
   "oldHeight": 200.4,
   "position": {
    "height": "295.375px",
    "left": "601.4px",
    "right": "20px",
    "top": "81px",
    "width": "430px"
   },
   "types_to_exclude": [
    "module",
    "function",
    "builtin_function_or_method",
    "instance",
    "_Feature"
   ],
   "varInspector_section_display": "block",
   "window_display": false
  }
 },
 "nbformat": 4,
 "nbformat_minor": 2
}
