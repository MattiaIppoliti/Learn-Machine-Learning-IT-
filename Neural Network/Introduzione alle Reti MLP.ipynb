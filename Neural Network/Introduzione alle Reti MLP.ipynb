{
 "cells": [
  {
   "attachments": {},
   "cell_type": "markdown",
   "id": "a21245f1",
   "metadata": {},
   "source": [
    "# Introduzione alle Reti Neurali"
   ]
  },
  {
   "cell_type": "markdown",
   "id": "131bec77",
   "metadata": {},
   "source": [
    "# Reti MLP\n",
    "Il termine *Multi-layer Perceptron* può confondere un pò perchè i neuroni artificiali (*unità*) di queste reti sono in genere funzioni logistiche, non percettroni. Possiamo intendere i neuroni di una rete MLP come neuroni logistici che restituiscono valori nel range continuo 0-1."
   ]
  },
  {
   "cell_type": "markdown",
   "id": "1c6c0677",
   "metadata": {},
   "source": [
    "## Esempio giocattolo (di classificazione)"
   ]
  },
  {
   "cell_type": "code",
   "execution_count": 1,
   "id": "f8316cdc",
   "metadata": {},
   "outputs": [],
   "source": [
    "# l'import dei package necessari:\n",
    "\n",
    "import numpy as np\n",
    "import pandas as pd\n",
    "\n",
    "from pathlib import Path                               # per la gestione dei path-name del file system\n",
    "\n",
    "from sklearn.neural_network import MLPClassifier       # il classificatore a rete neurale MLP\n",
    "\n",
    "from sklearn.model_selection import train_test_split   # per lo split tra dati di train e di test\n",
    "\n",
    "from sklearn.preprocessing import StandardScaler       # per la standardizzazione dei dati \n",
    "\n",
    "from sklearn.pipeline import Pipeline                  # per costruire una pipeline di trasformazioni con uno stimatore \n",
    "                                                       # finale\n",
    "\n",
    "from sklearn.metrics import make_scorer                # per calcolare lo score da una metrica di prestazione o da una \n",
    "                                                       # loss function\n",
    "    \n",
    "from sklearn.metrics import accuracy_score             # accuracy classification score\n",
    "\n",
    "from sklearn.model_selection import GridSearchCV       # la GridSearchCV\n",
    "\n",
    "import dmba                                            # package di utility (prima fare 'pip install dmba' da un prompt\n",
    "                                                       # anaconda, se non ancora fatto)\n",
    "from dmba import classificationSummary                 # per la matrice di confusione\n",
    "\n",
    "import matplotlib.pyplot as plt                        # per i grafici matplotlib\n",
    "%matplotlib inline  \n",
    "                                                       # per una buona visualizzazione di grafici matplotlib in \n",
    "                                                       # celle (vedi il post stackoverflow 43027980)\n",
    "\n",
    "from IPython.display import Image                      # per importare in una cella CODICE un'immagine (PML)"
   ]
  },
  {
   "cell_type": "code",
   "execution_count": 15,
   "id": "5b784c72",
   "metadata": {},
   "outputs": [
    {
     "data": {
      "text/html": [
       "<div>\n",
       "<style scoped>\n",
       "    .dataframe tbody tr th:only-of-type {\n",
       "        vertical-align: middle;\n",
       "    }\n",
       "\n",
       "    .dataframe tbody tr th {\n",
       "        vertical-align: top;\n",
       "    }\n",
       "\n",
       "    .dataframe thead th {\n",
       "        text-align: right;\n",
       "    }\n",
       "</style>\n",
       "<table border=\"1\" class=\"dataframe\">\n",
       "  <thead>\n",
       "    <tr style=\"text-align: right;\">\n",
       "      <th></th>\n",
       "      <th>Obs.</th>\n",
       "      <th>Fat</th>\n",
       "      <th>Salt</th>\n",
       "      <th>Acceptance</th>\n",
       "    </tr>\n",
       "  </thead>\n",
       "  <tbody>\n",
       "    <tr>\n",
       "      <th>0</th>\n",
       "      <td>1</td>\n",
       "      <td>0.2</td>\n",
       "      <td>0.9</td>\n",
       "      <td>like</td>\n",
       "    </tr>\n",
       "    <tr>\n",
       "      <th>1</th>\n",
       "      <td>2</td>\n",
       "      <td>0.1</td>\n",
       "      <td>0.1</td>\n",
       "      <td>dislike</td>\n",
       "    </tr>\n",
       "    <tr>\n",
       "      <th>2</th>\n",
       "      <td>3</td>\n",
       "      <td>0.2</td>\n",
       "      <td>0.4</td>\n",
       "      <td>dislike</td>\n",
       "    </tr>\n",
       "    <tr>\n",
       "      <th>3</th>\n",
       "      <td>4</td>\n",
       "      <td>0.2</td>\n",
       "      <td>0.5</td>\n",
       "      <td>dislike</td>\n",
       "    </tr>\n",
       "    <tr>\n",
       "      <th>4</th>\n",
       "      <td>5</td>\n",
       "      <td>0.4</td>\n",
       "      <td>0.5</td>\n",
       "      <td>like</td>\n",
       "    </tr>\n",
       "    <tr>\n",
       "      <th>5</th>\n",
       "      <td>6</td>\n",
       "      <td>0.3</td>\n",
       "      <td>0.8</td>\n",
       "      <td>like</td>\n",
       "    </tr>\n",
       "  </tbody>\n",
       "</table>\n",
       "</div>"
      ],
      "text/plain": [
       "   Obs.  Fat  Salt Acceptance\n",
       "0     1  0.2   0.9       like\n",
       "1     2  0.1   0.1    dislike\n",
       "2     3  0.2   0.4    dislike\n",
       "3     4  0.2   0.5    dislike\n",
       "4     5  0.4   0.5       like\n",
       "5     6  0.3   0.8       like"
      ]
     },
     "execution_count": 15,
     "metadata": {},
     "output_type": "execute_result"
    }
   ],
   "source": [
    "# caricamento del dataset dal pacchetto dmba (non dalla directory locale!)\n",
    "example_df = dmba.load_data('TinyData.csv') \n",
    "example_df.head(10)"
   ]
  },
  {
   "cell_type": "code",
   "execution_count": 16,
   "id": "123e2b3c",
   "metadata": {},
   "outputs": [
    {
     "data": {
      "text/plain": [
       "(6, 4)"
      ]
     },
     "execution_count": 16,
     "metadata": {},
     "output_type": "execute_result"
    }
   ],
   "source": [
    "example_df.shape # le dimensioni (un dataset minuscolo)"
   ]
  },
  {
   "cell_type": "code",
   "execution_count": 17,
   "id": "42ecc9da",
   "metadata": {},
   "outputs": [],
   "source": [
    "# preparazione dei metadati e dati:\n",
    "predictors = ['Fat', 'Salt']\n",
    "outcome = 'Acceptance'\n",
    "\n",
    "X = example_df[predictors]\n",
    "y = example_df[outcome]\n",
    "classes = sorted(y.unique())   # 'y.unique()' --> array(['dislike (0)', 'like(1)']"
   ]
  },
  {
   "cell_type": "code",
   "execution_count": 22,
   "id": "4e8e496a",
   "metadata": {},
   "outputs": [
    {
     "name": "stdout",
     "output_type": "stream",
     "text": [
      "   Fat  Salt\n",
      "0  0.2   0.9\n",
      "1  0.1   0.1\n",
      "2  0.2   0.4\n",
      "3  0.2   0.5\n",
      "4  0.4   0.5\n",
      "5  0.3   0.8\n",
      "\n",
      "0       like\n",
      "1    dislike\n",
      "2    dislike\n",
      "3    dislike\n",
      "4       like\n",
      "5       like\n",
      "Name: Acceptance, dtype: object\n",
      "\n",
      "['dislike', 'like']\n"
     ]
    }
   ],
   "source": [
    "print(X)\n",
    "print()\n",
    "print(y)\n",
    "print()\n",
    "print(classes)"
   ]
  },
  {
   "cell_type": "code",
   "execution_count": 23,
   "id": "a3253291",
   "metadata": {},
   "outputs": [],
   "source": [
    "# la costruzione dell'oggetto di classe 'MLPClassifier' (scikit-learn) con un modello 2-3-1:\n",
    "clf = MLPClassifier(hidden_layer_sizes=(3), activation='logistic', solver='lbfgs', random_state=1,verbose=3)\n",
    "\n",
    "                               # 3 nodi in un unico livello nascosto; hidden_layer_sizes=(3) = hidden_layer_sizes=(3,);\n",
    "                               # dall'help: \"the i-th element represents the number of neurons in the i-th hidden layer\n",
    "        \n",
    "                               # la funzione logistica (sigmoidale);\n",
    "    \n",
    "                               # LBGFS è un metodo quasi-Newton, adatto per piccoli dataset; converge più velocemente di\n",
    "                               # 'adam', che è una famosa, importante e molto utilizzata nuova variante della discesa del \n",
    "                               # gradiente, adatta per dataset più grandi (almeno di migliaia di righe di training);\n",
    "                               \n",
    "                               # 'random_state' per la riproducibilità, considerati infatti i seguenti aspetti pseudo-casuali:\n",
    "                               #  - l'inizializzazione di pesi e bias;\n",
    "                               #  - lo split train-test se si usa early stopping;\n",
    "                               #  - il campionamento del batch se si usa un algoritmo 'sgd’ o ‘adam’;\n",
    "                               #  - il rimescolamento del training set ad ogni inizio epoca (vedi più avanti).\n",
    "                             \n",
    "                               # --> notare il numero e la complessità logica dei parametri di 'MLPClassifier'\n",
    "                            \n",
    "                               # una nota sull'argomento \"shuffle\": il ri-mescolamento del training set ad inizio di ogni \n",
    "                               # epoca può essere utile per evitare che l'algoritmo si blocchi in qualche loop.\n",
    "                               # secondo Goodfellow / Bengio, comunque, è importante farlo almeno una volta (p. 273).\n",
    "                            \n",
    "# Dall'help in linea: \"This model optimizes the log-loss function (cioè, la negative log-likelihood) using LBFGS or \n",
    "# stochastic gradient descent\"."
   ]
  },
  {
   "cell_type": "code",
   "execution_count": 24,
   "id": "b71f806e",
   "metadata": {},
   "outputs": [
    {
     "data": {
      "text/plain": [
       "sklearn.neural_network._multilayer_perceptron.MLPClassifier"
      ]
     },
     "execution_count": 24,
     "metadata": {},
     "output_type": "execute_result"
    }
   ],
   "source": [
    "type(clf)"
   ]
  },
  {
   "cell_type": "markdown",
   "id": "87117288",
   "metadata": {},
   "source": [
    "Alcuni utili link:<br><br>\n",
    "[la documentazione scikit-learn di MLPClassifier](https://scikit-learn.org/stable/modules/generated/sklearn.neural_network.MLPClassifier.html)<br>\n",
    "[il metodo L-BFGS](https://en.wikipedia.org/wiki/Limited-memory_BFGS)<br>\n",
    "[il metodo Adam](https://en.wikipedia.org/wiki/Stochastic_gradient_descent#Adam)<br>\n",
    "[perchè *MLPClassifier* non supporta la funzione *softmax*?](https://stats.stackexchange.com/questions/243588/how-to-apply-softmax-as-activation-function-in-multi-layer-perceptron-in-scikit)"
   ]
  },
  {
   "cell_type": "markdown",
   "id": "43cecd01",
   "metadata": {},
   "source": [
    "Gli **iperparametri** sono gli argomenti di una classe (stimatore) da ottimizzare, in genere tramite la Cross-Validation oppure per *prova ed errore* manuale.<br>\n",
    "Gli iper-parametri di *MLPClassifier* sono:\n",
    "* il numero di layer/nodi nascosti (argomento *hidden_layer_sizes*);\n",
    "* il learning rate eta (argomento *learning rate*) se si usa SGD;\n",
    "* il numero di epoche (argomento *max_iter*).\n",
    "\n",
    "Non confondere questi iper-parametri con i veri parametri, cioè i pesi ed i bias, da stimare in base ai dati di training."
   ]
  },
  {
   "cell_type": "code",
   "execution_count": 25,
   "id": "6e5840c9",
   "metadata": {},
   "outputs": [
    {
     "data": {
      "text/plain": [
       "{'activation': 'logistic',\n",
       " 'alpha': 0.0001,\n",
       " 'batch_size': 'auto',\n",
       " 'beta_1': 0.9,\n",
       " 'beta_2': 0.999,\n",
       " 'early_stopping': False,\n",
       " 'epsilon': 1e-08,\n",
       " 'hidden_layer_sizes': 3,\n",
       " 'learning_rate': 'constant',\n",
       " 'learning_rate_init': 0.001,\n",
       " 'max_fun': 15000,\n",
       " 'max_iter': 200,\n",
       " 'momentum': 0.9,\n",
       " 'n_iter_no_change': 10,\n",
       " 'nesterovs_momentum': True,\n",
       " 'power_t': 0.5,\n",
       " 'random_state': 1,\n",
       " 'shuffle': True,\n",
       " 'solver': 'lbfgs',\n",
       " 'tol': 0.0001,\n",
       " 'validation_fraction': 0.1,\n",
       " 'verbose': 3,\n",
       " 'warm_start': False}"
      ]
     },
     "execution_count": 25,
     "metadata": {},
     "output_type": "execute_result"
    }
   ],
   "source": [
    "clf.get_params()               # restituisce i parametri (gli argomenti!!) dello stimatore [default e nostre scelte];\n",
    "                               # non tutti hanno significato nel nostro contesto, ad esempio il learning rate è utilizzato dai\n",
    "                               # metodi della discesa del gradiente, non da quelli quasi-Newton (come appunto 'lbfgs')."
   ]
  },
  {
   "cell_type": "code",
   "execution_count": 27,
   "id": "164f3eb6",
   "metadata": {},
   "outputs": [
    {
     "data": {
      "text/plain": [
       "MLPClassifier(activation='logistic', hidden_layer_sizes=3, random_state=1,\n",
       "              solver='lbfgs', verbose=3)"
      ]
     },
     "execution_count": 27,
     "metadata": {},
     "output_type": "execute_result"
    }
   ],
   "source": [
    "# il fit del modello ai dati (qui dentro c'è l'algoritmo iterativo):\n",
    "clf.fit(X, y)                  # Fits the model to data matrix X and target(s) y.\n",
    "\n",
    "                               # cioè, in questo caso, trovare il Decision Boundary (una curva perchè p=2, altrimenti una\n",
    "                               # surface se p>2) che minimizza il numero di mis-classificazioni.\n",
    "\n",
    "                               # gli argomenti documentati dall'help on-line sono solo quelli specifici di questo metodo.\n",
    "                               # l'elenco degli iper-parametri è riportato solo dall'help on-line del metodo costruttore.\n",
    "                \n",
    "                               # Returns a trained MLP model.\n",
    "                    \n",
    "                               # E' questo il metodo più lento, quello che fa il vero lavoro. L'algoritmo iterativo è qui."
   ]
  },
  {
   "cell_type": "markdown",
   "id": "dc2d80f0",
   "metadata": {},
   "source": [
    "Per comodità riportiamo qui sotto il nostro modello di rete:"
   ]
  },
  {
   "cell_type": "code",
   "execution_count": 28,
   "id": "f9aecd2a",
   "metadata": {},
   "outputs": [
    {
     "data": {
      "image/png": "[encoded data removed]",
      "text/plain": [
       "<IPython.core.display.Image object>"
      ]
     },
     "execution_count": 28,
     "metadata": {
      "image/png": {
       "width": 1000
      }
     },
     "output_type": "execute_result"
    }
   ],
   "source": [
    "Image(filename='./images/Rete_giocattolo_python.png', width=1000) "
   ]
  },
  {
   "cell_type": "code",
   "execution_count": 29,
   "id": "2904fc6e",
   "metadata": {},
   "outputs": [
    {
     "data": {
      "text/plain": [
       "[array([0.13368045, 4.07247552, 7.00768104]), array([14.30748676])]"
      ]
     },
     "execution_count": 29,
     "metadata": {},
     "output_type": "execute_result"
    }
   ],
   "source": [
    "clf.intercepts_              # le 4 intercette (BIAS) del nostro modello 2-3-1; \n",
    "                             # - tre per il livello nascosto, una per ogni net input (w10, w20, e w30);\n",
    "                             # - la quarta (beta0) per il livello di output (unico nodo)."
   ]
  },
  {
   "cell_type": "code",
   "execution_count": 31,
   "id": "700bc03d",
   "metadata": {},
   "outputs": [
    {
     "data": {
      "text/plain": [
       "[array([[ -1.30656481,  -4.20427792, -13.29587332],\n",
       "        [ -0.04399727,  -4.91606924,  -6.03356987]]),\n",
       " array([[ -0.27348313],\n",
       "        [ -9.01211573],\n",
       "        [-17.63504694]])]"
      ]
     },
     "execution_count": 31,
     "metadata": {},
     "output_type": "execute_result"
    }
   ],
   "source": [
    "clf.coefs_      # i pesi (WEIGHT) del nostro modello 2-3-1:\n",
    "                # - prima sono elencati i 6 w-jk tra livello di input e livello nascosto, cioè: w11, w12, e w13 \n",
    "                #   come prima riga dell'array (relativa alle uscite di X1); poi w21, w22, e w23 sulla seconda  \n",
    "                #   riga dell'array (relativa alle uscite di X2);\n",
    "                # - poi sono elencati i 3 beta-m (con m=1..3) tra il livello nascosto e quello di output"
   ]
  },
  {
   "cell_type": "code",
   "execution_count": 32,
   "id": "07c4df6b",
   "metadata": {},
   "outputs": [
    {
     "name": "stdout",
     "output_type": "stream",
     "text": [
      "Hidden layer 2 => 3\n",
      " Intercepts:\n",
      "  [0.13368045 4.07247552 7.00768104]\n",
      " Weights:\n",
      "  [ -1.30656481  -4.20427792 -13.29587332]\n",
      "  [-0.04399727 -4.91606924 -6.03356987]\n",
      "\n",
      "Output layer 3 => 1\n",
      " Intercepts:\n",
      "  [14.30748676]\n",
      " Weights:\n",
      "  [-0.27348313]\n",
      "  [-9.01211573]\n",
      "  [-17.63504694]\n",
      "\n"
     ]
    }
   ],
   "source": [
    "# ecco un output più gradevole e comprensibile, ora:\n",
    "for i, (weights, intercepts) in enumerate(zip(clf.coefs_, clf.intercepts_)):\n",
    "    print('Hidden layer' if i == 0 else 'Output layer', '{0[0]} => {0[1]}'.format(weights.shape))\n",
    "    print(' Intercepts:\\n ', intercepts)\n",
    "    print(' Weights:')\n",
    "    for weight in weights:\n",
    "        print(' ', weight)\n",
    "    print()\n",
    "    # --> le frecce riportano il numero di nodi in ingresso ed in uscita per ogni layer (tranne quello di input).\n",
    "    #     questi numeri sono utili per \"capire\" le dimensioni delle array sotto-riportate."
   ]
  },
  {
   "cell_type": "markdown",
   "id": "a972d880",
   "metadata": {},
   "source": [
    "NB. I pesi e bias sopra riportati sono <u>diversi</u> da quelli riportati nelle slide PPT perchè:\n",
    "* **finali**, e non relativi alla prima iterazione;\n",
    "* calcolati con l'algoritmo quasi-Newton **lbfgs** e non con la semplice regola di update dei parametri delle slide"
   ]
  },
  {
   "cell_type": "code",
   "execution_count": 33,
   "id": "4e61e052",
   "metadata": {},
   "outputs": [
    {
     "data": {
      "text/plain": [
       "34"
      ]
     },
     "execution_count": 33,
     "metadata": {},
     "output_type": "execute_result"
    }
   ],
   "source": [
    "clf.n_iter_"
   ]
  },
  {
   "cell_type": "code",
   "execution_count": 34,
   "id": "b3c3afeb",
   "metadata": {},
   "outputs": [
    {
     "data": {
      "text/plain": [
       "array(['like', 'dislike', 'dislike', 'dislike', 'like', 'like'],\n",
       "      dtype='<U7')"
      ]
     },
     "execution_count": 34,
     "metadata": {},
     "output_type": "execute_result"
    }
   ],
   "source": [
    "# infine, il solito terzo passo in 'scikit-learn': le previsioni (pseudo, perchè fatte per il training dataset stesso):\n",
    "clf.predict(X)               # Returns the predicted classes.\n",
    "                             # y= ndarray, shape (n_samples,) or (n_samples, n_classes)\n",
    "                             "
   ]
  },
  {
   "cell_type": "code",
   "execution_count": 39,
   "id": "3dc4db71",
   "metadata": {},
   "outputs": [
    {
     "name": "stdout",
     "output_type": "stream",
     "text": [
      "   Obs.  Fat  Salt Acceptance   dislike      like\n",
      "0     1  0.2   0.9       like  0.000490  0.999510\n",
      "1     2  0.1   0.1    dislike  0.999994  0.000006\n",
      "2     3  0.2   0.4    dislike  0.999741  0.000259\n",
      "3     4  0.2   0.5    dislike  0.997368  0.002632\n",
      "4     5  0.4   0.5       like  0.002133  0.997867\n",
      "5     6  0.3   0.8       like  0.000075  0.999925\n"
     ]
    }
   ],
   "source": [
    "# per comodità, ecco la stampa delle previsioni per ENTRAMBE le classi, accanto alle effettive, con il consueto argomento \n",
    "# 'predict_proba':\n",
    "\n",
    "print(pd.concat([                                       # per la concatenazione di dati e previsioni\n",
    "    example_df,                                         # i dati\n",
    "    pd.DataFrame(clf.predict_proba(X), columns=classes) # le probabilità previste con la funzione softmax embedded\n",
    "    \n",
    "], axis=1))                                             # 'axis=1' concatena per colonne ('axis=0' per righe)"
   ]
  },
  {
   "cell_type": "markdown",
   "id": "4c909f8b",
   "metadata": {},
   "source": [
    "NB. \"In the case of a binary response (come in questo caso), 'MLPClassifier()' uses a single output node to produce Pr⁡[𝑌=1]. The 'predict_proba()' method returns probabilities for both classes. With k=3+ classes, we usually use a network with k output nodes, one for each class.[DMfBA].<br><br>\n",
    "Il metodo *predict_proba* di *MLPClassifier* implementa al suo interno la funzione di attivazione *softmax*. Vedi [qui](https://stats.stackexchange.com/questions/243588/how-to-apply-softmax-as-activation-function-in-multi-layer-perceptron-in-scikit). Nelle CNN, invece, la funzione di attivazione *softmax* è espressamente usata nell'ultimo livello denso."
   ]
  },
  {
   "cell_type": "code",
   "execution_count": 40,
   "id": "075be515",
   "metadata": {},
   "outputs": [
    {
     "name": "stdout",
     "output_type": "stream",
     "text": [
      "Confusion Matrix (Accuracy 1.0000)\n",
      "\n",
      "        Prediction\n",
      " Actual dislike    like\n",
      "dislike       3       0\n",
      "   like       0       3\n"
     ]
    }
   ],
   "source": [
    "# per ultima cosa, la confusion matrix (del training set):\n",
    "classificationSummary(y, clf.predict(X), class_names=classes)"
   ]
  },
  {
   "cell_type": "markdown",
   "id": "4e3e8cae",
   "metadata": {},
   "source": [
    "## Gli argomenti di MLPClassifier\n",
    "Raggruppati per significato."
   ]
  },
  {
   "cell_type": "code",
   "execution_count": 18,
   "id": "c6315cac",
   "metadata": {},
   "outputs": [
    {
     "data": {
      "image/png": "[encoded data removed]",
      "text/plain": [
       "<IPython.core.display.Image object>"
      ]
     },
     "execution_count": 18,
     "metadata": {
      "image/png": {
       "width": 800
      }
     },
     "output_type": "execute_result"
    }
   ],
   "source": [
    "Image(filename='./images/MLPClassifier_argomenti.png', width=800) "
   ]
  },
  {
   "cell_type": "markdown",
   "id": "062b86ba",
   "metadata": {},
   "source": [
    "## ll calcolo della funzione logistica in Python\n",
    "Per curiosità tecnica, calcoliamo queste tre attivazioni (viste nelle slide):"
   ]
  },
  {
   "cell_type": "code",
   "execution_count": 19,
   "id": "f5f637e0",
   "metadata": {},
   "outputs": [
    {
     "data": {
      "image/png": "[encoded data removed]",
      "text/plain": [
       "<IPython.core.display.Image object>"
      ]
     },
     "execution_count": 19,
     "metadata": {
      "image/png": {
       "width": 800
      }
     },
     "output_type": "execute_result"
    }
   ],
   "source": [
    "Image(filename='./images/NodiAk.png', width=800) "
   ]
  },
  {
   "cell_type": "code",
   "execution_count": 41,
   "id": "97404269",
   "metadata": {},
   "outputs": [
    {
     "name": "stdout",
     "output_type": "stream",
     "text": [
      "A1 =  0.4302\n",
      "A2 =  0.5112\n",
      "A3 =  0.5202\n"
     ]
    }
   ],
   "source": [
    "import numpy as np\n",
    "\n",
    "z1 = (-0.3+(0.05*0.2)+(0.01*0.9))            # il net input al primo nodo nascosto (k=1)\n",
    "z2 = (0.02+(-0.01*0.2)+(0.03*0.9))           # il net input al primo nodo nascosto (k=2)\n",
    "z3 = (0.05+(0.2*0.2)+(-0.01*0.9))            # il net input al primo nodo nascosto (k=3)\n",
    "\n",
    "print('A1 = ',round(1/(1+np.exp(-z1)),4))    # A1 = g(z1)  - con g(z) = funzione logistica (sigmoidale): 1 / (1+e^-z)\n",
    "print('A2 = ',round(1/(1+np.exp(-z2)),4))    # A2 = g(z2)  -    \"\"\n",
    "print('A3 = ',round(1/(1+np.exp(-z3)),4))    # A3 = g(z3)  -    \"\""
   ]
  },
  {
   "cell_type": "markdown",
   "id": "0c7d6268",
   "metadata": {},
   "source": [
    "## Esempio degli incidenti auto (di classificazione)\n",
    "Dati ancora strutturati, come prima (e non ancora immagini od audio), ma REALI questa volta.<br>\n",
    "E' un esempio utile per imparare poco per volta.<br><br>\n",
    "\n",
    "Lo <u>storico</u> dei rapporti degli incidenti automobilistici può essere utile ad un ente/azienda del settore (<u>Vigili, 118, ACI, operatori dell'assistenza stradale, assicurazioni</u>, ecc) per prevedere rapidamente la **gravità** dell'incidente in base ai **primi riscontri**. In base infati ad alcuni primissimi dati, inclusi quelli GPS, questo modello può prevedere la gravità dell'incidente in tempo reale e così assegnare le **priorità** agli operatori di soccorso/intervento.<br>\n",
    "La risposta di questo problema di <u>classificazione</u> è la gravità dell'incidente: **no-feriti, feriti, morti**.<br><br>\n",
    "Esaminiamo innanzitutto i metadati del dataset (i significati delle colonne)"
   ]
  },
  {
   "cell_type": "code",
   "execution_count": 2,
   "id": "6c771295",
   "metadata": {},
   "outputs": [
    {
     "data": {
      "image/png": "[encoded data removed]",
      "text/plain": [
       "<IPython.core.display.Image object>"
      ]
     },
     "execution_count": 2,
     "metadata": {
      "image/png": {
       "width": 400
      }
     },
     "output_type": "execute_result"
    }
   ],
   "source": [
    "Image(filename='images/Dati_incidenti.png', width=400) "
   ]
  },
  {
   "cell_type": "code",
   "execution_count": 3,
   "id": "aaa2155e",
   "metadata": {},
   "outputs": [
    {
     "data": {
      "text/html": [
       "<div>\n",
       "<style scoped>\n",
       "    .dataframe tbody tr th:only-of-type {\n",
       "        vertical-align: middle;\n",
       "    }\n",
       "\n",
       "    .dataframe tbody tr th {\n",
       "        vertical-align: top;\n",
       "    }\n",
       "\n",
       "    .dataframe thead th {\n",
       "        text-align: right;\n",
       "    }\n",
       "</style>\n",
       "<table border=\"1\" class=\"dataframe\">\n",
       "  <thead>\n",
       "    <tr style=\"text-align: right;\">\n",
       "      <th></th>\n",
       "      <th>ALCHL_I</th>\n",
       "      <th>PROFIL_I_R</th>\n",
       "      <th>SUR_COND</th>\n",
       "      <th>VEH_INVL</th>\n",
       "      <th>MAX_SEV_IR</th>\n",
       "    </tr>\n",
       "  </thead>\n",
       "  <tbody>\n",
       "    <tr>\n",
       "      <th>0</th>\n",
       "      <td>2</td>\n",
       "      <td>0</td>\n",
       "      <td>1</td>\n",
       "      <td>1</td>\n",
       "      <td>0</td>\n",
       "    </tr>\n",
       "    <tr>\n",
       "      <th>1</th>\n",
       "      <td>2</td>\n",
       "      <td>1</td>\n",
       "      <td>1</td>\n",
       "      <td>1</td>\n",
       "      <td>2</td>\n",
       "    </tr>\n",
       "    <tr>\n",
       "      <th>2</th>\n",
       "      <td>1</td>\n",
       "      <td>0</td>\n",
       "      <td>1</td>\n",
       "      <td>1</td>\n",
       "      <td>0</td>\n",
       "    </tr>\n",
       "    <tr>\n",
       "      <th>3</th>\n",
       "      <td>2</td>\n",
       "      <td>0</td>\n",
       "      <td>2</td>\n",
       "      <td>2</td>\n",
       "      <td>1</td>\n",
       "    </tr>\n",
       "    <tr>\n",
       "      <th>4</th>\n",
       "      <td>2</td>\n",
       "      <td>1</td>\n",
       "      <td>1</td>\n",
       "      <td>2</td>\n",
       "      <td>1</td>\n",
       "    </tr>\n",
       "    <tr>\n",
       "      <th>...</th>\n",
       "      <td>...</td>\n",
       "      <td>...</td>\n",
       "      <td>...</td>\n",
       "      <td>...</td>\n",
       "      <td>...</td>\n",
       "    </tr>\n",
       "    <tr>\n",
       "      <th>994</th>\n",
       "      <td>2</td>\n",
       "      <td>0</td>\n",
       "      <td>1</td>\n",
       "      <td>1</td>\n",
       "      <td>0</td>\n",
       "    </tr>\n",
       "    <tr>\n",
       "      <th>995</th>\n",
       "      <td>2</td>\n",
       "      <td>0</td>\n",
       "      <td>1</td>\n",
       "      <td>1</td>\n",
       "      <td>0</td>\n",
       "    </tr>\n",
       "    <tr>\n",
       "      <th>996</th>\n",
       "      <td>1</td>\n",
       "      <td>1</td>\n",
       "      <td>1</td>\n",
       "      <td>2</td>\n",
       "      <td>1</td>\n",
       "    </tr>\n",
       "    <tr>\n",
       "      <th>997</th>\n",
       "      <td>1</td>\n",
       "      <td>0</td>\n",
       "      <td>1</td>\n",
       "      <td>3</td>\n",
       "      <td>2</td>\n",
       "    </tr>\n",
       "    <tr>\n",
       "      <th>998</th>\n",
       "      <td>2</td>\n",
       "      <td>0</td>\n",
       "      <td>1</td>\n",
       "      <td>1</td>\n",
       "      <td>0</td>\n",
       "    </tr>\n",
       "  </tbody>\n",
       "</table>\n",
       "<p>999 rows × 5 columns</p>\n",
       "</div>"
      ],
      "text/plain": [
       "     ALCHL_I  PROFIL_I_R  SUR_COND  VEH_INVL  MAX_SEV_IR\n",
       "0          2           0         1         1           0\n",
       "1          2           1         1         1           2\n",
       "2          1           0         1         1           0\n",
       "3          2           0         2         2           1\n",
       "4          2           1         1         2           1\n",
       "..       ...         ...       ...       ...         ...\n",
       "994        2           0         1         1           0\n",
       "995        2           0         1         1           0\n",
       "996        1           1         1         2           1\n",
       "997        1           0         1         3           2\n",
       "998        2           0         1         1           0\n",
       "\n",
       "[999 rows x 5 columns]"
      ]
     },
     "execution_count": 3,
     "metadata": {},
     "output_type": "execute_result"
    }
   ],
   "source": [
    "# caricamento del dataset dal pacchetto dmba (non dalla directory locale!)\n",
    "accidents_df = dmba.load_data('accidentsnn.csv')\n",
    "accidents_df"
   ]
  },
  {
   "cell_type": "code",
   "execution_count": 4,
   "id": "6575ad66",
   "metadata": {},
   "outputs": [
    {
     "data": {
      "text/plain": [
       "pandas.core.frame.DataFrame"
      ]
     },
     "execution_count": 4,
     "metadata": {},
     "output_type": "execute_result"
    }
   ],
   "source": [
    "type(accidents_df)  # un dataframe pandas"
   ]
  },
  {
   "cell_type": "code",
   "execution_count": 5,
   "id": "eb8f9293",
   "metadata": {},
   "outputs": [
    {
     "data": {
      "text/plain": [
       "(999, 5)"
      ]
     },
     "execution_count": 5,
     "metadata": {},
     "output_type": "execute_result"
    }
   ],
   "source": [
    "accidents_df.shape  # 999 incidenti"
   ]
  },
  {
   "cell_type": "code",
   "execution_count": 6,
   "id": "1786f3d2",
   "metadata": {},
   "outputs": [
    {
     "data": {
      "text/plain": [
       "ALCHL_I       int64\n",
       "PROFIL_I_R    int64\n",
       "SUR_COND      int64\n",
       "VEH_INVL      int64\n",
       "MAX_SEV_IR    int64\n",
       "dtype: object"
      ]
     },
     "execution_count": 6,
     "metadata": {},
     "output_type": "execute_result"
    }
   ],
   "source": [
    "accidents_df.dtypes # i data-type delle variabili ('dtype' sta proprio per 'data.type')"
   ]
  },
  {
   "cell_type": "code",
   "execution_count": 7,
   "id": "ccf9dcdf",
   "metadata": {},
   "outputs": [],
   "source": [
    "# sono preliminarmente necessarie alcune trasformazioni.\n",
    "# ALCHL_I e MAX_SEV_IR devono infatti essere trasformate in variabili categoriche (come un 'factor' di R).\n",
    "\n",
    "accidents_df.SUR_COND = accidents_df.SUR_COND.astype('category')\n",
    "accidents_df.MAX_SEV_IR = accidents_df.MAX_SEV_IR.astype('category')\n",
    "\n",
    "# NB. Un'analoga trasformazione di ALCHL_I e di PROFIL_I_R non è necessaria perchè hanno solo due livelli."
   ]
  },
  {
   "cell_type": "markdown",
   "id": "dd099411",
   "metadata": {},
   "source": [
    "Python ha i seguenti data-type **nativi**:<br>\n",
    "\n",
    "* Text Type:\t    *str*<br>\n",
    "* Numeric Types:\t*int*, *float*, *complex*<br>\n",
    "* Sequence Types:\t*list*, *tuple*, *range*<br>\n",
    "* Mapping Type:\t*dict*<br>\n",
    "* Set Types:\t    *set*, *frozenset*<br>\n",
    "* Boolean Type:\t*bool*<br>\n",
    "* Binary Types:\t*bytes*, *bytearray*, *memoryview*<br>\n",
    "<br>\n",
    "\n",
    "**Pandas** ha inoltre i seguenti data-type aggiuntivi:<br>\n",
    "* stringhe alfanumeriche: *object* (data-type Python corrispondente: *str*)<br>\n",
    "* interi: *int64* (data-type Python corrispondente: *int*)<br>\n",
    "* reali: *float64* (data-type Python corrispondente: *float*)<br>\n",
    "* ecc<br>\n",
    "* **category** (data-type Python corrispondente: *NA*). E' un data-type di pandas per dati categorici. E' applicabile ad una *serie* oppure ad una *colonna* di un dataframe. Semplifica alcune operazioni. E' simile al *factor* di R. Più info [qui](https://pandas.pydata.org/pandas-docs/stable/user_guide/categorical.html#:~:text=Categoricals%20are%20a%20pandas%20data,or%20rating%20via%20Likert%20scales.)"
   ]
  },
  {
   "cell_type": "code",
   "execution_count": 8,
   "id": "1707fd4f",
   "metadata": {},
   "outputs": [
    {
     "data": {
      "text/plain": [
       "ALCHL_I          int64\n",
       "PROFIL_I_R       int64\n",
       "SUR_COND      category\n",
       "VEH_INVL         int64\n",
       "MAX_SEV_IR    category\n",
       "dtype: object"
      ]
     },
     "execution_count": 8,
     "metadata": {},
     "output_type": "execute_result"
    }
   ],
   "source": [
    "accidents_df.dtypes # i nuovi data-type"
   ]
  },
  {
   "cell_type": "markdown",
   "id": "e3ef6239",
   "metadata": {},
   "source": [
    "Esistono molto modi per vedere l'elenco delle categorie (di una colonna *category). Vedi [qui](https://stackoverflow.com/questions/52404971/get-a-list-of-categories-of-categorical-variable-python-pandas)"
   ]
  },
  {
   "cell_type": "code",
   "execution_count": 9,
   "id": "754a3889",
   "metadata": {},
   "outputs": [
    {
     "name": "stdout",
     "output_type": "stream",
     "text": [
      "0      1\n",
      "1      1\n",
      "2      1\n",
      "3      2\n",
      "4      1\n",
      "      ..\n",
      "994    1\n",
      "995    1\n",
      "996    1\n",
      "997    1\n",
      "998    1\n",
      "Name: SUR_COND, Length: 999, dtype: category\n",
      "Categories (5, int64): [1, 2, 3, 4, 9] \n",
      "\n",
      "[1, 2, 4, 3, 9]\n",
      "Categories (5, int64): [1, 2, 3, 4, 9] \n",
      "\n",
      "[1, 2, 3, 4, 9] \n",
      "\n",
      "[1 2 3 4 9] \n",
      "\n",
      "1    782\n",
      "2    177\n",
      "4     28\n",
      "3      8\n",
      "9      4\n",
      "Name: SUR_COND, dtype: int64 \n",
      "\n",
      "5\n"
     ]
    }
   ],
   "source": [
    "# vediamo alcuni di questi modi, per impratichirci un pò della ricchezza espressiva di python: \n",
    "\n",
    "col = accidents_df['SUR_COND']                       # una variabile di comodo per semplificare le righe seguenti.                          \n",
    "\n",
    "print(col,'\\n')                                      # anche i dati (le categorie a fine output)\n",
    "print(pd.unique(col),'\\n')                           # numero ed elenco delle categorie (ridondante)\n",
    "print(list(set(list(col))),'\\n')                     # solo l'elenco delle categorie\n",
    "print(np.array(pd.Categorical(col).categories),'\\n') # solo lelenco delle categorie, senza la virgola\n",
    "print(col.value_counts(),'\\n')                       # l'elenco delle categorie con la loro cardinalità\n",
    "print(col.value_counts().count())                    # il numero totale di categorie\n",
    "\n",
    "# NB. Tutti questi comandi erano eseguibili con successo, e con output molto simili, anche sul precedente formato numerico \n",
    "# di 'SUR_COND'. Ma NON la trasformazione in dummy variable, che andiamo a fare adesso e che richiede appunto il formato \n",
    "# 'category'."
   ]
  },
  {
   "cell_type": "code",
   "execution_count": 10,
   "id": "3cad163b",
   "metadata": {},
   "outputs": [
    {
     "data": {
      "text/html": [
       "<div>\n",
       "<style scoped>\n",
       "    .dataframe tbody tr th:only-of-type {\n",
       "        vertical-align: middle;\n",
       "    }\n",
       "\n",
       "    .dataframe tbody tr th {\n",
       "        vertical-align: top;\n",
       "    }\n",
       "\n",
       "    .dataframe thead th {\n",
       "        text-align: right;\n",
       "    }\n",
       "</style>\n",
       "<table border=\"1\" class=\"dataframe\">\n",
       "  <thead>\n",
       "    <tr style=\"text-align: right;\">\n",
       "      <th></th>\n",
       "      <th>ALCHL_I</th>\n",
       "      <th>PROFIL_I_R</th>\n",
       "      <th>VEH_INVL</th>\n",
       "      <th>MAX_SEV_IR</th>\n",
       "      <th>SUR_COND_1</th>\n",
       "      <th>SUR_COND_2</th>\n",
       "      <th>SUR_COND_3</th>\n",
       "      <th>SUR_COND_4</th>\n",
       "    </tr>\n",
       "  </thead>\n",
       "  <tbody>\n",
       "    <tr>\n",
       "      <th>0</th>\n",
       "      <td>2</td>\n",
       "      <td>0</td>\n",
       "      <td>1</td>\n",
       "      <td>0</td>\n",
       "      <td>1</td>\n",
       "      <td>0</td>\n",
       "      <td>0</td>\n",
       "      <td>0</td>\n",
       "    </tr>\n",
       "    <tr>\n",
       "      <th>1</th>\n",
       "      <td>2</td>\n",
       "      <td>1</td>\n",
       "      <td>1</td>\n",
       "      <td>2</td>\n",
       "      <td>1</td>\n",
       "      <td>0</td>\n",
       "      <td>0</td>\n",
       "      <td>0</td>\n",
       "    </tr>\n",
       "    <tr>\n",
       "      <th>2</th>\n",
       "      <td>1</td>\n",
       "      <td>0</td>\n",
       "      <td>1</td>\n",
       "      <td>0</td>\n",
       "      <td>1</td>\n",
       "      <td>0</td>\n",
       "      <td>0</td>\n",
       "      <td>0</td>\n",
       "    </tr>\n",
       "    <tr>\n",
       "      <th>3</th>\n",
       "      <td>2</td>\n",
       "      <td>0</td>\n",
       "      <td>2</td>\n",
       "      <td>1</td>\n",
       "      <td>0</td>\n",
       "      <td>1</td>\n",
       "      <td>0</td>\n",
       "      <td>0</td>\n",
       "    </tr>\n",
       "    <tr>\n",
       "      <th>4</th>\n",
       "      <td>2</td>\n",
       "      <td>1</td>\n",
       "      <td>2</td>\n",
       "      <td>1</td>\n",
       "      <td>1</td>\n",
       "      <td>0</td>\n",
       "      <td>0</td>\n",
       "      <td>0</td>\n",
       "    </tr>\n",
       "    <tr>\n",
       "      <th>...</th>\n",
       "      <td>...</td>\n",
       "      <td>...</td>\n",
       "      <td>...</td>\n",
       "      <td>...</td>\n",
       "      <td>...</td>\n",
       "      <td>...</td>\n",
       "      <td>...</td>\n",
       "      <td>...</td>\n",
       "    </tr>\n",
       "    <tr>\n",
       "      <th>994</th>\n",
       "      <td>2</td>\n",
       "      <td>0</td>\n",
       "      <td>1</td>\n",
       "      <td>0</td>\n",
       "      <td>1</td>\n",
       "      <td>0</td>\n",
       "      <td>0</td>\n",
       "      <td>0</td>\n",
       "    </tr>\n",
       "    <tr>\n",
       "      <th>995</th>\n",
       "      <td>2</td>\n",
       "      <td>0</td>\n",
       "      <td>1</td>\n",
       "      <td>0</td>\n",
       "      <td>1</td>\n",
       "      <td>0</td>\n",
       "      <td>0</td>\n",
       "      <td>0</td>\n",
       "    </tr>\n",
       "    <tr>\n",
       "      <th>996</th>\n",
       "      <td>1</td>\n",
       "      <td>1</td>\n",
       "      <td>2</td>\n",
       "      <td>1</td>\n",
       "      <td>1</td>\n",
       "      <td>0</td>\n",
       "      <td>0</td>\n",
       "      <td>0</td>\n",
       "    </tr>\n",
       "    <tr>\n",
       "      <th>997</th>\n",
       "      <td>1</td>\n",
       "      <td>0</td>\n",
       "      <td>3</td>\n",
       "      <td>2</td>\n",
       "      <td>1</td>\n",
       "      <td>0</td>\n",
       "      <td>0</td>\n",
       "      <td>0</td>\n",
       "    </tr>\n",
       "    <tr>\n",
       "      <th>998</th>\n",
       "      <td>2</td>\n",
       "      <td>0</td>\n",
       "      <td>1</td>\n",
       "      <td>0</td>\n",
       "      <td>1</td>\n",
       "      <td>0</td>\n",
       "      <td>0</td>\n",
       "      <td>0</td>\n",
       "    </tr>\n",
       "  </tbody>\n",
       "</table>\n",
       "<p>999 rows × 8 columns</p>\n",
       "</div>"
      ],
      "text/plain": [
       "     ALCHL_I  PROFIL_I_R  VEH_INVL MAX_SEV_IR  SUR_COND_1  SUR_COND_2  \\\n",
       "0          2           0         1          0           1           0   \n",
       "1          2           1         1          2           1           0   \n",
       "2          1           0         1          0           1           0   \n",
       "3          2           0         2          1           0           1   \n",
       "4          2           1         2          1           1           0   \n",
       "..       ...         ...       ...        ...         ...         ...   \n",
       "994        2           0         1          0           1           0   \n",
       "995        2           0         1          0           1           0   \n",
       "996        1           1         2          1           1           0   \n",
       "997        1           0         3          2           1           0   \n",
       "998        2           0         1          0           1           0   \n",
       "\n",
       "     SUR_COND_3  SUR_COND_4  \n",
       "0             0           0  \n",
       "1             0           0  \n",
       "2             0           0  \n",
       "3             0           0  \n",
       "4             0           0  \n",
       "..          ...         ...  \n",
       "994           0           0  \n",
       "995           0           0  \n",
       "996           0           0  \n",
       "997           0           0  \n",
       "998           0           0  \n",
       "\n",
       "[999 rows x 8 columns]"
      ]
     },
     "execution_count": 10,
     "metadata": {},
     "output_type": "execute_result"
    }
   ],
   "source": [
    "# come sempre, per poter essere elaborate da un algoritmo di ML, le colonne di tipo 'category' della metrice X dei\n",
    "# predittori devono essere prima convertite in variabili dummy (0,1);\n",
    "\n",
    "# per la variabile 'SUR_COND' vogliamo creare K-1 categorie; escludiamo la categoria 9 (= unknown)\n",
    "accidents_df_processed = pd.get_dummies(accidents_df, columns=['SUR_COND'])\n",
    "accidents_df_processed = accidents_df_processed.drop(columns=['SUR_COND_9'])   \n",
    "accidents_df_processed     # --> 4 variabili dummy, ora.\n",
    "                           #     per comodità di visualizzazione sono messe in coda "
   ]
  },
  {
   "cell_type": "code",
   "execution_count": 11,
   "id": "da93371f",
   "metadata": {},
   "outputs": [
    {
     "name": "stdout",
     "output_type": "stream",
     "text": [
      "Index(['ALCHL_I', 'PROFIL_I_R', 'VEH_INVL', 'MAX_SEV_IR', 'SUR_COND_1',\n",
      "       'SUR_COND_2', 'SUR_COND_3', 'SUR_COND_4'],\n",
      "      dtype='object') \n",
      "\n",
      "ALCHL_I          int64\n",
      "PROFIL_I_R       int64\n",
      "VEH_INVL         int64\n",
      "MAX_SEV_IR    category\n",
      "SUR_COND_1       uint8\n",
      "SUR_COND_2       uint8\n",
      "SUR_COND_3       uint8\n",
      "SUR_COND_4       uint8\n",
      "dtype: object\n"
     ]
    }
   ],
   "source": [
    "# le colonne del dataframe sono ora 8, a tutti gli effetti, come si evince anche da queste due funzioni:\n",
    "print(accidents_df_processed.columns,'\\n')\n",
    "print(accidents_df_processed.dtypes)"
   ]
  },
  {
   "cell_type": "code",
   "execution_count": 12,
   "id": "bc5ff61d",
   "metadata": {},
   "outputs": [
    {
     "name": "stdout",
     "output_type": "stream",
     "text": [
      "MAX_SEV_IR \n",
      " ['ALCHL_I', 'PROFIL_I_R', 'VEH_INVL', 'SUR_COND_1', 'SUR_COND_2', 'SUR_COND_3', 'SUR_COND_4']\n"
     ]
    }
   ],
   "source": [
    "# i metadati (per pulizia espressiva):\n",
    "outcome = 'MAX_SEV_IR'                                                   # la risposta\n",
    "predictors = [c for c in accidents_df_processed.columns if c != outcome] # 7 predittori\n",
    "print(outcome, '\\n',predictors)"
   ]
  },
  {
   "cell_type": "code",
   "execution_count": 13,
   "id": "c5b3d7e6",
   "metadata": {},
   "outputs": [],
   "source": [
    "# usiamo la solita notazione del ML: la matrice X dei predittori ed il vettore y delle risposte: \n",
    "X = accidents_df_processed[predictors]\n",
    "y = accidents_df_processed[outcome]\n",
    "classes = sorted(y.unique())    # per plot successivi\n",
    "\n",
    "# il partizionamento dei dati, con il solito metodo (già visto molte volte):\n",
    "train_X, valid_X, train_y, valid_y = train_test_split(X, y, test_size=0.4, random_state=1)"
   ]
  },
  {
   "cell_type": "code",
   "execution_count": 14,
   "id": "5f021240",
   "metadata": {},
   "outputs": [],
   "source": [
    "# e finalmente il training della rete 7-2-3, con:\n",
    "# - 7 nodi nel livello di input (per i 7 predittori);\n",
    "# - 3 nodi nel livello di output (uno per ogni classe);\n",
    "# - 1 livello nascosto fatto di 3 nodi che MPLClassifier implementa con 2 nodi:\n",
    "# \n",
    "# NB. Il livello di input e di output sono configurati automaticamente dal costruttore MLPClassifier, in base\n",
    "# appunto al numero di predittori e di classi, rispettivamente.\n",
    "# Se la risposta è categorica (con m=numero delle classi) il numero di nodi del livello di output è sempre m-1 (cioè \n",
    "# MLPClassifier NON implementa lo schema one-hot encoding, che prevede m nodi di output).\n",
    "# Se la risposta è numerica, il nodo di output è 1, a meno che il modello non sia a risposta multipla (caso non \n",
    "# esaminato in questo corso).\n",
    "#\n",
    "# Occorre invece configurare esplicitamente i livelli nascosti della rete (tramite l'argomento \n",
    "# 'hidden_layer_sizes').\n",
    "\n",
    "clf = MLPClassifier(hidden_layer_sizes=(2,3), activation='logistic', solver='lbfgs', \n",
    "                                                    # gli argomenti già visti per l'esempio giocattolo; \n",
    "                                                    # ancora 'lbfgs' perchè il dataset è piccolo (1000 righe).\n",
    "                    random_state=1)\n",
    "\n",
    "# perchè 2 nodi nel livello nascosto? vedi più avanti la GridSearch."
   ]
  },
  {
   "cell_type": "code",
   "execution_count": 15,
   "id": "ab600f03",
   "metadata": {},
   "outputs": [
    {
     "data": {
      "text/plain": [
       "{'activation': 'logistic',\n",
       " 'alpha': 0.0001,\n",
       " 'batch_size': 'auto',\n",
       " 'beta_1': 0.9,\n",
       " 'beta_2': 0.999,\n",
       " 'early_stopping': False,\n",
       " 'epsilon': 1e-08,\n",
       " 'hidden_layer_sizes': 2,\n",
       " 'learning_rate': 'constant',\n",
       " 'learning_rate_init': 0.001,\n",
       " 'max_fun': 15000,\n",
       " 'max_iter': 200,\n",
       " 'momentum': 0.9,\n",
       " 'n_iter_no_change': 10,\n",
       " 'nesterovs_momentum': True,\n",
       " 'power_t': 0.5,\n",
       " 'random_state': 1,\n",
       " 'shuffle': True,\n",
       " 'solver': 'lbfgs',\n",
       " 'tol': 0.0001,\n",
       " 'validation_fraction': 0.1,\n",
       " 'verbose': False,\n",
       " 'warm_start': False}"
      ]
     },
     "execution_count": 15,
     "metadata": {},
     "output_type": "execute_result"
    }
   ],
   "source": [
    "clf.get_params()  # check dei valori degli argomenti di MLPClassifier()."
   ]
  },
  {
   "cell_type": "code",
   "execution_count": 16,
   "id": "0667b654",
   "metadata": {},
   "outputs": [],
   "source": [
    "# da cosa si vede l'architettura della rete che sarà fittata, in particolare quanti sono i livelli/nodi nascosti?\n",
    "# qui, dall'argomento 'hidden_layer_sizes'; più avanti, dalle dimensioni delle matrici dei parametri (forniti dal fit)."
   ]
  },
  {
   "cell_type": "code",
   "execution_count": 17,
   "id": "4e7c302d",
   "metadata": {},
   "outputs": [
    {
     "data": {
      "text/plain": [
       "MLPClassifier(activation='logistic', hidden_layer_sizes=2, random_state=1,\n",
       "              solver='lbfgs')"
      ]
     },
     "execution_count": 17,
     "metadata": {},
     "output_type": "execute_result"
    }
   ],
   "source": [
    "# i soliti tre passi di scikit-learn: dopo il costruttore, il fit (e, dopo, la predict):\n",
    "clf.fit(train_X, train_y.values)"
   ]
  },
  {
   "cell_type": "code",
   "execution_count": 18,
   "id": "9df0991c",
   "metadata": {},
   "outputs": [
    {
     "data": {
      "text/plain": [
       "[array([-9.27167594e-04, -8.11780173e+00]),\n",
       " array([-21.47314424,  11.98419086,   9.97232137])]"
      ]
     },
     "execution_count": 18,
     "metadata": {},
     "output_type": "execute_result"
    }
   ],
   "source": [
    "clf.intercepts_   # le 5 intercette (BIAS) del nostro modello 7-2-3; \n",
    "                  # - due per il livello nascosto, una per ogni net input (w10, w20);\n",
    "                  # - le altre tre per il livello di output (3 nodi)."
   ]
  },
  {
   "cell_type": "code",
   "execution_count": 19,
   "id": "7787cd18",
   "metadata": {},
   "outputs": [
    {
     "data": {
      "text/plain": [
       "[array([[  0.12049569, -16.97492247],\n",
       "        [ -3.76746665,  14.3997336 ],\n",
       "        [ -0.19419502,   2.49470482],\n",
       "        [  0.21873301, -23.72909889],\n",
       "        [-19.53968696,  14.32969431],\n",
       "        [-14.7950896 ,   0.84777134],\n",
       "        [-26.33047839,   2.20448053]]),\n",
       " array([[ 58.00303176, -55.28215457,  -3.20255116],\n",
       "        [  8.91209892,   7.83040898, -16.15600431]])]"
      ]
     },
     "execution_count": 19,
     "metadata": {},
     "output_type": "execute_result"
    }
   ],
   "source": [
    "clf.coefs_        # i pesi (WEIGHT) del nostro modello 7-2-3:\n",
    "                  # - prima sono elencati i 14 (7x2) w-jk tra livello di input (7 nodi) e livello nascosto\n",
    "                  #   (2 nodi), cioè: w11 e w21 come prima riga dell'array (relativa alle uscite di X1); poi \n",
    "                  #   w12 e w22 sulla seconda riga dell'array (relativa alle uscite di X2), e così via sino a X7;\n",
    "                  # - poi sono elencati i 6 beta-km tra il livello nascosto e quello di output, e cioè;\n",
    "                  #   beta-11,beta-12,beta-13,beta-21,beta-22,beta-23."
   ]
  },
  {
   "cell_type": "code",
   "execution_count": 20,
   "id": "233d06fd",
   "metadata": {},
   "outputs": [
    {
     "name": "stdout",
     "output_type": "stream",
     "text": [
      "Hidden layer 7 => 2\n",
      " Intercepts:\n",
      "  [-9.27167594e-04 -8.11780173e+00]\n",
      " Weights:\n",
      "  [  0.12049569 -16.97492247]\n",
      "  [-3.76746665 14.3997336 ]\n",
      "  [-0.19419502  2.49470482]\n",
      "  [  0.21873301 -23.72909889]\n",
      "  [-19.53968696  14.32969431]\n",
      "  [-14.7950896    0.84777134]\n",
      "  [-26.33047839   2.20448053]\n",
      "\n",
      "Output layer 2 => 3\n",
      " Intercepts:\n",
      "  [-21.47314424  11.98419086   9.97232137]\n",
      " Weights:\n",
      "  [ 58.00303176 -55.28215457  -3.20255116]\n",
      "  [  8.91209892   7.83040898 -16.15600431]\n",
      "\n"
     ]
    }
   ],
   "source": [
    "# l'output più gradevole e comprensibile:\n",
    "for i, (weights, intercepts) in enumerate(zip(clf.coefs_, clf.intercepts_)):\n",
    "    print('Hidden layer' if i == 0 else 'Output layer', '{0[0]} => {0[1]}'.format(weights.shape))\n",
    "    print(' Intercepts:\\n ', intercepts)\n",
    "    print(' Weights:')\n",
    "    for weight in weights:\n",
    "        print(' ', weight)\n",
    "    print()"
   ]
  },
  {
   "cell_type": "markdown",
   "id": "a0fea163",
   "metadata": {},
   "source": [
    "Se si usa lo schema di codifica delle classi *one-hot encoding* (vedi le slide), si ha in output (la label prevista):\n",
    "* 1-0-0: classe 0 (no injuries)\n",
    "* 0-1-0: classe 1 (injuries)\n",
    "* 0-0-1: classe 2 (fatality)"
   ]
  },
  {
   "cell_type": "code",
   "execution_count": 21,
   "id": "f0833109",
   "metadata": {},
   "outputs": [
    {
     "name": "stdout",
     "output_type": "stream",
     "text": [
      "Confusion Matrix (Accuracy 0.8664)\n",
      "\n",
      "       Prediction\n",
      "Actual   0   1   2\n",
      "     0 331   0   1\n",
      "     1   0 180   0\n",
      "     2  30  49   8\n"
     ]
    }
   ],
   "source": [
    "# ora la PSEUDO-previsione e l'accuratezza della classificazione (tramite la consueta matrice di confusione):\n",
    "classificationSummary(train_y, clf.predict(train_X)) # funzione fornita dal package di utility 'dmba'.\n",
    "\n",
    "                        # --> come si vede, la rete ha classificato quasi perfettamente le classi 0 (no feriti) \n",
    "                        #     ed 1 (feriti); ha invece commesso molti errori con la terza classe (morti), perchè ne ha\n",
    "                        #     previsti correttamente solo 8/87 (< 10%)."
   ]
  },
  {
   "cell_type": "code",
   "execution_count": 22,
   "id": "73e16a68",
   "metadata": {},
   "outputs": [
    {
     "data": {
      "text/plain": [
       "0.8664440734557596"
      ]
     },
     "execution_count": 22,
     "metadata": {},
     "output_type": "execute_result"
    }
   ],
   "source": [
    "# come si calcola manualmente l'accuratezza?\n",
    "# servono alcune funzioni numpy:\n",
    "# - np.sum           la somma di tutti gli elementi dell'array\n",
    "# - array.trace()    la traccia dell'array, cioè la somma degli elementi della diagonale principale\n",
    "# - la lunghezza dell'array? vedi so 187455\n",
    "#   size = 1\n",
    "#   for dim in np.shape(cm): size *= dim\n",
    "#   size\n",
    "from sklearn.metrics import confusion_matrix                # serve questa funzione di scikit-learn (anzichè quella del \n",
    "                                                            # package 'dmba')\n",
    "cm = confusion_matrix(train_y, clf.predict(train_X))\n",
    "\n",
    "cm.trace()/np.sum(cm)"
   ]
  },
  {
   "cell_type": "code",
   "execution_count": 23,
   "id": "5bde938c",
   "metadata": {},
   "outputs": [
    {
     "name": "stdout",
     "output_type": "stream",
     "text": [
      "Confusion Matrix (Accuracy 0.8550)\n",
      "\n",
      "       Prediction\n",
      "Actual   0   1   2\n",
      "     0 218   0   1\n",
      "     1   0 119   0\n",
      "     2  24  33   5\n"
     ]
    }
   ],
   "source": [
    "# lo stesso con i dati di test:\n",
    "classificationSummary(valid_y, clf.predict(valid_X))\n",
    "\n",
    "                        # --> come si vede, anche ora la rete ha classificato quasi perfettamente le classi 0  \n",
    "                        #     ed 1; ha invece commesso anche ora molti errori con la terza classe (morti)"
   ]
  },
  {
   "cell_type": "code",
   "execution_count": 24,
   "id": "dd3bc994",
   "metadata": {},
   "outputs": [
    {
     "name": "stdout",
     "output_type": "stream",
     "text": [
      "     0             0             1         2\n",
      "0    1  2.603670e-15  8.826762e-01  0.117324\n",
      "1    0  5.582861e-01  6.486220e-12  0.441714\n",
      "2    1  2.601065e-15  8.820377e-01  0.117962\n",
      "3    1  2.601065e-15  8.820377e-01  0.117962\n",
      "4    1  2.601065e-15  8.820377e-01  0.117962\n",
      "..  ..           ...           ...       ...\n",
      "395  1  3.106912e-14  6.795562e-01  0.320444\n",
      "396  1  2.603670e-15  8.826762e-01  0.117324\n",
      "397  0  9.601761e-01  4.758044e-14  0.039824\n",
      "398  0  9.601761e-01  4.758044e-14  0.039824\n",
      "399  0  9.601761e-01  4.758044e-14  0.039824\n",
      "\n",
      "[400 rows x 4 columns]\n"
     ]
    }
   ],
   "source": [
    "# e per finire le probabilità delle tre singole classi (per il dataset di test) con il consueto argomento 'predict_proba':\n",
    "\n",
    "print(pd.concat([                                             # per la concatenazione di decisioni e probabilità\n",
    "    pd.DataFrame(clf.predict(valid_X)),                       # le decisioni (la probabilità più alta)\n",
    "    pd.DataFrame(clf.predict_proba(valid_X), columns=classes) # le probabilità singole (l'argomento 'columns' per l'header)\n",
    "], axis=1))                                                   # 'axis=1' concatena per colonne ('axis=0' per righe)"
   ]
  },
  {
   "cell_type": "markdown",
   "id": "d2d41859",
   "metadata": {},
   "source": [
    "**Nota sul numero dei parametri**:\n",
    "* questo modello single-layer, come detto, è 7-2-3, cioè: j=7, k=2, m=3.\n",
    "* i parametri sono *(j+1)k + (k+1)m* = 16+9=25.\n",
    "* i modelli reali hanno 10^5-10^6-10^9 parametri!"
   ]
  },
  {
   "cell_type": "markdown",
   "id": "fb79c230",
   "metadata": {},
   "source": [
    "### Grid search\n",
    "Il numero ottimale di nodi del livello nascosto è individuabile tramite una [(parameter) grid search](https://scikit-learn.org/stable/modules/generated/sklearn.model_selection.GridSearchCV.html).<br><br>\n",
    "Si usa la Cross-Validation per fare **Model Selection** (e naturalmente anche *Model Assessment* in modo annidato) (vedi slide).<br><br>\n",
    "Dall'help online di *GridSearchCV* di *scikit-learn*:\n",
    "* GridSearchCV does an \"exhaustive search over specified parameter values for an estimator\";\n",
    "* GridSearchCV \"implements a *fit* and a *score* method. It also implements *predict*, *predict_proba*, *decision_function*, *transform* and *inverse_transform* if they are implemented in the estimator used;\n",
    "* the parameters of the estimator used to apply these methods are optimized by **cross-validated grid-search** over <u>a parameter grid</u>."
   ]
  },
  {
   "cell_type": "code",
   "execution_count": 25,
   "id": "9e06d613",
   "metadata": {},
   "outputs": [
    {
     "name": "stdout",
     "output_type": "stream",
     "text": [
      "Best score:  0.8647619047619047\n",
      "Best parameters:  {'hidden_layer_sizes': 1}\n"
     ]
    }
   ],
   "source": [
    "from sklearn.model_selection import cross_val_score, train_test_split, GridSearchCV\n",
    "\n",
    "param_grid = {                                              # specifica dello stimatore \n",
    "    'hidden_layer_sizes': [(1), (2), (3), (4), (5)],        # la griglia (grid) di nodi (del livello nascosto) \n",
    "}\n",
    "gridSearch = GridSearchCV(MLPClassifier(                    # lo stimatore usato prima\n",
    "    \n",
    "    activation='logistic', solver='lbfgs', random_state=1,  # per questi tre argomenti si usano gli stessi valori di prima;\n",
    "    max_iter=1000),                                         # il numero max di iterazioni (epoche) è aumentato (il default \n",
    "                                                            # è 200) per permettere il massimo adattamento della rete  \n",
    "                                                            # (anche a costo dell'overfitting)\n",
    "                          \n",
    "    # sino a qui gli argomenti dello stimatore, da qui in avanti gli argomenti della GridSearchCV                      \n",
    "    \n",
    "    param_grid,                  # la griglia di valori per l'iper-parametro (il numero di nodi del livello nascosto)\n",
    "    cv=5,                        # il numero di fold per la cv, su ognuno dei quali è valutato lo \"score di TEST\",\n",
    "                                 # che è una metrica di errore (quella dello stimatore; può anche essere custom)\n",
    "    n_jobs=-1,                   # il numero di job da eseguire in parallelo; -1 significa tutti i processori. \n",
    "    \n",
    "    return_train_score=True)     # \"Computing training scores is used to get insights on how different parameter \n",
    "                                 # settings impact the overfitting/underfitting trade-off.\n",
    "                                 # However, computing the scores on the training set can be computationally\n",
    "                                 # expensive and is not strictly required to select the parameters that\n",
    "                                 # yield the best generalization performance.\n",
    "\n",
    "    # NB. Se il cursore è posizionato subito dopo GridSearchCV, shift+tab mostra la signature (gli argomenti)\n",
    "    # di GridSearchCV; se il cursore è posizionato dopo MLPClassifier, shift+tab mostra la signature di\n",
    "    # MLPClassifier.\n",
    "                          \n",
    "gridSearch.fit(train_X, train_y) # il fit\n",
    "print('Best score: ', gridSearch.best_score_)        # lo score migliore tra i 5 modelli confrontati\n",
    "print('Best parameters: ', gridSearch.best_params_)  # i parametri del modello migliore (salvati durante l'esecuzione)"
   ]
  },
  {
   "cell_type": "code",
   "execution_count": 26,
   "id": "ab4ad5a1",
   "metadata": {},
   "outputs": [
    {
     "data": {
      "text/html": [
       "<div>\n",
       "<style scoped>\n",
       "    .dataframe tbody tr th:only-of-type {\n",
       "        vertical-align: middle;\n",
       "    }\n",
       "\n",
       "    .dataframe tbody tr th {\n",
       "        vertical-align: top;\n",
       "    }\n",
       "\n",
       "    .dataframe thead th {\n",
       "        text-align: right;\n",
       "    }\n",
       "</style>\n",
       "<table border=\"1\" class=\"dataframe\">\n",
       "  <thead>\n",
       "    <tr style=\"text-align: right;\">\n",
       "      <th></th>\n",
       "      <th>param_hidden_layer_sizes</th>\n",
       "      <th>mean_test_score</th>\n",
       "      <th>std_test_score</th>\n",
       "    </tr>\n",
       "  </thead>\n",
       "  <tbody>\n",
       "    <tr>\n",
       "      <th>0</th>\n",
       "      <td>1</td>\n",
       "      <td>0.864762</td>\n",
       "      <td>0.009892</td>\n",
       "    </tr>\n",
       "    <tr>\n",
       "      <th>1</th>\n",
       "      <td>2</td>\n",
       "      <td>0.864748</td>\n",
       "      <td>0.011403</td>\n",
       "    </tr>\n",
       "    <tr>\n",
       "      <th>2</th>\n",
       "      <td>3</td>\n",
       "      <td>0.863081</td>\n",
       "      <td>0.012749</td>\n",
       "    </tr>\n",
       "    <tr>\n",
       "      <th>3</th>\n",
       "      <td>4</td>\n",
       "      <td>0.859734</td>\n",
       "      <td>0.011501</td>\n",
       "    </tr>\n",
       "    <tr>\n",
       "      <th>4</th>\n",
       "      <td>5</td>\n",
       "      <td>0.853081</td>\n",
       "      <td>0.008611</td>\n",
       "    </tr>\n",
       "  </tbody>\n",
       "</table>\n",
       "</div>"
      ],
      "text/plain": [
       "  param_hidden_layer_sizes  mean_test_score  std_test_score\n",
       "0                        1         0.864762        0.009892\n",
       "1                        2         0.864748        0.011403\n",
       "2                        3         0.863081        0.012749\n",
       "3                        4         0.859734        0.011501\n",
       "4                        5         0.853081        0.008611"
      ]
     },
     "execution_count": 26,
     "metadata": {},
     "output_type": "execute_result"
    }
   ],
   "source": [
    "# un altro output di 'gridSearch.fit' è lo score di test, per ognuno dei 5 modelli testati.\n",
    "# NB. è uno score MEDIO perchè, come detto prima, per OGNI modello la funzione calcola diversi score (uno per ogni fold);\n",
    "# per ogni modello è anche mostrata la dev. std degli score di test.\n",
    "display=['param_hidden_layer_sizes', 'mean_test_score', 'std_test_score']\n",
    "pd.DataFrame(gridSearch.cv_results_)[display]\n",
    "                     # si sceglie il modello con media più alta; a parità di media scelgo il modello con devstd minore,\n",
    "                     # tuttavia, nel caso di 2+ modelli che forniscano score molto simili e devstd differenti si può \n",
    "                     # scegliere il modello con la media leggermente inferiore ma con la devstd inferiore.\n",
    "                     # ad esempio, nella seconda riga, se la devstd fosse 0.0001 potrei decidere di scegliere questo modello "
   ]
  },
  {
   "cell_type": "code",
   "execution_count": 27,
   "id": "b102c1d0",
   "metadata": {},
   "outputs": [
    {
     "data": {
      "image/png": "[encoded data removed]",
      "text/plain": [
       "<Figure size 432x288 with 1 Axes>"
      ]
     },
     "metadata": {
      "needs_background": "light"
     },
     "output_type": "display_data"
    }
   ],
   "source": [
    "# le stesse informazioni, in forma di plot:\n",
    "pd.DataFrame(gridSearch.cv_results_)[display].plot(x='param_hidden_layer_sizes', \n",
    "                                                   y='mean_test_score', yerr='std_test_score', ylim=(0.8, 0.9))\n",
    "                                                   # NB. le etichette degli assi NON sono modificabili a piacere, perchè  \n",
    "                                                   # sono i nomi di alcuni dei campi forniti da 'gridSearch.cv_results_'.\n",
    "\n",
    "plt.show()"
   ]
  },
  {
   "cell_type": "code",
   "execution_count": 28,
   "id": "7a9943c4",
   "metadata": {},
   "outputs": [
    {
     "name": "stdout",
     "output_type": "stream",
     "text": [
      "Confusion Matrix (Accuracy 0.8550)\n",
      "\n",
      "       Prediction\n",
      "Actual   0   1   2\n",
      "     0 218   0   1\n",
      "     1   0 119   0\n",
      "     2  24  33   5\n"
     ]
    }
   ],
   "source": [
    "# proviamo allora a rieseguire costruzione, fit, predict e matrice di confusione con un solo nodo nel livello nascosto:\n",
    "clf = MLPClassifier(hidden_layer_sizes=(1), activation='logistic', solver='lbfgs', random_state=1)\n",
    "clf.fit(train_X, train_y.values)\n",
    "classificationSummary(valid_y, clf.predict(valid_X))\n",
    "                      # --> non c'è miglioramento di accuratezza, perchè, nel plot precedente, le medie e le dev.std degli   \n",
    "                      #     score di test dei modelli con 1 oppure 2 nodi sono praticamente le medesime. "
   ]
  },
  {
   "cell_type": "markdown",
   "id": "e8141e11",
   "metadata": {},
   "source": [
    "<u>NOTE sul numero di livelli / nodi nascosti di una rete MLP</u> [da PML, pp. 491-493; ISLRv2, p. 407; DMfBA python, p. 295, pp. 288-289, p. 298]:\n",
    "* 1 oppure 2 nodi per il livello nascosto è, in questo esempio, il  miglior **equilibrio** tra una rete inutilmente complessa (*overfitting*) ed un bias (distorsione) troppo alto (*underfitting*). Si cerca cioè, come sempre nel ML/DL, di migliorare l'accuratezza predittiva sul training set senza deteriorare l'accuratezza predittiva sul test set (la *generalizzazione* che ci interessa);<br><br>\n",
    "* da prove empiriche risulta che, in questo esempio, l'aggiunta di altri livelli nascosti (cioè, **2+**) alla rete produce **complessità inutile** che non migliora significativamente l'accuratezza predittiva sul test set;<br><br>\n",
    "* definizione: la **capacity** di una rete è la sua capacità di approssimare funzioni più o meno complesse (cioè, nel caso della classificazione, di Decision Boundary), e dipende dal numero di livelli nascosti e di nodi di questi livelli;<br><br>\n",
    "* in generale, a prescindere da questo esempio, una  rete neurale *feed-forward* con un <u>singolo livello nascosto con un grande numero di nodi</u> ha, in teoria, la capacità di approssimare (fittare) bene la maggior parte delle (tutte?) le funzioni (continue) **f(X.vett)**, sia nella regressione che nella classificazione; lo stabilisce infatti il [teorema dell'approssimazione universale](https://en.wikipedia.org/wiki/Universal_approximation_theorem);<br><br>\n",
    "* in pratica, tuttavia, è **molto più facile (computazionalmente) fittare una rete con molti livelli nascosti, ognuno con pochi nodi**;<br><br>\n",
    "* l'aggiunta di livelli nascosti, infatti, anzichè di nodi nascosti all'unico livello nascosto, rende la rete *più profonda* (*deeper* anzichè *wider*); una rete deep raggiunge la stessa capacity di una wide con meno parametri (il pro, da cui il vantaggio computazionale), ma è più esposta al rischio della [scomparsa del gradiente](https://it.wikipedia.org/wiki/Problema_della_scomparsa_del_gradiente) (il contro); <br><br>\n",
    "* inoltre una rete con molti parametri, come tutti i modelli di ML/DL, oltre ad essere più difficile da fittare, è maggiormente esposta al rischio di overfitting;<br><br>\n",
    "* in concreto, il consiglio è sempre di configurare inizialmente la rete con **1 livello nascosto**, <u>esplorando</u> il numero ottimale dei suoi nodi con la *GridSearch*, come si è fatto proprio in questo esempio; e poi eventualmente provare ad aumentare il numero di livelli nascosti, cercando la profondità e non l'ampiezza;<br><br>\n",
    "* una regola pratica (*rule of thumb*) a volte usata è: iniziare con 1 livello nascosto con *p* nodi (p = numero di predittori / feature) e poi gradualmente aumentare o diminuire il numero dei nodi in base all'andamento dell'accuratezza predittiva;<br><br>\n",
    "* ciò detto, le grandi reti neurali moderne sono sia deep che wide;<br><br>\n",
    "* un punto di attenzione, infine, molto importante: la capacità di fittare funzioni **non-lineari** NON dipende dal numero di livelli / nodi nascosti, ma dalla funzione di attivazione che si usa! [Una rete senza livelli nascosti (come il percettrone e l'adaline), comunque, non è in grado di fittare funzioni non-lineari f(X.vett); ed infatti, con le opportune funzioni di attivazione g, essa si riduce alla regressione lineare o logistica!]. Se una rete non è in grado di fittare efficacemente una certa funzione, sia l'accuratezza predittiva del training set che quella del test set sono basse (l'overfitting, al contrario, determina un'alta accuratezza predittiva sui dati di training e bassa sui dati di test). "
   ]
  },
  {
   "cell_type": "markdown",
   "id": "614a2e2e",
   "metadata": {},
   "source": [
    "### Prove con il livello nascosto"
   ]
  },
  {
   "cell_type": "code",
   "execution_count": 29,
   "id": "07888a7d",
   "metadata": {},
   "outputs": [
    {
     "name": "stdout",
     "output_type": "stream",
     "text": [
      "Confusion Matrix (Accuracy 0.8675)\n",
      "\n",
      "       Prediction\n",
      "Actual   0   1   2\n",
      "     0 218   0   1\n",
      "     1   0 116   3\n",
      "     2  24  25  13\n"
     ]
    }
   ],
   "source": [
    "clf = MLPClassifier(hidden_layer_sizes=(2,2), # the i-th element represents the number of neurons in the i-th hidden layer\n",
    "                    activation='logistic', solver='lbfgs', \n",
    "                    random_state=1)\n",
    "clf.fit(train_X, train_y.values)\n",
    "classificationSummary(valid_y, clf.predict(valid_X))\n",
    "                                              # --> leggero miglioramento!"
   ]
  },
  {
   "cell_type": "code",
   "execution_count": 31,
   "id": "b868748c",
   "metadata": {},
   "outputs": [
    {
     "name": "stdout",
     "output_type": "stream",
     "text": [
      "Confusion Matrix (Accuracy 0.8500)\n",
      "\n",
      "       Prediction\n",
      "Actual   0   1   2\n",
      "     0 218   1   0\n",
      "     1   0 116   3\n",
      "     2  24  32   6\n"
     ]
    }
   ],
   "source": [
    "clf = MLPClassifier(hidden_layer_sizes=(2,2,2), # the i-th element represents the number of neurons in the i-th hidden layer\n",
    "                    activation='logistic', solver='lbfgs', \n",
    "                    random_state=1, max_iter=1000)\n",
    "clf.fit(train_X, train_y.values)\n",
    "classificationSummary(valid_y, clf.predict(valid_X))\n",
    "                                              # --> invariato"
   ]
  },
  {
   "cell_type": "code",
   "execution_count": 32,
   "id": "b2e49c02",
   "metadata": {},
   "outputs": [
    {
     "name": "stdout",
     "output_type": "stream",
     "text": [
      "Confusion Matrix (Accuracy 0.5475)\n",
      "\n",
      "       Prediction\n",
      "Actual   0   1   2\n",
      "     0 219   0   0\n",
      "     1 119   0   0\n",
      "     2  62   0   0\n"
     ]
    }
   ],
   "source": [
    "clf = MLPClassifier(hidden_layer_sizes=(2,2,2,2), # the i-th element represents the number of neurons in the i-th hidden layer\n",
    "                    activation='logistic', solver='lbfgs', \n",
    "                    random_state=1, max_iter=1000)\n",
    "clf.fit(train_X, train_y.values)\n",
    "classificationSummary(valid_y, clf.predict(valid_X))\n",
    "                                              # --> grande peggioramento, come si evince anche chiaramemte dalla matrice\n",
    "                                              #     di confusione"
   ]
  },
  {
   "cell_type": "code",
   "execution_count": 33,
   "id": "7d5afe59",
   "metadata": {},
   "outputs": [
    {
     "name": "stdout",
     "output_type": "stream",
     "text": [
      "Confusion Matrix (Accuracy 0.8700)\n",
      "\n",
      "       Prediction\n",
      "Actual   0   1   2\n",
      "     0 218   0   1\n",
      "     1   0 113   6\n",
      "     2  24  21  17\n"
     ]
    }
   ],
   "source": [
    "clf = MLPClassifier(hidden_layer_sizes=(10,10,10,10), # the i-th element represents the number of neurons in the i-th hidden layer\n",
    "                    activation='logistic', solver='lbfgs', \n",
    "                    random_state=1, max_iter=1000)\n",
    "clf.fit(train_X, train_y.values)\n",
    "classificationSummary(valid_y, clf.predict(valid_X))\n",
    "                                              # --> un pò meglio"
   ]
  },
  {
   "cell_type": "code",
   "execution_count": 34,
   "id": "7983e135",
   "metadata": {},
   "outputs": [
    {
     "name": "stdout",
     "output_type": "stream",
     "text": [
      "Confusion Matrix (Accuracy 0.5475)\n",
      "\n",
      "       Prediction\n",
      "Actual   0   1   2\n",
      "     0 219   0   0\n",
      "     1 119   0   0\n",
      "     2  62   0   0\n"
     ]
    }
   ],
   "source": [
    "clf = MLPClassifier(hidden_layer_sizes=(100,10,10,10), # the i-th element represents the number of neurons in the i-th hidden layer\n",
    "                    activation='logistic', solver='lbfgs', \n",
    "                    random_state=1, max_iter=1000)\n",
    "clf.fit(train_X, train_y.values)\n",
    "classificationSummary(valid_y, clf.predict(valid_X))\n",
    "                                              # --> molto peggio"
   ]
  },
  {
   "cell_type": "code",
   "execution_count": 35,
   "id": "c7f53747",
   "metadata": {},
   "outputs": [
    {
     "name": "stdout",
     "output_type": "stream",
     "text": [
      "Confusion Matrix (Accuracy 0.5543)\n",
      "\n",
      "       Prediction\n",
      "Actual   0   1   2\n",
      "     0 332   0   0\n",
      "     1 180   0   0\n",
      "     2  87   0   0\n"
     ]
    }
   ],
   "source": [
    "# per curiosità vediamo l'accuratezza di questo modello sui dati di training:\n",
    "classificationSummary(train_y, clf.predict(train_X))\n",
    "                           # non è un problema di overfitting ma di fitting"
   ]
  },
  {
   "cell_type": "code",
   "execution_count": 36,
   "id": "b3aa06f1",
   "metadata": {},
   "outputs": [
    {
     "name": "stdout",
     "output_type": "stream",
     "text": [
      "Confusion Matrix (Accuracy 0.5475)\n",
      "\n",
      "       Prediction\n",
      "Actual   0   1   2\n",
      "     0 219   0   0\n",
      "     1 119   0   0\n",
      "     2  62   0   0\n"
     ]
    }
   ],
   "source": [
    "clf = MLPClassifier(hidden_layer_sizes=(2), # the i-th element represents the number of neurons in the i-th hidden layer\n",
    "                    activation='logistic', solver='sgd', \n",
    "                    random_state=1, max_iter=1000)\n",
    "clf.fit(train_X, train_y.values)\n",
    "classificationSummary(valid_y, clf.predict(valid_X))\n",
    "                                              # --> molto peggio (come noto con piccoli dataset)"
   ]
  },
  {
   "cell_type": "code",
   "execution_count": 37,
   "id": "b43fcef7",
   "metadata": {},
   "outputs": [
    {
     "name": "stdout",
     "output_type": "stream",
     "text": [
      "Confusion Matrix (Accuracy 0.8450)\n",
      "\n",
      "       Prediction\n",
      "Actual   0   1   2\n",
      "     0 218   0   1\n",
      "     1   0 119   0\n",
      "     2  27  34   1\n"
     ]
    }
   ],
   "source": [
    "clf = MLPClassifier(hidden_layer_sizes=(2), # the i-th element represents the number of neurons in the i-th hidden layer\n",
    "                    activation='logistic', solver='adam', \n",
    "                    random_state=1, max_iter=2000)\n",
    "clf.fit(train_X, train_y.values)\n",
    "classificationSummary(valid_y, clf.predict(valid_X))\n",
    "                                              # --> con 1000 iterazioni non converge\n",
    "                                              # --> con 2000 iterazioni, è quasi uguale a 'lbfgs'"
   ]
  },
  {
   "cell_type": "markdown",
   "id": "1170213c",
   "metadata": {},
   "source": [
    "### Cross-Validation con *MLPClassifier* \n",
    "Vedi [qui](https://datascience.stackexchange.com/questions/19768/how-to-implement-pythons-mlpclassifier-with-gridsearchcv)."
   ]
  },
  {
   "cell_type": "code",
   "execution_count": 54,
   "id": "95bd5acf",
   "metadata": {},
   "outputs": [
    {
     "name": "stdout",
     "output_type": "stream",
     "text": [
      "Fitting 5 folds for each of 72 candidates, totalling 360 fits\n",
      "--- 620.7370181083679 seconds ---\n"
     ]
    }
   ],
   "source": [
    "# 620 secondi con processore 4GHZ e 16 GB RAM\n",
    "import time\n",
    "start_time = time.time()\n",
    "\n",
    "RANDOM_SEED = 1\n",
    "GRID = [\n",
    "    {'scaler': [StandardScaler()],\n",
    "     'estimator': [MLPClassifier(random_state=RANDOM_SEED)],\n",
    "     'estimator__solver': ['adam'],\n",
    "     'estimator__learning_rate_init': [0.0001],\n",
    "     'estimator__max_iter': [300],\n",
    "     'estimator__hidden_layer_sizes': [(500, 400, 300, 200, 100), (400, 400, 400, 400, 400), (300, 300, 300, 300, 300), (200, 200, 200, 200, 200)],\n",
    "     'estimator__activation': ['logistic', 'tanh', 'relu'],\n",
    "     'estimator__alpha': [0.0001, 0.001, 0.005],\n",
    "     'estimator__early_stopping': [True, False]\n",
    "     }\n",
    "]\n",
    "\n",
    "# 72 possibili combinazioni(4 sizes x 3 activation x 3 alpha x 2 early_stopping)\n",
    "PIPELINE = Pipeline([('scaler', None), ('estimator', MLPClassifier())])\n",
    "CV_SPLIT = 5\n",
    "\n",
    "grid_search = GridSearchCV(estimator=PIPELINE, param_grid=GRID, \n",
    "                            scoring=make_scorer(accuracy_score),# average='macro'), \n",
    "                            n_jobs=-1, cv=CV_SPLIT, refit=True, verbose=1, \n",
    "                            return_train_score=False)\n",
    "\n",
    "grid_search.fit(X, y)\n",
    "\n",
    "print(\"--- %s seconds ---\" % (time.time() - start_time))"
   ]
  },
  {
   "cell_type": "code",
   "execution_count": null,
   "id": "dd23d0fa",
   "metadata": {},
   "outputs": [],
   "source": []
  },
  {
   "cell_type": "code",
   "execution_count": 35,
   "id": "88d586ed",
   "metadata": {},
   "outputs": [
    {
     "ename": "NameError",
     "evalue": "name 'grid_search' is not defined",
     "output_type": "error",
     "traceback": [
      "\u001b[1;31m---------------------------------------------------------------------------\u001b[0m",
      "\u001b[1;31mNameError\u001b[0m                                 Traceback (most recent call last)",
      "\u001b[1;32m~\\AppData\\Local\\Temp/ipykernel_15324/3378456847.py\u001b[0m in \u001b[0;36m<module>\u001b[1;34m\u001b[0m\n\u001b[1;32m----> 1\u001b[1;33m \u001b[0mgrid_search\u001b[0m\u001b[1;33m.\u001b[0m\u001b[0mcv_results_\u001b[0m\u001b[1;33m\u001b[0m\u001b[1;33m\u001b[0m\u001b[0m\n\u001b[0m",
      "\u001b[1;31mNameError\u001b[0m: name 'grid_search' is not defined"
     ]
    }
   ],
   "source": [
    "grid_search.cv_results_"
   ]
  },
  {
   "cell_type": "code",
   "execution_count": 58,
   "id": "f8a8913d",
   "metadata": {},
   "outputs": [
    {
     "data": {
      "text/plain": [
       "Pipeline(steps=[('scaler', StandardScaler()),\n",
       "                ('estimator',\n",
       "                 MLPClassifier(activation='tanh', early_stopping=True,\n",
       "                               hidden_layer_sizes=(300, 300, 300, 300, 300),\n",
       "                               learning_rate_init=0.0001, max_iter=300,\n",
       "                               random_state=1))])"
      ]
     },
     "execution_count": 58,
     "metadata": {},
     "output_type": "execute_result"
    }
   ],
   "source": [
    "grid_search.best_estimator_"
   ]
  },
  {
   "cell_type": "code",
   "execution_count": 59,
   "id": "0f5b6278",
   "metadata": {},
   "outputs": [
    {
     "data": {
      "text/plain": [
       "0.8658743718592966"
      ]
     },
     "execution_count": 59,
     "metadata": {},
     "output_type": "execute_result"
    }
   ],
   "source": [
    "grid_search.best_score_"
   ]
  },
  {
   "cell_type": "code",
   "execution_count": 60,
   "id": "86267e53",
   "metadata": {},
   "outputs": [
    {
     "data": {
      "text/plain": [
       "{'estimator': MLPClassifier(activation='tanh', early_stopping=True,\n",
       "               hidden_layer_sizes=(300, 300, 300, 300, 300),\n",
       "               learning_rate_init=0.0001, max_iter=300, random_state=1),\n",
       " 'estimator__activation': 'tanh',\n",
       " 'estimator__alpha': 0.0001,\n",
       " 'estimator__early_stopping': True,\n",
       " 'estimator__hidden_layer_sizes': (300, 300, 300, 300, 300),\n",
       " 'estimator__learning_rate_init': 0.0001,\n",
       " 'estimator__max_iter': 300,\n",
       " 'estimator__solver': 'adam',\n",
       " 'scaler': StandardScaler()}"
      ]
     },
     "execution_count": 60,
     "metadata": {},
     "output_type": "execute_result"
    }
   ],
   "source": [
    "grid_search.best_params_"
   ]
  },
  {
   "cell_type": "markdown",
   "id": "3b1f3d20",
   "metadata": {},
   "source": [
    "Vedi anche [questo notebook](https://github.com/angeloruggieridj/MLPClassifier-with-GridSearchCV-Iris/blob/master/iris.ipynb)."
   ]
  },
  {
   "cell_type": "markdown",
   "id": "61247c67",
   "metadata": {},
   "source": [
    "### Fit delle probabilità di classe separate (3 risposte)\n",
    "(dal nb ch. 11 di DMBA python).<br>"
   ]
  },
  {
   "cell_type": "code",
   "execution_count": 44,
   "id": "45f7cb56",
   "metadata": {},
   "outputs": [
    {
     "name": "stdout",
     "output_type": "stream",
     "text": [
      "Confusion Matrix (Accuracy 0.8731)\n",
      "\n",
      "             Prediction\n",
      "      Actual MAX_SEV_IR_0 MAX_SEV_IR_1 MAX_SEV_IR_2\n",
      "MAX_SEV_IR_0          332            0            0\n",
      "MAX_SEV_IR_1            0          170           10\n",
      "MAX_SEV_IR_2           31           35           21\n",
      "\n",
      "Confusion Matrix (Accuracy 0.8675)\n",
      "\n",
      "             Prediction\n",
      "      Actual MAX_SEV_IR_0 MAX_SEV_IR_1 MAX_SEV_IR_2\n",
      "MAX_SEV_IR_0          218            0            1\n",
      "MAX_SEV_IR_1            0          113            6\n",
      "MAX_SEV_IR_2           24           22           16\n"
     ]
    }
   ],
   "source": [
    "accidents_df = dmba.load_data('accidentsnn.csv')\n",
    "accidents_df.SUR_COND = accidents_df.SUR_COND.astype('category')\n",
    "accidents_df.MAX_SEV_IR = accidents_df.MAX_SEV_IR.astype('category')\n",
    "processed = pd.get_dummies(accidents_df)\n",
    "processed = processed.drop(columns=['SUR_COND_9'])\n",
    "\n",
    "# ecco le tre risposte separate:\n",
    "outcome = ['MAX_SEV_IR_0', 'MAX_SEV_IR_1', 'MAX_SEV_IR_2']\n",
    "predictors = [c for c in processed.columns if c not in outcome]\n",
    "classes = sorted(outcome)\n",
    "\n",
    "X = processed[predictors]\n",
    "y = processed[outcome]\n",
    "train_X, valid_X, train_y, valid_y = train_test_split(X, y, test_size=0.4, random_state=1)\n",
    "clf = MLPClassifier(hidden_layer_sizes=(2), activation='logistic', solver='lbfgs',\n",
    "                    random_state=1, max_iter=500)\n",
    "clf.fit(train_X, train_y)\n",
    "\n",
    "# training performance (usa 'idxmax' per rovesciare il one-hot-encoding)\n",
    "trainPrediction = pd.DataFrame(clf.predict(train_X), columns=outcome).idxmax(axis=1)\n",
    "classificationSummary(train_y.idxmax(axis=1), trainPrediction, class_names=classes)\n",
    "\n",
    "print()\n",
    "\n",
    "# validation performance (usa 'idxmax' per rovesciare il one-hot-encoding)\n",
    "validPrediction = pd.DataFrame(clf.predict(valid_X), columns=outcome).idxmax(axis=1)\n",
    "classificationSummary(valid_y.idxmax(axis=1), validPrediction, class_names=classes)"
   ]
  },
  {
   "cell_type": "markdown",
   "id": "7ff88e02",
   "metadata": {},
   "source": [
    "### Evitare l'overfitting"
   ]
  },
  {
   "cell_type": "markdown",
   "id": "d7b272ed",
   "metadata": {},
   "source": [
    "## ML o DL?\n",
    "Vedi ISLR v2, pp. 432-433 e 443-445."
   ]
  },
  {
   "cell_type": "markdown",
   "id": "d22fc17a",
   "metadata": {},
   "source": [
    "## Esempio grande\n",
    "Classificazione con grande dataset, solver='sgd' e learning rate secondo le rule of thumb di DMfBA python, p. 298."
   ]
  },
  {
   "cell_type": "markdown",
   "id": "ab05b1b1",
   "metadata": {},
   "source": [
    "## Esempio giocattolo (di regressione)\n",
    "Con il metodo `MLPRegressor` di *scikit-learn*, l'analogo di `MLPClassifier` per la regressione.\n",
    "Usiamo come dataset Boston Housing che riguarda il prezzo delle case nei dintorni di Boston (anni 1970 circa)."
   ]
  },
  {
   "cell_type": "code",
   "execution_count": 45,
   "id": "f5782cce",
   "metadata": {},
   "outputs": [],
   "source": [
    "from sklearn.neural_network import MLPRegressor\n",
    "import numpy as np\n",
    "import matplotlib.pyplot as plt\n",
    "from sklearn import neural_network\n",
    "from sklearn import datasets\n",
    "from sklearn.model_selection import train_test_split\n",
    "from sklearn.metrics import mean_squared_error, explained_variance_score"
   ]
  },
  {
   "cell_type": "code",
   "execution_count": 46,
   "id": "80eafee7",
   "metadata": {},
   "outputs": [],
   "source": [
    "boston = datasets.load_boston()\n",
    "X = boston.data                  # i predittori\n",
    "y = boston.target                # le risposte\n",
    "X_train,X_test,y_train,y_test = train_test_split(X,y,test_size=0.2,random_state=42)"
   ]
  },
  {
   "cell_type": "code",
   "execution_count": 47,
   "id": "42103db7",
   "metadata": {},
   "outputs": [
    {
     "name": "stdout",
     "output_type": "stream",
     "text": [
      "Metodo: MLP con ReLU\n",
      "RMSE ottenuto: 3.6310\n"
     ]
    },
    {
     "data": {
      "image/png": "[encoded data removed]",
      "text/plain": [
       "<Figure size 432x288 with 1 Axes>"
      ]
     },
     "metadata": {
      "needs_background": "light"
     },
     "output_type": "display_data"
    },
    {
     "name": "stdout",
     "output_type": "stream",
     "text": [
      "Metodo: MLP con Logistic Neurons\n",
      "RMSE ottenuto: 4.6243\n"
     ]
    },
    {
     "name": "stderr",
     "output_type": "stream",
     "text": [
      "C:\\Users\\Lenovo\\anaconda3\\lib\\site-packages\\sklearn\\neural_network\\_multilayer_perceptron.py:500: ConvergenceWarning: lbfgs failed to converge (status=1):\n",
      "STOP: TOTAL NO. of ITERATIONS REACHED LIMIT.\n",
      "\n",
      "Increase the number of iterations (max_iter) or scale the data as shown in:\n",
      "    https://scikit-learn.org/stable/modules/preprocessing.html\n",
      "  self.n_iter_ = _check_optimize_result(\"lbfgs\", opt_res, self.max_iter)\n"
     ]
    },
    {
     "data": {
      "image/png": "[encoded data removed]",
      "text/plain": [
       "<Figure size 432x288 with 1 Axes>"
      ]
     },
     "metadata": {
      "needs_background": "light"
     },
     "output_type": "display_data"
    },
    {
     "name": "stdout",
     "output_type": "stream",
     "text": [
      "Metodo: MLP con TanH Neurons\n",
      "RMSE ottenuto: 4.5945\n"
     ]
    },
    {
     "name": "stderr",
     "output_type": "stream",
     "text": [
      "C:\\Users\\Lenovo\\anaconda3\\lib\\site-packages\\sklearn\\neural_network\\_multilayer_perceptron.py:500: ConvergenceWarning: lbfgs failed to converge (status=1):\n",
      "STOP: TOTAL NO. of f AND g EVALUATIONS EXCEEDS LIMIT.\n",
      "\n",
      "Increase the number of iterations (max_iter) or scale the data as shown in:\n",
      "    https://scikit-learn.org/stable/modules/preprocessing.html\n",
      "  self.n_iter_ = _check_optimize_result(\"lbfgs\", opt_res, self.max_iter)\n"
     ]
    },
    {
     "data": {
      "image/png": "[encoded data removed]",
      "text/plain": [
       "<Figure size 432x288 with 1 Axes>"
      ]
     },
     "metadata": {
      "needs_background": "light"
     },
     "output_type": "display_data"
    }
   ],
   "source": [
    "# la costruzione ed il confronto di 3 modelli di regressione NN con differenti funzioni di attivazione e solver\n",
    "n_fig = 0\n",
    "for name,nn_unit in [\n",
    "    ('MLP con ReLU', neural_network.MLPRegressor(activation='relu',solver='lbfgs',max_iter=10000)),\n",
    "    ('MLP con Logistic Neurons', neural_network.MLPRegressor(activation='logistic',solver='lbfgs',max_iter=10000)),\n",
    "    ('MLP con TanH Neurons', neural_network.MLPRegressor(activation='tanh',solver='lbfgs',max_iter=100000)),\n",
    "]:\n",
    "    modello = nn_unit.fit(X_train,y_train)\n",
    "    yp = nn_unit.predict(X_test)                  # le previsioni\n",
    "    rmse = np.sqrt(mean_squared_error(y_test,yp)) # il rooted MSE\n",
    "    print('Metodo: %s' %name)\n",
    "    print('RMSE ottenuto: %.4f' %rmse)\n",
    "    n_fig = n_fig + 1\n",
    "    plt.figure(n_fig)\n",
    "    plt.plot(yp,y_test,'ro')\n",
    "    plt.xlabel('Numero previsto')\n",
    "    plt.title('Metodo: %s RMSE: %.2f' %(name,rmse))\n",
    "    plt.ylabel('Numero reale')\n",
    "    plt.grid(True)\n",
    "    plt.show()\n",
    "    \n",
    "                       # --> Vince il modello con il valore a sx (nel plot) più basso."
   ]
  },
  {
   "cell_type": "markdown",
   "id": "0dfece0c",
   "metadata": {},
   "source": [
    "[Qui](https://scikit-learn.org/stable/auto_examples/neural_networks/plot_mlp_training_curves.html) c'è il codice per le curve delle loss function per alcune impostazioni del modello, per confrontare le prestazioni predittive e scegliere la combinazione migliore."
   ]
  },
  {
   "cell_type": "code",
   "execution_count": 67,
   "id": "b81ad840",
   "metadata": {},
   "outputs": [
    {
     "data": {
      "text/plain": [
       "[array([[ 1.02747463e-01, -1.14201148e+00, -1.65433894e-01, ...,\n",
       "         -1.01651939e-01, -1.02977394e-01, -3.39433730e-03],\n",
       "        [-7.61371573e-02,  2.35646574e-01, -2.27711464e-02, ...,\n",
       "          8.73863944e-02, -1.22391419e-01, -1.62802931e-01],\n",
       "        [ 2.09064949e-01,  3.94588532e-01, -2.17706736e-01, ...,\n",
       "         -1.18558537e-01,  1.99900203e-02,  1.79027107e-01],\n",
       "        ...,\n",
       "        [-1.70074800e-01, -1.06136237e-01,  1.20187073e-04, ...,\n",
       "         -1.75990893e-02,  5.06718373e-02,  1.26764241e-01],\n",
       "        [ 1.91261705e-01,  5.27270915e-01,  4.97226675e-02, ...,\n",
       "          2.93656014e-01,  1.30886933e-01, -1.41721270e-02],\n",
       "        [ 2.51160735e-02, -2.33632438e+00, -1.62498286e-01, ...,\n",
       "          2.37494713e-01, -8.49409490e-02, -1.15875415e-01]]),\n",
       " array([[ 2.19490529e-01],\n",
       "        [ 1.38828931e+00],\n",
       "        [ 5.09640844e-01],\n",
       "        [ 5.18036654e-01],\n",
       "        [ 2.44458820e-01],\n",
       "        [-5.25756302e-01],\n",
       "        [-5.64504114e-01],\n",
       "        [-4.36118903e-01],\n",
       "        [ 2.81825568e-01],\n",
       "        [ 1.91524958e+00],\n",
       "        [ 9.58006638e-02],\n",
       "        [-5.36233209e-01],\n",
       "        [-3.34016725e-01],\n",
       "        [ 5.04912753e-01],\n",
       "        [ 3.23279628e+00],\n",
       "        [ 2.99511800e-01],\n",
       "        [ 3.80071057e-01],\n",
       "        [-3.42768831e-01],\n",
       "        [ 5.37802094e-01],\n",
       "        [ 4.08407466e-01],\n",
       "        [ 5.72932402e-01],\n",
       "        [ 1.24081120e+00],\n",
       "        [ 4.08657106e-01],\n",
       "        [-4.53307820e-01],\n",
       "        [ 2.48938470e+00],\n",
       "        [ 3.83388068e-01],\n",
       "        [ 5.71872253e-01],\n",
       "        [-1.78147761e-01],\n",
       "        [-2.60360211e-01],\n",
       "        [ 2.29067324e-01],\n",
       "        [-2.54351698e-01],\n",
       "        [-4.62869268e-01],\n",
       "        [ 2.11969362e-01],\n",
       "        [-2.70963763e+00],\n",
       "        [-5.28931799e-01],\n",
       "        [ 3.14226538e-01],\n",
       "        [ 1.54269190e-01],\n",
       "        [-3.73518836e-01],\n",
       "        [-3.66025619e-01],\n",
       "        [ 4.67795599e-01],\n",
       "        [ 1.61762726e-01],\n",
       "        [ 5.65550888e-01],\n",
       "        [ 4.50723177e-01],\n",
       "        [-2.79358122e-01],\n",
       "        [-2.65949436e-01],\n",
       "        [-2.90601029e+00],\n",
       "        [ 5.67685662e-01],\n",
       "        [-3.61301568e-01],\n",
       "        [-4.59523460e-01],\n",
       "        [-4.56038522e-01],\n",
       "        [-2.99271466e-01],\n",
       "        [ 5.43970441e-01],\n",
       "        [ 4.73214458e-01],\n",
       "        [-5.45943769e-01],\n",
       "        [-4.76805785e-01],\n",
       "        [-2.38973871e-01],\n",
       "        [-3.46367633e-01],\n",
       "        [-1.27011065e-01],\n",
       "        [ 8.47866374e+00],\n",
       "        [ 1.62703150e-01],\n",
       "        [ 4.72090612e-01],\n",
       "        [ 2.84263226e-01],\n",
       "        [-1.16246157e-01],\n",
       "        [ 2.24186248e+00],\n",
       "        [ 2.84066391e-01],\n",
       "        [ 1.52543112e+00],\n",
       "        [ 1.53295299e-01],\n",
       "        [-2.26772173e-01],\n",
       "        [-5.10712039e-01],\n",
       "        [ 5.57873009e-01],\n",
       "        [-1.65972137e-01],\n",
       "        [ 2.63840937e-01],\n",
       "        [-8.20970079e-01],\n",
       "        [ 5.69317321e-01],\n",
       "        [-2.78010096e+00],\n",
       "        [ 3.35337480e-01],\n",
       "        [-5.08430531e-01],\n",
       "        [ 9.77374073e-02],\n",
       "        [-6.11031510e-03],\n",
       "        [-5.75756129e-01],\n",
       "        [ 7.79694014e-01],\n",
       "        [ 3.79793130e-01],\n",
       "        [-2.27040137e-02],\n",
       "        [-1.09284866e-01],\n",
       "        [ 8.42445233e-01],\n",
       "        [-5.13089445e-01],\n",
       "        [ 2.74050852e-01],\n",
       "        [-4.74757331e-01],\n",
       "        [ 1.09702199e-01],\n",
       "        [-2.68491307e+00],\n",
       "        [ 5.26720762e-01],\n",
       "        [-5.12779616e-01],\n",
       "        [-2.90460321e-01],\n",
       "        [ 1.59519130e+00],\n",
       "        [ 4.93782637e-01],\n",
       "        [ 3.86153673e-01],\n",
       "        [ 1.50103274e-01],\n",
       "        [-4.98944932e-02],\n",
       "        [ 3.05392997e-01],\n",
       "        [ 2.65379263e-01]])]"
      ]
     },
     "execution_count": 67,
     "metadata": {},
     "output_type": "execute_result"
    }
   ],
   "source": [
    "modello.coefs_"
   ]
  },
  {
   "cell_type": "markdown",
   "id": "6593b43e",
   "metadata": {},
   "source": [
    "## to-do list\n",
    "* drop-out: prove e teoria\n",
    "* transfer learning (classificatore pre-allenato): come usare ImageNet\n",
    "* data augmentation: prove\n",
    "* il gradiente vanishing (anche teoria)\n",
    "* la doppia discesa del gradiente (anche teoria)"
   ]
  },
  {
   "cell_type": "code",
   "execution_count": null,
   "id": "5f9a92ba",
   "metadata": {},
   "outputs": [],
   "source": []
  }
 ],
 "metadata": {
  "kernelspec": {
   "display_name": "Python 3 (ipykernel)",
   "language": "python",
   "name": "python3"
  },
  "language_info": {
   "codemirror_mode": {
    "name": "ipython",
    "version": 3
   },
   "file_extension": ".py",
   "mimetype": "text/x-python",
   "name": "python",
   "nbconvert_exporter": "python",
   "pygments_lexer": "ipython3",
   "version": "3.9.7"
  },
  "toc": {
   "base_numbering": 1,
   "nav_menu": {},
   "number_sections": true,
   "sideBar": true,
   "skip_h1_title": false,
   "title_cell": "Table of Contents",
   "title_sidebar": "Contents",
   "toc_cell": false,
   "toc_position": {
    "height": "calc(100% - 180px)",
    "left": "10px",
    "top": "150px",
    "width": "218.238px"
   },
   "toc_section_display": true,
   "toc_window_display": false
  },
  "varInspector": {
   "cols": {
    "lenName": 16,
    "lenType": 16,
    "lenVar": 40
   },
   "kernels_config": {
    "python": {
     "delete_cmd_postfix": "",
     "delete_cmd_prefix": "del ",
     "library": "var_list.py",
     "varRefreshCmd": "print(var_dic_list())"
    },
    "r": {
     "delete_cmd_postfix": ") ",
     "delete_cmd_prefix": "rm(",
     "library": "var_list.r",
     "varRefreshCmd": "cat(var_dic_list()) "
    }
   },
   "position": {
    "height": "334.844px",
    "left": "1194.44px",
    "right": "20px",
    "top": "146.989px",
    "width": "451.009px"
   },
   "types_to_exclude": [
    "module",
    "function",
    "builtin_function_or_method",
    "instance",
    "_Feature"
   ],
   "window_display": false
  }
 },
 "nbformat": 4,
 "nbformat_minor": 5
}
