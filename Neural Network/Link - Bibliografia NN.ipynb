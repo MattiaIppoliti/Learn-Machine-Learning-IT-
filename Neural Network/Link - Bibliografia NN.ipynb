{
 "cells": [
  {
   "cell_type": "markdown",
   "id": "f1a2ac1d",
   "metadata": {},
   "source": [
    "**La storia del Deep Learning**:<br>\n",
    "[La storia del Deep Learning](https://www.thestar.com/news/world/2015/04/17/how-a-toronto-professors-research-revolutionized-artificial-intelligence.html)<br>\n",
    "[L'intervista iniziale del 2012 al prof. Hinton](https://www.wired.com/story/googles-ai-wizard-unveils-a-new-twist-on-neural-networks/#:~:text=Google's%20Geoff%20Hinton%20helped%20catalyze,smarter%20at%20understanding%20the%20world.)<br>\n",
    "[Il sito del prof. Hinton, con molte interessanti risorse](https://www.cs.toronto.edu/~hinton/)<br>\n",
    "[L'articolo su *Nature* di LeCun, Bengio ed Hinton](https://www.cs.toronto.edu/~hinton/absps/NatureDeepReview.pdf)"
   ]
  },
  {
   "cell_type": "markdown",
   "id": "bc857cd8",
   "metadata": {},
   "source": [
    "**Raccolte di link utili per conoscere tecniche, aspetti matematici, ottimizzazione e codice sul tema del Deep Learning**:<br>\n",
    "[di JiayunLi](https://github.com/JiayunLi/foundations_for_deep_learning)<br>\n",
    "[di Raschka](https://github.com/rasbt/deeplearning-models)\n"
   ]
  },
  {
   "cell_type": "markdown",
   "id": "b89baf60",
   "metadata": {},
   "source": [
    "**Nozioni matematiche sul Deep Learning**:<br>\n",
    "[Riepilogo](https://towardsdatascience.com/deep-learning-basic-mathematics-for-deep-learning-a82981e95e3b)<br>\n",
    "[Funzioni di attivazione](https://analyticsindiamag.com/most-common-activation-functions-in-neural-networks-and-rationale-behind-it)<br>"
   ]
  },
  {
   "cell_type": "markdown",
   "id": "ef279a48",
   "metadata": {},
   "source": [
    "**Libri sul Deep Learning**:<br>\n",
    "[La matematica delle Reti Neurali: il testo base, ad un livello matematico accessibile](https://www.amazon.it/Learning-Adaptive-Computation-Machine-English-ebook/dp/B08FH8Y533/ref=sr_1_1?crid=3HY3IYSVYASID&keywords=goodfellow+bengio&qid=1649589165&s=books&sprefix=goodfellow+bengio%2Cstripbooks%2C68&sr=1-1)<br>\n",
    "[NN con python di Raschka (5 capp. dedicati alle NN): il testo migliore con *python*](https://www.amazon.it/Python-Machine-Learning-scikit-learn-TensorFlow/dp/1789955750/ref=sr_1_2?crid=FE8IBKBHTJLY&keywords=raschka&qid=1649589214&s=books&sprefix=raschka%2Cstripbooks%2C77&sr=1-2)<br>\n",
    "[Il recentissimo nuovo libro di Raschka sulle Reti Neurali in python con *pyTorch*](https://www.amazon.it/Machine-Learning-PyTorch-Scikit-Learn-learning/dp/1801819319/ref=sr_1_1?crid=FE8IBKBHTJLY&keywords=raschka&qid=1649589288&s=books&sprefix=raschka%2Cstripbooks%2C77&sr=1-1)<br>\n",
    "[Un'ottima sintesi (ch. 10) con laboratorio in R (a parte)](https://www.amazon.it/Introduction-Statistical-Learning-Applications/dp/1071614177/ref=sr_1_3?crid=30FIJM5IPREBX&keywords=hastie+tibshirani&qid=1649589409&s=books&sprefix=hastie+tibshirani%2Cstripbooks%2C68&sr=1-3)<br>\n",
    "[Un approccio discorsivo, con molti esempi e disegni colorati per una rapida comprensione](https://www.amazon.it/Deep-Learning-Illustrated-Interactive-Intelligence/dp/0135116694/ref=sr_1_1?__mk_it_IT=%C3%85M%C3%85%C5%BD%C3%95%C3%91&crid=1MOHFGL8Q4ZDP&keywords=deep+learning+illustrated&qid=1649602469&s=books&sprefix=deep+learning+illustrated%2Cstripbooks%2C223&sr=1-1)"
   ]
  },
  {
   "cell_type": "markdown",
   "id": "dd5db77f",
   "metadata": {},
   "source": [
    "**Canali web**:<br>\n",
    "[DeepLearningTV di *YouTube*](https://www.youtube.com/c/deeplearningtv)"
   ]
  },
  {
   "cell_type": "markdown",
   "id": "5d5d3219",
   "metadata": {},
   "source": [
    "**Raccolte di algoritmi**:<br>\n",
    "[generale](https://github.com/iArunava/scratchai)<br>\n",
    "[in Python](https://towardsdatascience.com/best-python-libraries-for-machine-learning-and-deep-learning-b0bd40c7e8c)"
   ]
  },
  {
   "cell_type": "markdown",
   "id": "26e2341b",
   "metadata": {},
   "source": [
    "[**Colab di Google**](https://colab.research.google.com/notebooks/welcome.ipynb?hl=it):<br>\n",
    "[le basi del deep learning](https://colab.research.google.com/github/lexfridman/mit-deep-learning/blob/master/tutorial_deep_learning_basics/deep_learning_basics.ipynb)"
   ]
  },
  {
   "cell_type": "markdown",
   "id": "0e24b7f4",
   "metadata": {},
   "source": [
    "**Siti interattivi/animazioni**:<br>\n",
    "[Demo di rete neurale con *TensorFlow*, ricca di possibilità e visualizzazioni](http://playground.tensorflow.org/#activation=tanh&batchSize=10&dataset=circle&regDataset=reg-plane&learningRate=0.03&regularizationRate=0&noise=0&networkShape=4,2&seed=0.34512&showTestData=false&discretize=false&percTrainData=50&x=true&y=true&xTimesY=false&xSquared=false&ySquared=false&cosX=false&sinX=false&cosY=false&sinY=false&collectStats=false&problem=classification&initZero=false&hideText=false)<br>\n",
    "[Animazioni caratteristiche ed esempi di elaborazione con vari tipi di rete neurale](https://cs.stanford.edu/people/karpathy/convnetjs/index.html)<br>\n",
    "\n",
    "Per imparare, può essere utile interagire con una rete neurale tramite il browser.<br>\n",
    "Serve a prendere confidenza con le reti neurali, fare esperimenti, imparare i concetti fondamentali, provare qualche forma di visualizzazione.<br>\n",
    "Per i seguenti link, occorre avere un browser in grado di eseguire codice *javascript* e *Node.js*.<br>\n",
    "[Esecuzione di MLP: codice da modificare e vedere l'effetto](https://github.com/cazala/synaptic)<br>\n",
    "[Demo](http://caza.la/synaptic/#/)<br>\n",
    "[Risorse interattive da sperimentare](https://p.migdal.pl/interactive-machine-learning-list/)<br>\n",
    "\n"
   ]
  },
  {
   "cell_type": "markdown",
   "id": "d349efb7",
   "metadata": {},
   "source": [
    "**Pattern Recognition**:<br>\n",
    "[Il testo di riferimento](https://www.amazon.it/Pattern-Recognition-Machine-Learning-Christopher/dp/0387310738/ref=sr_1_1?__mk_it_IT=%C3%85M%C3%85%C5%BD%C3%95%C3%91&crid=35XOQVIFHBZTN&keywords=pattern+recognition+bishop&qid=1649603660&s=books&sprefix=pattern+recognition+bishop%2Cstripbooks%2C137&sr=1-1)"
   ]
  },
  {
   "cell_type": "markdown",
   "id": "1565c20d",
   "metadata": {},
   "source": [
    "**Altro**:<br>\n",
    "[Una ricetta per allenare reti neurali](http://karpathy.github.io/2019/04/25/recipe/)<br>\n",
    "[Glossario di Deep Learning](https://www.nvidia.com/en-us/data-center/resources/deep-learning-glossary/)<br>\n",
    "[Blog](https://www.dlology.com/)"
   ]
  },
  {
   "cell_type": "markdown",
   "id": "7a4fb088",
   "metadata": {},
   "source": [
    "**Siti italiani**:<br>\n",
    "[Deep Learning Italia](www.deeplearningitalia.com)<br>\n",
    "[Info da *nvidia*: descrizione dei suoi prodotti e formazione sul Deep Learning](https://www.nvidia.com/it-it/deeplearning-ai/)"
   ]
  },
  {
   "cell_type": "code",
   "execution_count": null,
   "id": "2327fb24",
   "metadata": {},
   "outputs": [],
   "source": []
  }
 ],
 "metadata": {
  "kernelspec": {
   "display_name": "Python 3 (ipykernel)",
   "language": "python",
   "name": "python3"
  },
  "language_info": {
   "codemirror_mode": {
    "name": "ipython",
    "version": 3
   },
   "file_extension": ".py",
   "mimetype": "text/x-python",
   "name": "python",
   "nbconvert_exporter": "python",
   "pygments_lexer": "ipython3",
   "version": "3.9.7"
  },
  "toc": {
   "base_numbering": 1,
   "nav_menu": {},
   "number_sections": true,
   "sideBar": true,
   "skip_h1_title": false,
   "title_cell": "Table of Contents",
   "title_sidebar": "Contents",
   "toc_cell": false,
   "toc_position": {},
   "toc_section_display": true,
   "toc_window_display": false
  },
  "varInspector": {
   "cols": {
    "lenName": 16,
    "lenType": 16,
    "lenVar": 40
   },
   "kernels_config": {
    "python": {
     "delete_cmd_postfix": "",
     "delete_cmd_prefix": "del ",
     "library": "var_list.py",
     "varRefreshCmd": "print(var_dic_list())"
    },
    "r": {
     "delete_cmd_postfix": ") ",
     "delete_cmd_prefix": "rm(",
     "library": "var_list.r",
     "varRefreshCmd": "cat(var_dic_list()) "
    }
   },
   "types_to_exclude": [
    "module",
    "function",
    "builtin_function_or_method",
    "instance",
    "_Feature"
   ],
   "window_display": false
  }
 },
 "nbformat": 4,
 "nbformat_minor": 5
}
